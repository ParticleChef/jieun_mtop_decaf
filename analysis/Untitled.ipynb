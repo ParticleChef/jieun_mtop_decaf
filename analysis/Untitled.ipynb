{
 "cells": [
  {
   "cell_type": "code",
   "execution_count": null,
   "id": "ca445a11",
   "metadata": {},
   "outputs": [],
   "source": [
    "import time\n",
    "from coffea import hist, nanoevents, util\n",
    "import coffea.processor as processor\n",
    "import awkward as ak\n",
    "import numpy as np\n",
    "import glob as glob\n",
    "import re\n",
    "import itertools\n",
    "# import vector as vec\n",
    "from coffea.nanoevents.methods import vector, candidate\n",
    "from coffea.nanoevents import NanoAODSchema, BaseSchema\n",
    "from coffea.lumi_tools import LumiMask\n",
    "# for applying JECs\n",
    "from coffea.lookup_tools import extractor\n",
    "from coffea.jetmet_tools import CorrectedJetsFactory, JECStack, JetCorrectionUncertainty\n",
    "from coffea.jetmet_tools import JetResolution, JetResolutionScaleFactor\n",
    "# from jmeCorrections import JetMetCorrections\n",
    "import json\n",
    "\n",
    "\n",
    "import coffea.processor as processor\n",
    "from coffea import hist\n",
    "from coffea.analysis_tools import PackedSelection, Weights\n",
    "from coffea.nanoevents import NanoAODSchema, NanoEventsFactory\n",
    "from coffea.nanoevents.methods import nanoaod\n",
    "\n",
    "# NanoAODSchema.warn_missing_crossrefs = False\n",
    "\n",
    "import pickle\n",
    "np.errstate(invalid='ignore', divide='ignore')"
   ]
  },
  {
   "cell_type": "code",
   "execution_count": null,
   "id": "72625415",
   "metadata": {},
   "outputs": [],
   "source": []
  }
 ],
 "metadata": {
  "kernelspec": {
   "display_name": "Python 3",
   "language": "python",
   "name": "python3"
  },
  "language_info": {
   "codemirror_mode": {
    "name": "ipython",
    "version": 3
   },
   "file_extension": ".py",
   "mimetype": "text/x-python",
   "name": "python",
   "nbconvert_exporter": "python",
   "pygments_lexer": "ipython3",
   "version": "3.8.8"
  }
 },
 "nbformat": 4,
 "nbformat_minor": 5
}
