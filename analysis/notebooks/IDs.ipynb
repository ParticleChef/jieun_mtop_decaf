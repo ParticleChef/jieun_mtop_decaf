{
 "cells": [
  {
   "cell_type": "code",
   "execution_count": 1,
   "metadata": {},
   "outputs": [
    {
     "name": "stderr",
     "output_type": "stream",
     "text": [
      "/cms/ldap_home/sdogra/.local/lib/python3.6/site-packages/awkward0/__init__.py:23: FutureWarning: Consider switching from 'awkward0' to 'awkward', since the new interface became the default in 2020.\n",
      "\n",
      "    pip install -U awkward\n",
      "\n",
      "In Python:\n",
      "\n",
      "    >>> import awkward as ak\n",
      "    >>> new_style_array = ak.from_awkward0(old_style_array)\n",
      "    >>> old_style_array = ak.to_awkward0(new_style_array)\n",
      "\n",
      "  FutureWarning\n"
     ]
    }
   ],
   "source": [
    "import awkward                                                                                                                                                                         \n",
    "import uproot3\n",
    "import numpy as np\n",
    "from coffea.util import save\n"
   ]
  },
  {
   "cell_type": "code",
   "execution_count": 3,
   "metadata": {},
   "outputs": [],
   "source": [
    "#Electron_cutBased  Int_t   cut-based ID Fall17 V2 (0:fail, 1:veto, 2:loose, 3:medium, 4:tight)\n",
    "def isLooseElectron(pt,eta,dxy,dz,veto_id,year):\n",
    "    mask = ~(pt==np.nan)#just a complicated way to initialize a jagged array with the needed shape to True\n",
    "    if year=='2016':\n",
    "        mask = ((pt>15)&(abs(eta)<1.4442)&(abs(dxy)<0.05)&(abs(dz)<0.1)&(veto_id>=1)) | ((pt>15)&(abs(eta)>1.5660)&(abs(eta)<2.5)&(abs(dxy)<0.1)&(abs(dz)<0.2)&(veto_id>=1))\n",
    "    elif year=='2017':\n",
    "        mask = ((pt>15)&(abs(eta)<1.4442)&(abs(dxy)<0.05)&(abs(dz)<0.1)&(veto_id>=1)) | ((pt>15)&(abs(eta)>1.5660)&(abs(eta)<2.5)&(abs(dxy)<0.1)&(abs(dz)<0.2)&(veto_id>=1))\n",
    "    elif year=='2018':\n",
    "        mask = ((pt>15)&(abs(eta)<1.4442)&(abs(dxy)<0.05)&(abs(dz)<0.1)&(veto_id>=1)) | ((pt>15)&(abs(eta)>1.5660)&(abs(eta)<2.5)&(abs(dxy)<0.1)&(abs(dz)<0.2)&(veto_id>=1))\n",
    "    return mask\n"
   ]
  },
  {
   "cell_type": "code",
   "execution_count": 4,
   "metadata": {},
   "outputs": [],
   "source": [
    "#2017/18 pT thresholds adjusted to match monojet, using dedicated ID SFs\n",
    "def isTightElectron(pt,eta,dxy,dz,tight_id,year):\n",
    "    mask = ~(pt==np.nan)#just a complicated way to initialize a jagged array with the needed shape to True\n",
    "    if year=='2016':\n",
    "        mask = ((pt>29)&(abs(eta)<1.4442)&(abs(dxy)<0.05)&(abs(dz)<0.1)&(tight_id==4)) | ((pt>29)&(abs(eta)>1.5660)&(abs(eta)<2.5)&(abs(dxy)<0.1)&(abs(dz)<0.2)&(tight_id==4)) #       Trigger: HLT_Ele27_WPTight_Gsf_v\n",
    "    elif year=='2017':\n",
    "        mask = ((pt>40)&(abs(eta)<1.4442)&(abs(dxy)<0.05)&(abs(dz)<0.1)&(tight_id==4)) | ((pt>40)&(abs(eta)>1.5660)&(abs(eta)<2.5)&(abs(dxy)<0.1)&(abs(dz)<0.2)&(tight_id==4)) #       Trigger: HLT_Ele35_WPTight_Gsf_v\n",
    "    elif year=='2018':\n",
    "        mask = ((pt>40)&(abs(eta)<1.4442)&(abs(dxy)<0.05)&(abs(dz)<0.1)&(tight_id==4)) | ((pt>40)&(abs(eta)>1.5660)&(abs(eta)<2.5)&(abs(dxy)<0.1)&(abs(dz)<0.2)&(tight_id==4)) #       Trigger: HLT_Ele32_WPTight_Gsf_v\n",
    "    return mask\n"
   ]
  },
  {
   "cell_type": "code",
   "execution_count": 5,
   "metadata": {},
   "outputs": [],
   "source": [
    "def isLooseMuon(pt,eta,iso,loose_id,year, is_pfcand, is_global, is_tracker):\n",
    "    #dxy and dz cuts are missing from med_id; loose isolation is 0.25\n",
    "    mask = ~(pt==np.nan)#just a complicated way to initialize a jagged array with the needed shape to True\n",
    "    if year=='2016':\n",
    "        mask = (pt>20)&(abs(eta)<2.4)&(loose_id)&(iso>=2)&(is_pfcand)&(is_global)&(is_tracker)\n",
    "    elif year=='2017':\n",
    "        mask = (pt>20)&(abs(eta)<2.4)&(loose_id)&(iso>=2)&(is_pfcand)&(is_global)&(is_tracker)\n",
    "    elif year=='2018':\n",
    "        mask = (pt>20)&(abs(eta)<2.4)&(loose_id)&(iso>=2)&(is_pfcand)&(is_global)&(is_tracker)\n",
    "    return mask\n"
   ]
  },
  {
   "cell_type": "code",
   "execution_count": 6,
   "metadata": {},
   "outputs": [],
   "source": [
    "def isTightMuon(pt,eta,iso,tight_id,year, is_pfcand, is_global, is_tracker):\n",
    "    #dxy and dz cuts are baked on tight_id; tight isolation is 0.15\n",
    "    mask = ~(pt==np.nan)#just a complicated way to initialize a jagged array with the needed shape to True\n",
    "    if year=='2016':\n",
    "        mask = (pt>30)&(abs(eta)<2.4)&(tight_id)&(iso>=4)&(is_pfcand)&(is_global)&(is_tracker)\n",
    "    elif year=='2017':\n",
    "        mask = (pt>29)&(abs(eta)<2.4)&(tight_id)&(iso>=4)&(is_pfcand)&(is_global)&(is_tracker)\n",
    "    elif year=='2018':\n",
    "        mask = (pt>30)&(abs(eta)<2.4)&(tight_id)&(iso>=4)&(is_pfcand)&(is_global)&(is_tracker)\n",
    "    return mask"
   ]
  },
  {
   "cell_type": "code",
   "execution_count": 7,
   "metadata": {},
   "outputs": [],
   "source": [
    "#bitmask 1 = VVLoose, 2 = VLoose, 4 = Loose, 8 = Medium, 16 = Tight, 32 = VTight, 64 = VVTight\n",
    "def isLooseTau(pt,eta,decayMode,_id,year):\n",
    "    mask = ~(pt==np.nan)#just a complicated way to initialize a jagged array with the needed shape to True\n",
    "    if year=='2016':\n",
    "        mask = (pt>18)&(abs(eta)<2.3)&(decayMode)&((_id&2)==2)\n",
    "    elif year=='2017':\n",
    "        mask = (pt>18)&(abs(eta)<2.3)&(decayMode)&((_id&2)==2)\n",
    "    elif year=='2018':\n",
    "        mask = (pt>18)&(abs(eta)<2.3)&(decayMode)&((_id&2)==2)\n",
    "    return mask\n"
   ]
  },
  {
   "cell_type": "code",
   "execution_count": 8,
   "metadata": {},
   "outputs": [],
   "source": [
    "def isLoosePhoton(pt,eta,loose_id,year):\n",
    "    mask = ~(pt==np.nan)#just a complicated way to initialize a jagged array with the needed shape to True\n",
    "    if year=='2016':\n",
    "        mask = (pt>15)&~((abs(eta)>1.4442)&(abs(eta)<1.5660))&(abs(eta)<2.5)&(loose_id>=1)\n",
    "    elif year=='2017':\n",
    "        mask = (pt>15)&~((abs(eta)>1.4442)&(abs(eta)<1.5660))&(abs(eta)<2.5)&((loose_id&1)==1)\n",
    "    elif year=='2018':\n",
    "        mask = (pt>15)&~((abs(eta)>1.4442)&(abs(eta)<1.5660))&(abs(eta)<2.5)&((loose_id&1)==1)\n",
    "    return mask\n"
   ]
  },
  {
   "cell_type": "code",
   "execution_count": 9,
   "metadata": {},
   "outputs": [],
   "source": [
    "def isTightPhoton(pt,tight_id,year):\n",
    "    #isScEtaEB is used (barrel only), so no eta requirement\n",
    "    #2017/18 pT requirement adjusted to match monojet, using dedicated ID SFs\n",
    "    #Tight photon use medium ID, as in monojet\n",
    "    mask = ~(pt==np.nan)#just a complicated way to initialize a jagged array with the needed shape to True\n",
    "    if year=='2016':\n",
    "        mask = (pt>200)&(tight_id>=2) # Trigger threshold is at 175\n",
    "    elif year=='2017':\n",
    "        mask = (pt>230)&((tight_id&2)==2) # Trigger threshold is at 200\n",
    "    elif year=='2018':\n",
    "        mask = (pt>230)&((tight_id&2)==2) # Trigger threshold is at 200\n",
    "    return mask\n"
   ]
  },
  {
   "cell_type": "code",
   "execution_count": 10,
   "metadata": {},
   "outputs": [],
   "source": [
    "def isGoodFatJet(pt, eta, jet_id):\n",
    "    mask = (pt > 160) & (abs(eta)<2.4) & ((jet_id&2)==2) \n",
    "    return mask\n"
   ]
  },
  {
   "cell_type": "code",
   "execution_count": 11,
   "metadata": {},
   "outputs": [],
   "source": [
    "def isGoodJet(pt, eta, jet_id, pu_id, nhf, chf, year):\n",
    "#     mask = ((pt>=50)&mask) | ((pt<50)&mask&((pu_id&1)==1)) #https://twiki.cern.ch/twiki/bin/view/CMS/PileupJetID, using loose wp\n",
    "    if year=='2016':\n",
    "        mask = (pt>=30) & (abs(eta)<=2.4) & (jet_id>=4) #(~(jet_id&3)==3) & (nhf<0.8) & (chf>0.1) #jetId==6 means: pass tight and tightLepVeto ID. https://twiki.cern.ch/twiki/bin/viewauth/CMS/JetID\n",
    "        mask = ((pt>=50)&mask) | ((pt<50)&mask&((pu_id & (0 << 1))==1)) #((pt<50)&mask&((pu_id&4)==4)) # puId&4)==4 jet pass atleast the loose pu_id, https://twiki.cern.ch/twiki/bin/viewauth/CMS/                                 PileupJetID#Recommendations_for_13_TeV_Ultra\n",
    "\n",
    "    else:\n",
    "        mask = (pt>=30) & (abs(eta)<=2.4) & (jet_id>=4) # ((jet_id&6)==6) & (nhf<0.8) & (chf>0.1) #jetId==6 means: pass tight and tightLepVeto ID. https://twiki.cern.ch/twiki/bin/viewauth/CMS/JetID\n",
    "        mask = ((pt>=50)&mask) | ((pt<50)&mask&((pu_id & (1 << 2)) ==4)) # ((pt<50)&mask&((pu_id&4)==4)) # puId&4)==4 jet pass atleast the loose pu_id, https://twiki.cern.ch/twiki/bin/viewauth/CMS/                                 PileupJetID#Recommendations_for_13_TeV_Ultra\n",
    "#matteo\n",
    "#     mask = (pt>30) & (abs(eta)<2.4) & ((jet_id&2)==2) & (nhf<0.8) & (chf>0.1)# & (nef<0.99) & (cef<0.99)\n",
    "#     mask = ((pt>=50)&mask) | ((pt<50)&mask&((pu_id&1)==1))\n",
    "    return mask\n"
   ]
  },
  {
   "cell_type": "code",
   "execution_count": 12,
   "metadata": {},
   "outputs": [],
   "source": [
    "def isHEMJet(pt, eta, phi):\n",
    "#     mask = (pt>30) & ((eta>-3.0)&(eta<-1.3)) & ((phi>-1.57)&(phi<-0.87))\n",
    "    mask = ((eta>-3.2)&(eta<-1.3)) & ((phi>-1.57)&(phi<-0.87))\n",
    "\n",
    "    return mask\n"
   ]
  },
  {
   "cell_type": "code",
   "execution_count": 13,
   "metadata": {},
   "outputs": [],
   "source": [
    "ids = {}\n",
    "ids['isLooseElectron'] = isLooseElectron\n",
    "ids['isTightElectron'] = isTightElectron\n",
    "ids['isLooseMuon']     = isLooseMuon\n",
    "ids['isTightMuon']     = isTightMuon\n",
    "ids['isLooseTau']      = isLooseTau\n",
    "ids['isLoosePhoton']   = isLoosePhoton\n",
    "ids['isTightPhoton']   = isTightPhoton\n",
    "ids['isGoodJet']       = isGoodJet\n",
    "ids['isGoodFatJet']    = isGoodFatJet\n",
    "ids['isHEMJet']        = isHEMJet\n",
    "save(ids, 'data/ids_test.coffea') "
   ]
  },
  {
   "cell_type": "code",
   "execution_count": null,
   "metadata": {},
   "outputs": [],
   "source": []
  }
 ],
 "metadata": {
  "kernelspec": {
   "display_name": "Python 3",
   "language": "python",
   "name": "python3"
  },
  "language_info": {
   "codemirror_mode": {
    "name": "ipython",
    "version": 3
   },
   "file_extension": ".py",
   "mimetype": "text/x-python",
   "name": "python",
   "nbconvert_exporter": "python",
   "pygments_lexer": "ipython3",
   "version": "3.6.5"
  }
 },
 "nbformat": 4,
 "nbformat_minor": 2
}
