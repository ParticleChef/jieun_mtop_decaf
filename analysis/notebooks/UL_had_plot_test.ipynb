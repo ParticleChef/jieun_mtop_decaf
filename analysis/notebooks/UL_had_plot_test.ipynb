{
 "cells": [
  {
   "cell_type": "code",
   "execution_count": 2,
   "metadata": {},
   "outputs": [],
   "source": [
    "import time\n",
    "from coffea import hist, nanoevents, util\n",
    "import coffea.processor as processor\n",
    "import awkward as ak\n",
    "import numpy as np\n",
    "import glob as glob\n",
    "import re\n",
    "import itertools\n",
    "# import vector as vec\n",
    "from coffea.nanoevents.methods import vector, candidate\n",
    "from coffea.nanoevents import NanoAODSchema, BaseSchema\n",
    "from coffea.lumi_tools import LumiMask\n",
    "# for applying JECs\n",
    "from coffea.lookup_tools import extractor\n",
    "from coffea.jetmet_tools import FactorizedJetCorrector, JetCorrectionUncertainty\n",
    "from coffea.jetmet_tools import JECStack, CorrectedJetsFactory\n",
    "from coffea.jetmet_tools import JetResolution, JetResolutionScaleFactor\n",
    "# from jmeCorrections import JetMetCorrections\n",
    "import json\n",
    "\n",
    "\n",
    "import coffea.processor as processor\n",
    "from coffea import hist\n",
    "from coffea.analysis_tools import PackedSelection, Weights\n",
    "from coffea.nanoevents import NanoAODSchema, NanoEventsFactory\n",
    "from coffea.nanoevents.methods import nanoaod\n",
    "\n",
    "# NanoAODSchema.warn_missing_crossrefs = False\n",
    "\n",
    "import pickle\n",
    "# np.errstate(invalid='ignore', divide='ignore')\n",
    "\n",
    "\n",
    "\n",
    "import matplotlib.pyplot as plt\n",
    "%matplotlib inline"
   ]
  },
  {
   "cell_type": "code",
   "execution_count": 56,
   "metadata": {},
   "outputs": [],
   "source": [
    "from coffea.util import load, save\n",
    "#hists = load('/cms/scratch/sdogra/mtop/rishabh/decaf/analysis/hists/UL_had_fourth_2018.scaled')\n",
    "hists = load('/cms/scratch/sdogra/mtop/rishabh/decaf/analysis/hists/UL_had_test_2018.scaled')\n",
    "\n",
    "data_hists = hists['data']\n",
    "bkg_hists = hists['bkg']\n",
    "sig_hists = hists['sig']"
   ]
  },
  {
   "cell_type": "code",
   "execution_count": 57,
   "metadata": {
    "scrolled": true
   },
   "outputs": [
    {
     "data": {
      "text/plain": [
       "{'template': <Hist (process,region,systematic,recoil) instance at 0x7efffcdcfef0>,\n",
       " 'ele_phi': <Hist (process,region,ele_phi) instance at 0x7efffd439a90>,\n",
       " 'sumw': <Hist (process,sumw) instance at 0x7efffd4350f0>,\n",
       " 'j1pt': <Hist (process,region,j1pt) instance at 0x7efffd435b38>,\n",
       " 'metphi': <Hist (process,region,metphi) instance at 0x7efffd5f6588>,\n",
       " 'ndflvM': <Hist (process,region,ndflvM) instance at 0x7efffcf23940>,\n",
       " 'dr_mu_lj': <Hist (process,region,dr_mu_lj) instance at 0x7efffcd9cc50>,\n",
       " 'ele_pT': <Hist (process,region,ele_pT) instance at 0x7efffcd8cfd0>,\n",
       " 'mu_eta': <Hist (process,region,mu_eta) instance at 0x7efffd271cf8>,\n",
       " 'TvsQCD': <Hist (process,region,TvsQCD) instance at 0x7efffce23160>,\n",
       " 'j1phi': <Hist (process,region,j1phi) instance at 0x7efffd1a4c50>,\n",
       " 'nfatjets': <Hist (process,region,nfatjets) instance at 0x7efffd187390>,\n",
       " 'recoil': <Hist (process,region,recoil) instance at 0x7efffd19ea90>,\n",
       " 'cutflow': <Hist (process,region,cut) instance at 0x7efffd666278>,\n",
       " 'ndflvL': <Hist (process,region,ndflvL) instance at 0x7efffd65da20>,\n",
       " 'njets': <Hist (process,region,njets) instance at 0x7efffd65de48>,\n",
       " 'mu_phi': <Hist (process,region,mu_phi) instance at 0x7efffd66a5f8>,\n",
       " 'fj1phi': <Hist (process,region,fj1phi) instance at 0x7efffd671d30>,\n",
       " 'ele_eta': <Hist (process,region,ele_eta) instance at 0x7efffd66c4a8>,\n",
       " 'dphi_e_etmiss': <Hist (process,region,dphi_e_etmiss) instance at 0x7efffce66ba8>,\n",
       " 'dr_e_lj': <Hist (process,region,dr_e_lj) instance at 0x7efffce522e8>,\n",
       " 'mT': <Hist (process,region,mT) instance at 0x7efffce69a20>,\n",
       " 'fj1pt': <Hist (process,region,fj1pt) instance at 0x7efffce3c198>,\n",
       " 'fj1eta': <Hist (process,region,fj1eta) instance at 0x7efffd6bd940>,\n",
       " 'dphi_Met_LJ': <Hist (process,region,dphi_Met_LJ) instance at 0x7efffd6ef080>,\n",
       " 'ndcsvM': <Hist (process,region,ndcsvM) instance at 0x7efffd6d0780>,\n",
       " 'j1eta': <Hist (process,region,j1eta) instance at 0x7efffd6d0ba8>,\n",
       " 'dphi_mu_etmiss': <Hist (process,region,dphi_mu_etmiss) instance at 0x7efffc9bf320>,\n",
       " 'eT_miss': <Hist (process,region,eT_miss) instance at 0x7efffc9e7a20>,\n",
       " 'mu_pT': <Hist (process,region,mu_pT) instance at 0x7efffc9d3198>}"
      ]
     },
     "execution_count": 57,
     "metadata": {},
     "output_type": "execute_result"
    }
   ],
   "source": [
    "bkg_hists"
   ]
  },
  {
   "cell_type": "code",
   "execution_count": 58,
   "metadata": {},
   "outputs": [
    {
     "data": {
      "text/plain": [
       "{'template': <Hist (process,region,systematic,recoil) instance at 0x7efffc9cc8d0>,\n",
       " 'ele_phi': <Hist (process,region,ele_phi) instance at 0x7efffc9ccc18>,\n",
       " 'sumw': <Hist (process,sumw) instance at 0x7efffc9ccda0>,\n",
       " 'j1pt': <Hist (process,region,j1pt) instance at 0x7efffc9ccf60>,\n",
       " 'metphi': <Hist (process,region,metphi) instance at 0x7efffc9eb128>,\n",
       " 'ndflvM': <Hist (process,region,ndflvM) instance at 0x7efffc9eb2b0>,\n",
       " 'dr_mu_lj': <Hist (process,region,dr_mu_lj) instance at 0x7efffc9eb438>,\n",
       " 'ele_pT': <Hist (process,region,ele_pT) instance at 0x7efffc9eb5c0>,\n",
       " 'mu_eta': <Hist (process,region,mu_eta) instance at 0x7efffc9eb748>,\n",
       " 'TvsQCD': <Hist (process,region,TvsQCD) instance at 0x7efffc9eb8d0>,\n",
       " 'j1phi': <Hist (process,region,j1phi) instance at 0x7efffc9eba58>,\n",
       " 'nfatjets': <Hist (process,region,nfatjets) instance at 0x7efffc9ebbe0>,\n",
       " 'recoil': <Hist (process,region,recoil) instance at 0x7efffc9ebd68>,\n",
       " 'cutflow': <Hist (process,region,cut) instance at 0x7efffc9ebef0>,\n",
       " 'ndflvL': <Hist (process,region,ndflvL) instance at 0x7efffc9db0b8>,\n",
       " 'njets': <Hist (process,region,njets) instance at 0x7efffc9db0f0>,\n",
       " 'mu_phi': <Hist (process,region,mu_phi) instance at 0x7efffc9db2b0>,\n",
       " 'fj1phi': <Hist (process,region,fj1phi) instance at 0x7efffc9db470>,\n",
       " 'ele_eta': <Hist (process,region,ele_eta) instance at 0x7efffc9db5c0>,\n",
       " 'dphi_e_etmiss': <Hist (process,region,dphi_e_etmiss) instance at 0x7efffc9db748>,\n",
       " 'dr_e_lj': <Hist (process,region,dr_e_lj) instance at 0x7efffc9db8d0>,\n",
       " 'mT': <Hist (process,region,mT) instance at 0x7efffc9dba58>,\n",
       " 'fj1pt': <Hist (process,region,fj1pt) instance at 0x7efffc9dbbe0>,\n",
       " 'fj1eta': <Hist (process,region,fj1eta) instance at 0x7efffc9dbd68>,\n",
       " 'dphi_Met_LJ': <Hist (process,region,dphi_Met_LJ) instance at 0x7efffc9dbef0>,\n",
       " 'ndcsvM': <Hist (process,region,ndcsvM) instance at 0x7efffc99f0b8>,\n",
       " 'j1eta': <Hist (process,region,j1eta) instance at 0x7efffc99f0f0>,\n",
       " 'dphi_mu_etmiss': <Hist (process,region,dphi_mu_etmiss) instance at 0x7efffc99f2b0>,\n",
       " 'eT_miss': <Hist (process,region,eT_miss) instance at 0x7efffc99f438>,\n",
       " 'mu_pT': <Hist (process,region,mu_pT) instance at 0x7efffc99f5c0>}"
      ]
     },
     "execution_count": 58,
     "metadata": {},
     "output_type": "execute_result"
    }
   ],
   "source": [
    "sig_hists"
   ]
  },
  {
   "cell_type": "code",
   "execution_count": 59,
   "metadata": {},
   "outputs": [
    {
     "data": {
      "text/plain": [
       "{('EGamma',): array([25.,  3.,  2.,  1.,  0.,  1.,  0.,  0.,  0.,  0.,  0.,  0.,  0.,\n",
       "         0.,  2.])}"
      ]
     },
     "execution_count": 59,
     "metadata": {},
     "output_type": "execute_result"
    }
   ],
   "source": [
    "data_hists['TvsQCD'].integrate('region', 'tecr').values()"
   ]
  },
  {
   "cell_type": "code",
   "execution_count": 65,
   "metadata": {},
   "outputs": [],
   "source": [
    "vari = 'fj1pt'\n",
    "region = 'tmcr'"
   ]
  },
  {
   "cell_type": "code",
   "execution_count": 66,
   "metadata": {
    "scrolled": true
   },
   "outputs": [
    {
     "data": {
      "text/plain": [
       "{('DY+HF',): array([0., 0., 0., 0., 0., 0., 0., 0., 0., 0., 0., 0., 0., 0., 0., 0., 0.,\n",
       "        0., 0., 0., 0., 0., 0., 0., 0., 0., 0., 0.]),\n",
       " ('DY+LF',): array([0., 0., 0., 0., 0., 0., 0., 0., 0., 0., 0., 0., 0., 0., 0., 0., 0.,\n",
       "        0., 0., 0., 0., 0., 0., 0., 0., 0., 0., 0.]),\n",
       " ('W+HF',): array([    0.        ,     0.        ,     0.        ,     0.        ,\n",
       "        -2925.92900634,  2955.50232828,  3212.53774646,  3781.28038367,\n",
       "        -2495.66945192,  7431.18721084, -6042.96445891,     0.        ,\n",
       "         2180.29402751,  2830.48413762,  2924.14448437,  9469.02513628,\n",
       "            0.        ,  3485.25387796,     0.        ,     0.        ,\n",
       "            0.        ,  3240.43538318,     0.        ,     0.        ,\n",
       "            0.        ,     0.        ,     0.        ,     0.        ]),\n",
       " ('W+LF',): array([    0.        ,     0.        ,     0.        ,     0.        ,\n",
       "        -2599.04821147,  3051.6643391 ,  3125.88964016,  6823.00591891,\n",
       "        -8905.32316224,  8538.04397963,  4694.74221268,  6688.91236758,\n",
       "        -4815.77201722,  4908.0658536 , -2151.70275403,  3214.79374825,\n",
       "            0.        ,  3778.86202799,  5436.26000395,     0.        ,\n",
       "            0.        ,     0.        ,     0.        ,     0.        ,\n",
       "            0.        ,     0.        ,     0.        ,     0.        ]),\n",
       " ('QCD',): array([0., 0., 0., 0., 0., 0., 0., 0., 0., 0., 0., 0., 0., 0., 0., 0., 0.,\n",
       "        0., 0., 0., 0., 0., 0., 0., 0., 0., 0., 0.])}"
      ]
     },
     "execution_count": 66,
     "metadata": {},
     "output_type": "execute_result"
    }
   ],
   "source": [
    "bkg_hists[vari].integrate('region',region).values()"
   ]
  },
  {
   "cell_type": "code",
   "execution_count": 67,
   "metadata": {},
   "outputs": [
    {
     "data": {
      "text/plain": [
       "[<StringBin (DY+HF) instance at 0x7efffd4f2198>,\n",
       " <StringBin (DY+LF) instance at 0x7efffd42b1d0>,\n",
       " <StringBin (W+HF) instance at 0x7efffd43a550>,\n",
       " <StringBin (W+LF) instance at 0x7efffd43a5f8>,\n",
       " <StringBin (QCD) instance at 0x7efffd43aac8>]"
      ]
     },
     "execution_count": 67,
     "metadata": {},
     "output_type": "execute_result"
    }
   ],
   "source": [
    "bkg_hists[vari].identifiers('process')"
   ]
  },
  {
   "cell_type": "code",
   "execution_count": 68,
   "metadata": {},
   "outputs": [
    {
     "data": {
      "text/plain": [
       "{(): array([     0.        ,      0.        ,      0.        ,      0.        ,\n",
       "         -5524.9772178 ,   6007.16666738,   6338.42738662,  10604.28630258,\n",
       "        -11400.99261415,  15969.23119047,  -1348.22224623,   6688.91236758,\n",
       "         -2635.47798971,   7738.54999122,    772.44173034,  12683.81888453,\n",
       "             0.        ,   7264.11590595,   5436.26000395,      0.        ,\n",
       "             0.        ,   3240.43538318,      0.        ,      0.        ,\n",
       "             0.        ,      0.        ,      0.        ,      0.        ])}"
      ]
     },
     "execution_count": 68,
     "metadata": {},
     "output_type": "execute_result"
    }
   ],
   "source": [
    "bkg_hists[vari].integrate('process').integrate('region',region).values()"
   ]
  },
  {
   "cell_type": "code",
   "execution_count": 69,
   "metadata": {},
   "outputs": [
    {
     "data": {
      "text/plain": [
       "<AxesSubplot:xlabel='AK15 Leading Jet Pt', ylabel='Events'>"
      ]
     },
     "execution_count": 69,
     "metadata": {},
     "output_type": "execute_result"
    },
    {
     "data": {
      "image/png": "[encoded data removed]",
      "text/plain": [
       "<Figure size 432x288 with 1 Axes>"
      ]
     },
     "metadata": {
      "needs_background": "light"
     },
     "output_type": "display_data"
    }
   ],
   "source": [
    "from coffea.hist import plot\n",
    "\n",
    "plot.plot1d(bkg_hists[vari].integrate('region',region), stack=True)\n"
   ]
  },
  {
   "cell_type": "code",
   "execution_count": 19,
   "metadata": {},
   "outputs": [
    {
     "data": {
      "text/plain": [
       "<AxesSubplot:xlabel='AK15 Leading Jet Pt', ylabel='Events'>"
      ]
     },
     "execution_count": 19,
     "metadata": {},
     "output_type": "execute_result"
    },
    {
     "data": {
      "image/png": "[encoded data removed]",
      "text/plain": [
       "<Figure size 432x288 with 1 Axes>"
      ]
     },
     "metadata": {
      "needs_background": "light"
     },
     "output_type": "display_data"
    }
   ],
   "source": [
    "from coffea.hist import plot\n",
    "\n",
    "plot.plot1d(bkg_hists[vari].integrate('region',region), stack=True)\n"
   ]
  },
  {
   "cell_type": "code",
   "execution_count": 41,
   "metadata": {},
   "outputs": [
    {
     "data": {
      "image/png": "[encoded data removed]",
      "text/plain": [
       "<Figure size 792x936 with 2 Axes>"
      ]
     },
     "metadata": {
      "needs_background": "light"
     },
     "output_type": "display_data"
    }
   ],
   "source": [
    "from cycler import cycler\n",
    "vari = 'TvsQCD'\n",
    "region = 'tecr'\n",
    "data = 'EGamma' #'MET' \n",
    "\n",
    "plt.rcParams.update({'figure.max_open_warning': 0,'font.size': 14, 'axes.titlesize': 18, 'axes.labelsize': 18, 'xtick.labelsize': 12, 'ytick.labelsize': 12})\n",
    "fill_opts = {'edgecolor': (0,0,0,0.3), 'alpha': 1}\n",
    "error_opts = {'label':'Stat. Unc.', 'hatch':'///', 'facecolor':'none', 'edgecolor':(0,0,0,.5), 'linewidth': 0}\n",
    "nostack_fill_opts = {'alpha': 0.2, 'label': '_nolabel_'}\n",
    "data_err_opts = {'linestyle':'None', 'marker': '.', 'markersize': 10., 'color':'k'}#, 'elinewidth': 1, 'emarker': '_'}\n",
    "colors = ['#a6cee3', '#3130db', '#1f78b4', '#b2df8a', '#48e926', '#33a02c', '#c0df26',\n",
    "          '#fb9a99', '#d02ba7', '#e31a1c', '#fdbf6f', '#ff7f00', '#cab2d6', '#c64bc4',\n",
    "          '#6a3d9a', '#a9ce26', '#ffff99', '#b15928', '#edcc43']\n",
    "fig, (ax, rax) = plt.subplots(2, 1, figsize=(11,13), gridspec_kw={\"height_ratios\": (3, 1)}, sharex=True)\n",
    "fig.subplots_adjust(hspace=.07)\n",
    "ax.set_prop_cycle(cycler(color=colors))\n",
    "\n",
    "plot.plot1d(data_hists[vari].integrate('region', region),#[data[year][str(j)]],\n",
    "            overlay=\"process\",\n",
    "            ax=ax,\n",
    "            overflow='over',\n",
    "            clear=False,\n",
    "            error_opts=data_err_opts\n",
    "           )\n",
    "\n",
    "plot.plot1d(bkg_hists[vari].integrate('region', region),\n",
    "            overlay=\"process\",\n",
    "            ax=ax,\n",
    "            overflow='over',\n",
    "            clear=False,\n",
    "            stack=True,\n",
    "            fill_opts=fill_opts,\n",
    "            error_opts=error_opts\n",
    "           )\n",
    "\n",
    "plot.plotratio(data_hists[vari].integrate('region', region).integrate('process', data),\n",
    "               bkg_hists[vari].integrate('region', region).sum('process'),\n",
    "               ax=rax,\n",
    "               overflow='over',\n",
    "               error_opts=data_err_opts,\n",
    "               denom_fill_opts={},\n",
    "               guide_opts={},\n",
    "               unc='num'\n",
    "              )\n",
    "\n",
    "rax.set_ylabel('Ratio (data/MC)')\n",
    "rax.set_ylim(0.0,2.0)\n",
    "rax.grid(axis='y')\n",
    "\n",
    "ax._get_lines.prop_cycler = ax._get_patches_for_fill.prop_cycler\n",
    "args = {'linestyle':'--', 'linewidth': 5}\n",
    "ax.autoscale(axis='x', tight=True)\n",
    "ax.set_yscale('log')\n",
    "ax.set_ylim(.1, 10000000)\n",
    "#ax.set_xlim(0, 1500)\n",
    "leg = ax.legend(ncol=2, loc='best')"
   ]
  },
  {
   "cell_type": "code",
   "execution_count": 60,
   "metadata": {},
   "outputs": [
    {
     "data": {
      "text/plain": [
       "[]"
      ]
     },
     "execution_count": 60,
     "metadata": {},
     "output_type": "execute_result"
    }
   ],
   "source": [
    "sig_hists[vari].identifiers('region')"
   ]
  },
  {
   "cell_type": "code",
   "execution_count": 61,
   "metadata": {},
   "outputs": [
    {
     "data": {
      "text/plain": [
       "{}"
      ]
     },
     "execution_count": 61,
     "metadata": {},
     "output_type": "execute_result"
    }
   ],
   "source": [
    "for region in sig_hists[vari].identifiers('region'):\n",
    "    print(region)\n",
    "sig_hists[vari].integrate('process').integrate('region','sr').values()"
   ]
  },
  {
   "cell_type": "code",
   "execution_count": 62,
   "metadata": {},
   "outputs": [
    {
     "ename": "KeyError",
     "evalue": "()",
     "output_type": "error",
     "traceback": [
      "\u001b[0;31m---------------------------------------------------------------------------\u001b[0m",
      "\u001b[0;31mKeyError\u001b[0m                                  Traceback (most recent call last)",
      "\u001b[0;32m<ipython-input-62-f1b2bf2858c7>\u001b[0m in \u001b[0;36m<module>\u001b[0;34m\u001b[0m\n\u001b[0;32m----> 1\u001b[0;31m \u001b[0mplot\u001b[0m\u001b[0;34m.\u001b[0m\u001b[0mplot1d\u001b[0m\u001b[0;34m(\u001b[0m\u001b[0msig_hists\u001b[0m\u001b[0;34m[\u001b[0m\u001b[0mvari\u001b[0m\u001b[0;34m]\u001b[0m\u001b[0;34m.\u001b[0m\u001b[0mintegrate\u001b[0m\u001b[0;34m(\u001b[0m\u001b[0;34m'process'\u001b[0m\u001b[0;34m)\u001b[0m\u001b[0;34m.\u001b[0m\u001b[0mintegrate\u001b[0m\u001b[0;34m(\u001b[0m\u001b[0;34m'region'\u001b[0m\u001b[0;34m,\u001b[0m\u001b[0;34m'sr'\u001b[0m\u001b[0;34m)\u001b[0m\u001b[0;34m,\u001b[0m \u001b[0mstack\u001b[0m\u001b[0;34m=\u001b[0m\u001b[0;32mTrue\u001b[0m\u001b[0;34m)\u001b[0m\u001b[0;34m\u001b[0m\u001b[0m\n\u001b[0m",
      "\u001b[0;32m~/.local/lib/python3.6/site-packages/coffea/hist/plot.py\u001b[0m in \u001b[0;36mplot1d\u001b[0;34m(hist, ax, clear, overlay, stack, overflow, line_opts, fill_opts, error_opts, legend_opts, overlay_overflow, density, binwnorm, order)\u001b[0m\n\u001b[1;32m    249\u001b[0m         \u001b[0;32mfor\u001b[0m \u001b[0mi\u001b[0m\u001b[0;34m,\u001b[0m \u001b[0midentifier\u001b[0m \u001b[0;32min\u001b[0m \u001b[0menumerate\u001b[0m\u001b[0;34m(\u001b[0m\u001b[0midentifiers\u001b[0m\u001b[0;34m)\u001b[0m\u001b[0;34m:\u001b[0m\u001b[0;34m\u001b[0m\u001b[0m\n\u001b[1;32m    250\u001b[0m             \u001b[0;32mif\u001b[0m \u001b[0midentifier\u001b[0m \u001b[0;32mis\u001b[0m \u001b[0;32mNone\u001b[0m\u001b[0;34m:\u001b[0m\u001b[0;34m\u001b[0m\u001b[0m\n\u001b[0;32m--> 251\u001b[0;31m                 \u001b[0msumw\u001b[0m\u001b[0;34m,\u001b[0m \u001b[0msumw2\u001b[0m \u001b[0;34m=\u001b[0m \u001b[0mhist\u001b[0m\u001b[0;34m.\u001b[0m\u001b[0mvalues\u001b[0m\u001b[0;34m(\u001b[0m\u001b[0msumw2\u001b[0m\u001b[0;34m=\u001b[0m\u001b[0;32mTrue\u001b[0m\u001b[0;34m,\u001b[0m \u001b[0moverflow\u001b[0m\u001b[0;34m=\u001b[0m\u001b[0moverflow\u001b[0m\u001b[0;34m)\u001b[0m\u001b[0;34m[\u001b[0m\u001b[0;34m(\u001b[0m\u001b[0;34m)\u001b[0m\u001b[0;34m]\u001b[0m\u001b[0;34m\u001b[0m\u001b[0m\n\u001b[0m\u001b[1;32m    252\u001b[0m             \u001b[0;32melif\u001b[0m \u001b[0misinstance\u001b[0m\u001b[0;34m(\u001b[0m\u001b[0moverlay\u001b[0m\u001b[0;34m,\u001b[0m \u001b[0mSparseAxis\u001b[0m\u001b[0;34m)\u001b[0m\u001b[0;34m:\u001b[0m\u001b[0;34m\u001b[0m\u001b[0m\n\u001b[1;32m    253\u001b[0m                 sumw, sumw2 = hist.integrate(overlay, identifier).values(\n",
      "\u001b[0;31mKeyError\u001b[0m: ()"
     ]
    },
    {
     "data": {
      "image/png": "[encoded data removed]",
      "text/plain": [
       "<Figure size 432x288 with 1 Axes>"
      ]
     },
     "metadata": {
      "needs_background": "light"
     },
     "output_type": "display_data"
    }
   ],
   "source": [
    "plot.plot1d(sig_hists[vari].integrate('process').integrate('region','sr'), stack=True)\n"
   ]
  },
  {
   "cell_type": "code",
   "execution_count": 63,
   "metadata": {},
   "outputs": [
    {
     "data": {
      "text/plain": [
       "[<StringBin (MET) instance at 0x7f7b6087b400>,\n",
       " <StringBin (EGamma) instance at 0x7f7b6087b518>]"
      ]
     },
     "execution_count": 63,
     "metadata": {},
     "output_type": "execute_result"
    }
   ],
   "source": [
    "data_hists[vari].identifiers('process')"
   ]
  },
  {
   "cell_type": "code",
   "execution_count": 64,
   "metadata": {},
   "outputs": [
    {
     "data": {
      "text/plain": [
       "{('EGamma',): array([   0.,    0.,    0.,    0., 1427., 2954., 6198., 6530., 7829.,\n",
       "        8294., 7627., 6752., 5607., 5830., 4318., 3156., 2375., 2008.,\n",
       "        1345.,  916.,  613.,  488.,  375.,  266.,  187.,  115.,   98.,\n",
       "          67.])}"
      ]
     },
     "execution_count": 64,
     "metadata": {},
     "output_type": "execute_result"
    }
   ],
   "source": [
    "data_hists[vari].integrate('region',region).values()"
   ]
  },
  {
   "cell_type": "code",
   "execution_count": 65,
   "metadata": {},
   "outputs": [
    {
     "data": {
      "text/plain": [
       "<AxesSubplot:xlabel='AK15 Leading Jet Pt', ylabel='Events'>"
      ]
     },
     "execution_count": 65,
     "metadata": {},
     "output_type": "execute_result"
    },
    {
     "data": {
      "image/png": "[encoded data removed]",
      "text/plain": [
       "<Figure size 432x288 with 1 Axes>"
      ]
     },
     "metadata": {
      "needs_background": "light"
     },
     "output_type": "display_data"
    }
   ],
   "source": [
    "plot.plot1d(data_hists[vari].integrate('region',region), stack=True)\n"
   ]
  },
  {
   "cell_type": "code",
   "execution_count": null,
   "metadata": {},
   "outputs": [],
   "source": []
  },
  {
   "cell_type": "code",
   "execution_count": null,
   "metadata": {},
   "outputs": [],
   "source": []
  },
  {
   "cell_type": "code",
   "execution_count": null,
   "metadata": {},
   "outputs": [],
   "source": []
  }
 ],
 "metadata": {
  "kernelspec": {
   "display_name": "Python 3",
   "language": "python",
   "name": "python3"
  },
  "language_info": {
   "codemirror_mode": {
    "name": "ipython",
    "version": 3
   },
   "file_extension": ".py",
   "mimetype": "text/x-python",
   "name": "python",
   "nbconvert_exporter": "python",
   "pygments_lexer": "ipython3",
   "version": "3.6.5"
  }
 },
 "nbformat": 4,
 "nbformat_minor": 2
}
