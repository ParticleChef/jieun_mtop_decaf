{
 "cells": [
  {
   "cell_type": "code",
   "execution_count": 1,
   "metadata": {},
   "outputs": [],
   "source": [
    "import time\n",
    "from coffea import hist,  util\n",
    "import coffea.processor as processor\n",
    "import awkward as ak\n",
    "import numpy as np\n",
    "import glob as glob\n",
    "import re\n",
    "import itertools\n",
    "\n",
    "from coffea.lumi_tools import LumiMask\n",
    "\n",
    "import json\n",
    "\n",
    "from coffea import hist\n",
    "\n",
    "import pickle\n",
    "import os\n",
    "\n",
    "\n",
    "import matplotlib.pyplot as plt\n",
    "%matplotlib inline"
   ]
  },
  {
   "cell_type": "code",
   "execution_count": 54,
   "metadata": {},
   "outputs": [],
   "source": [
    "from coffea.util import load, save\n",
    "\n",
    "\n",
    "hists = load('/Users/hongjieun/MonoTop/notebook_plotting/check_events/onebyone/onebyone_2018_Run16.scaled') #\n",
    "\n",
    "data_hists = hists['data']\n",
    "bkg_hists = hists['bkg']\n",
    "sig_hists = hists['sig']"
   ]
  },
  {
   "cell_type": "code",
   "execution_count": 55,
   "metadata": {},
   "outputs": [
    {
     "name": "stdout",
     "output_type": "stream",
     "text": [
      "[<StringBin (MET) instance at 0x7fd97ac63510>]\n",
      "++  W(mu) CR ++\n",
      "--  MET --\n",
      "Total 29713483.0  \n",
      "Final 76735.0     \n",
      "\n",
      "Dataset Total: 76735.0\n",
      "\n",
      "++  T(mu) CR ++\n",
      "--  MET --\n",
      "Total 29713483.0  \n",
      "Final 76735.0     \n",
      "\n",
      "Dataset Total: 76735.0\n",
      "\n"
     ]
    }
   ],
   "source": [
    "#dat = ['META','METB','METC','METD']\n",
    "dat = data_hists['cutflow'].identifiers('process')\n",
    "reg = ['wmcr','tmcr',]\n",
    "print(data_hists['cutflow'].identifiers('process'))\n",
    "run = 9\n",
    "for r in reg:\n",
    "    tot = 0\n",
    "    if r == 'wmcr': \n",
    "        final = run\n",
    "        r_name = 'W(mu) CR'\n",
    "    else: \n",
    "        final = run\n",
    "        r_name = 'T(mu) CR'\n",
    "    print('++ ', r_name, '++')\n",
    "    for d in ['MET']:\n",
    "        if d =='EGamma': continue\n",
    "        print('-- ', d, '--')\n",
    "        v1 = data_hists['cutflow'].integrate('process',d).integrate('region',r).values()[()][0]\n",
    "        v2 = data_hists['cutflow'].integrate('process',d).integrate('region',r).values()[()][final]\n",
    "        print('Total %-12s' % v1)\n",
    "        print('Final %-12s' % v2)\n",
    "        tot = tot + v2\n",
    "        print()\n",
    "        \n",
    "    print('Dataset Total:', tot)    \n",
    "    print()"
   ]
  },
  {
   "cell_type": "code",
   "execution_count": 56,
   "metadata": {},
   "outputs": [
    {
     "data": {
      "text/plain": [
       "dict_keys(['template', 'sumw', 'j1pt', 'metphi', 'ele_pT', 'TvsQCD', 'recoil', 'cutflow', 'fj1pt', 'nphoton', 'eT_miss', 'mu_pT'])"
      ]
     },
     "execution_count": 56,
     "metadata": {},
     "output_type": "execute_result"
    }
   ],
   "source": [
    "data_hists.keys()#[''].integrate('process',d).values()[()]"
   ]
  },
  {
   "cell_type": "code",
   "execution_count": 57,
   "metadata": {},
   "outputs": [
    {
     "name": "stdout",
     "output_type": "stream",
     "text": [
      "( 0 ) 29713483.0\n",
      "( 1 ) 22374795.0\n",
      "( 2 ) 13794262.0\n",
      "( 3 ) 13666128.0\n",
      "( 4 ) 601357.0\n",
      "( 5 ) 498260.0\n",
      "( 6 ) 485774.0\n",
      "( 7 ) 157784.0\n",
      "( 8 ) 76802.0\n",
      "( 9 ) 76735.0\n",
      "( 10 ) 65281.0\n",
      "( 11 ) 62151.0\n"
     ]
    }
   ],
   "source": [
    "for i in range(12):\n",
    "    a = data_hists['cutflow'].integrate('process','MET').integrate('region','tmcr').values()[()][i]\n",
    "    print('(',i,')',a)"
   ]
  },
  {
   "cell_type": "code",
   "execution_count": 39,
   "metadata": {},
   "outputs": [
    {
     "name": "stdout",
     "output_type": "stream",
     "text": [
      "<Hist (region,recoil) instance at 0x7fb984c5d6d0>\n"
     ]
    },
    {
     "data": {
      "text/plain": [
       "(0.1, 10000000)"
      ]
     },
     "execution_count": 39,
     "metadata": {},
     "output_type": "execute_result"
    },
    {
     "data": {
      "image/png": "[encoded data removed]",
      "text/plain": [
       "<Figure size 936x792 with 1 Axes>"
      ]
     },
     "metadata": {
      "needs_background": "light"
     },
     "output_type": "display_data"
    }
   ],
   "source": [
    "from coffea.hist import plot\n",
    "vari = 'recoil'\n",
    "region = 'tmcr'\n",
    "plt.rcParams.update({'figure.max_open_warning': 0,'font.size': 14, 'axes.titlesize': 18, 'axes.labelsize': 18, 'xtick.labelsize': 12, 'ytick.labelsize': 12})\n",
    "fig, ax = plt.subplots(figsize=(13,11))\n",
    "\n",
    "data_err_opts = {'linestyle':'None', 'marker': '.', 'markersize': 10., 'color':'k'}#, 'elinewidth': 1, 'emarker': '_'}\n",
    "\n",
    "print(data_hists[vari].integrate('process'))\n",
    "#plot.plot1d(bkg_hists[vari].integrate('region',region), stack=True)\n",
    "plot.plot1d(data_hists[vari].integrate('region',region),overlay=\"process\",error_opts=data_err_opts)\n",
    "ax.set_yscale('log')\n",
    "ax.set_ylim(.1, 10000000)\n",
    "#ax.set_xlim(0, 100)"
   ]
  },
  {
   "cell_type": "code",
   "execution_count": null,
   "metadata": {},
   "outputs": [],
   "source": []
  }
 ],
 "metadata": {
  "kernelspec": {
   "display_name": "Python 3",
   "language": "python",
   "name": "python3"
  },
  "language_info": {
   "codemirror_mode": {
    "name": "ipython",
    "version": 3
   },
   "file_extension": ".py",
   "mimetype": "text/x-python",
   "name": "python",
   "nbconvert_exporter": "python",
   "pygments_lexer": "ipython3",
   "version": "3.7.7"
  }
 },
 "nbformat": 4,
 "nbformat_minor": 4
}
