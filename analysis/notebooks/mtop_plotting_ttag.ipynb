{
 "cells": [
  {
   "cell_type": "code",
   "execution_count": 1,
   "metadata": {},
   "outputs": [],
   "source": [
    "from __future__ import print_function, division\n",
    "from collections import defaultdict, OrderedDict\n",
    "import gzip\n",
    "import pickle\n",
    "import json\n",
    "import os\n",
    "import uproot\n",
    "import matplotlib.pyplot as plt\n",
    "%matplotlib inline\n",
    "import numpy as np\n",
    "from coffea import hist, processor \n",
    "from coffea.hist import plot\n",
    "from coffea.util import load, save"
   ]
  },
  {
   "cell_type": "code",
   "execution_count": 28,
   "metadata": {},
   "outputs": [],
   "source": [
    "#hists = load('/Users/hongjieun/MonoTop/monotop_signal2018.merged')\n",
    "#hists = load('/Users/hongjieun/MonoTop/monotop_pri_sig2018.merged')\n",
    "#hists_offi = load('/Users/hongjieun/MonoTop/monotop_signal2018.merged')\n",
    "#hists_priv = load('/Users/hongjieun/MonoTop/monotop_pri_sig2018.merged')\n",
    "#hists_offi = load('/Users/hongjieun/MonoTop/monotop_off_sig2016.merged')\n",
    "#hists_priv = load('/Users/hongjieun/MonoTop/notebook_plotting/input_gen_signal/signals2018_added.merged')\n",
    "#hists_priv = load('/Users/hongjieun/MonoTop/notebook_plotting/signal/sig17_Legacy.merged')\n",
    "#hists_priv = load('/Users/hongjieun/MonoTop/notebook_plotting/signal/sig2017_20UL_Mphi-3000_bin.merged')\n",
    "#hists_priv2 = load('/Users/hongjieun/MonoTop/notebook_plotting/signal/sig17_Legacy_3000_bin.merged')\n",
    "#hists_priv = load('/Users/hongjieun/MonoTop/notebook_plotting/signal/ttag2018.merged')\n",
    "hists_priv = load('/Users/hongjieun/MonoTop/notebook_plotting/signal/ttag2018_beforeThreshold.merged')\n",
    "\n",
    "#map = OrderedDict()\n",
    "#map[\"Monotop\"] = (\"Hbb_merged*\")"
   ]
  },
  {
   "cell_type": "code",
   "execution_count": 3,
   "metadata": {},
   "outputs": [
    {
     "data": {
      "text/plain": [
       "[<StringBin (Mphi-2000_Mchi-1500) instance at 0x7f8a9191ff10>,\n",
       " <StringBin (Mphi-2000_Mchi-500) instance at 0x7f8a92bfaf50>,\n",
       " <StringBin (Mphi-1995_Mchi-1000) instance at 0x7f8a9074f850>]"
      ]
     },
     "execution_count": 3,
     "metadata": {},
     "output_type": "execute_result"
    }
   ],
   "source": [
    "hists_priv['ttag'].identifiers('dataset')"
   ]
  },
  {
   "cell_type": "code",
   "execution_count": 4,
   "metadata": {},
   "outputs": [
    {
     "data": {
      "text/plain": [
       "dict_keys(['ttag', 'tmatchj', 'TvsQCD', 'dRfjtop'])"
      ]
     },
     "execution_count": 4,
     "metadata": {},
     "output_type": "execute_result"
    }
   ],
   "source": [
    "hists_priv.keys()"
   ]
  },
  {
   "cell_type": "code",
   "execution_count": null,
   "metadata": {
    "scrolled": false
   },
   "outputs": [],
   "source": [
    "print('1',hists_priv.keys())\n",
    "print('2',hists_priv['ttag'])\n",
    "print('3',hists_priv['ttag'].identifiers('wp'))\n",
    "print('4',hists_priv['ttag'].identifiers('pt'))\n",
    "print('5',hists_priv['ttag'].identifiers('abseta'))\n",
    "print('6',hists_priv['ttag'].identifiers('ttag'))\n",
    "print('7',hists_priv['ttag'].integrate('dataset','Mphi-1995_Mchi-1000').sum('ttag').values())\n",
    "print('8',hists_priv['ttag'].integrate('dataset','Mphi-1995_Mchi-1000').sum('abseta').values())\n",
    "print('9',hists_priv['ttag'].integrate('dataset','Mphi-1995_Mchi-1000').integrate('abseta').sum('ttag').values())"
   ]
  },
  {
   "cell_type": "code",
   "execution_count": 5,
   "metadata": {},
   "outputs": [],
   "source": [
    "tag = 'tmatchj'\n",
    "data = ['Mphi-2000_Mchi-1500',\n",
    "       'Mphi-2000_Mchi-500',\n",
    "       'Mphi-1995_Mchi-1000']"
   ]
  },
  {
   "cell_type": "code",
   "execution_count": 29,
   "metadata": {
    "scrolled": true
   },
   "outputs": [
    {
     "name": "stdout",
     "output_type": "stream",
     "text": [
      "2 <Hist (dataset,tag,TvsQCD) instance at 0x7f8a94749290>\n",
      "4 {(): 238499.0}\n",
      "5 {(): 139433.0}\n",
      "4 {(): 99066.0}\n",
      "7 {('pass',): array([37867.,  7251.,  4789.,  3660.,  2884.,  2523.,  2228.,  1872.,\n",
      "        1752.,  1600.,  1394.,  1298.,  1184.,  1117.,  1061.,   969.,\n",
      "         941.,   933.,   855.,   830.,   768.,   692.,   749.,   696.,\n",
      "         681.,   610.,   624.,   618.,   569.,   567.,   511.,   490.,\n",
      "         542.,   490.,   472.,   476.,   486.,   481.,   428.,   414.,\n",
      "         457.,   419.,   417.,   419.,   404.,   406.,   421.,   363.,\n",
      "         412.,   389.,   390.,   400.,   396.,   377.,   374.,   376.,\n",
      "         362.,   363.,   344.,   325.,   361.,   351.,   377.,   385.,\n",
      "         341.,   381.,   371.,   361.,   379.,   353.,   377.,   354.,\n",
      "         374.,   391.,   420.,   405.,   393.,   399.,   382.,   449.,\n",
      "         422.,   445.,   422.,   468.,   451.,   514.,   492.,   597.,\n",
      "         585.,   609.,   594.,   622.,   713.,   845.,   899.,  1162.,\n",
      "        1313.,  1977.,  3054., 19459.]), ('fail',): array([8.497e+04, 3.084e+03, 1.613e+03, 1.063e+03, 7.500e+02, 5.880e+02,\n",
      "       4.590e+02, 3.600e+02, 3.640e+02, 2.680e+02, 2.360e+02, 2.040e+02,\n",
      "       1.800e+02, 1.640e+02, 1.560e+02, 1.410e+02, 1.390e+02, 1.260e+02,\n",
      "       1.030e+02, 1.220e+02, 9.500e+01, 9.300e+01, 7.700e+01, 9.000e+01,\n",
      "       8.800e+01, 7.300e+01, 6.000e+01, 5.700e+01, 7.400e+01, 7.300e+01,\n",
      "       5.400e+01, 5.100e+01, 6.600e+01, 5.500e+01, 4.600e+01, 4.500e+01,\n",
      "       5.100e+01, 5.600e+01, 5.200e+01, 4.600e+01, 4.700e+01, 6.000e+01,\n",
      "       2.900e+01, 4.200e+01, 4.100e+01, 4.000e+01, 4.000e+01, 4.100e+01,\n",
      "       4.000e+01, 5.000e+01, 3.300e+01, 3.500e+01, 5.200e+01, 3.100e+01,\n",
      "       3.200e+01, 2.400e+01, 4.000e+01, 3.500e+01, 2.400e+01, 2.200e+01,\n",
      "       3.500e+01, 3.000e+01, 2.800e+01, 3.000e+01, 3.200e+01, 2.500e+01,\n",
      "       2.600e+01, 3.000e+01, 3.100e+01, 3.500e+01, 2.600e+01, 2.900e+01,\n",
      "       1.800e+01, 3.000e+01, 2.300e+01, 3.900e+01, 2.100e+01, 3.200e+01,\n",
      "       3.100e+01, 2.900e+01, 3.700e+01, 2.800e+01, 3.100e+01, 2.200e+01,\n",
      "       4.100e+01, 3.000e+01, 3.800e+01, 3.600e+01, 2.800e+01, 4.900e+01,\n",
      "       3.900e+01, 3.500e+01, 4.900e+01, 4.400e+01, 4.800e+01, 4.900e+01,\n",
      "       5.700e+01, 7.100e+01, 1.020e+02, 5.020e+02])}\n"
     ]
    }
   ],
   "source": [
    "print('2',hists_priv[tag])\n",
    "#print('3',hists_priv['TvsQCD'].integrate('dataset',data[2]).values())\n",
    "print('4',hists_priv[tag].integrate('dataset',data[2]).integrate('tag').sum('TvsQCD').values())\n",
    "print('5',hists_priv[tag].integrate('dataset',data[2]).integrate('tag','pass').sum('TvsQCD').values())\n",
    "print('6',hists_priv[tag].integrate('dataset',data[2]).integrate('tag','fail').sum('TvsQCD').values())\n",
    "print('7',hists_priv[tag].integrate('dataset',data[2]).values())"
   ]
  },
  {
   "cell_type": "code",
   "execution_count": null,
   "metadata": {},
   "outputs": [],
   "source": [
    "print('pass: ',hists_priv['ttag'].integrate('dataset','Mphi-1995_Mchi-1000').integrate('wp').sum('abseta').values()[('pass',)])\n",
    "print('fail: ',hists_priv['ttag'].integrate('dataset','Mphi-1995_Mchi-1000').integrate('wp').sum('abseta').values()[('fail',)])\n",
    "print('total: ',hists_priv['ttag'].integrate('dataset','Mphi-1995_Mchi-1000').integrate('abseta').integrate('wp').sum('ttag').values()[()])\n",
    "\n",
    "print('pass: ',hists_priv['ttag'].integrate('dataset','Mphi-1995_Mchi-1000').integrate('wp').integrate('ttag','fail').sum('abseta').values())\n",
    "\n"
   ]
  },
  {
   "cell_type": "code",
   "execution_count": null,
   "metadata": {},
   "outputs": [],
   "source": [
    "# List\n",
    "hpass = hists_priv['ttag'].integrate('dataset','Mphi-1995_Mchi-1000').integrate('wp').sum('abseta').values()[('pass',)]\n",
    "hfail = hists_priv['ttag'].integrate('dataset','Mphi-1995_Mchi-1000').integrate('wp').sum('abseta').values()[('fail',)]\n",
    "htotal = hists_priv['ttag'].integrate('dataset','Mphi-1995_Mchi-1000').integrate('abseta').integrate('wp').sum('ttag').values()[()]"
   ]
  },
  {
   "cell_type": "code",
   "execution_count": null,
   "metadata": {},
   "outputs": [],
   "source": [
    "# Dictionary\n",
    "hpass = hists_priv['ttag'].integrate('dataset','Mphi-1995_Mchi-1000').integrate('wp').integrate('ttag','pass').sum('abseta').values()\n",
    "hfail = hists_priv['ttag'].integrate('dataset','Mphi-1995_Mchi-1000').integrate('wp').integrate('ttag','fail').sum('abseta').values()\n",
    "htotal = hists_priv['ttag'].integrate('dataset','Mphi-1995_Mchi-1000').integrate('abseta').integrate('wp').sum('ttag').values()"
   ]
  },
  {
   "cell_type": "code",
   "execution_count": null,
   "metadata": {},
   "outputs": [],
   "source": [
    "print('hpass: ',hpass)\n",
    "print('hfail: ',hfail)\n",
    "print('htotal: ',htotal)\n",
    "print(hpass[()]+hfail[()])"
   ]
  },
  {
   "cell_type": "code",
   "execution_count": null,
   "metadata": {},
   "outputs": [],
   "source": [
    "rpass = hpass[()]/htotal[()]\n",
    "rfail = hfail[()]/htotal[()]\n",
    "\n",
    "print(rpass)\n",
    "print(rfail)"
   ]
  },
  {
   "cell_type": "markdown",
   "metadata": {},
   "source": [
    "## Plotting Variables"
   ]
  },
  {
   "cell_type": "code",
   "execution_count": 7,
   "metadata": {
    "scrolled": true
   },
   "outputs": [
    {
     "ename": "ValueError",
     "evalue": "plot1d() can only support up to two dimensions (one for axis, one to stack or overlay)",
     "output_type": "error",
     "traceback": [
      "\u001b[0;31m---------------------------------------------------------------------------\u001b[0m",
      "\u001b[0;31mValueError\u001b[0m                                Traceback (most recent call last)",
      "\u001b[0;32m<ipython-input-7-14c107f3243b>\u001b[0m in \u001b[0;36m<module>\u001b[0;34m\u001b[0m\n\u001b[1;32m     10\u001b[0m     \u001b[0mhists_priv\u001b[0m\u001b[0;34m[\u001b[0m\u001b[0mvariable\u001b[0m\u001b[0;34m]\u001b[0m\u001b[0;34m,\u001b[0m\u001b[0;34m\u001b[0m\u001b[0;34m\u001b[0m\u001b[0m\n\u001b[1;32m     11\u001b[0m     \u001b[0;31m#overlay=\"dataset\",\u001b[0m\u001b[0;34m\u001b[0m\u001b[0;34m\u001b[0m\u001b[0;34m\u001b[0m\u001b[0m\n\u001b[0;32m---> 12\u001b[0;31m     \u001b[0mstack\u001b[0m\u001b[0;34m=\u001b[0m\u001b[0;32mFalse\u001b[0m\u001b[0;34m,\u001b[0m\u001b[0;34m\u001b[0m\u001b[0;34m\u001b[0m\u001b[0m\n\u001b[0m\u001b[1;32m     13\u001b[0m     \u001b[0;31m#label='UL_Mphi-995_Mchi-500'\u001b[0m\u001b[0;34m\u001b[0m\u001b[0;34m\u001b[0m\u001b[0;34m\u001b[0m\u001b[0m\n\u001b[1;32m     14\u001b[0m     \u001b[0;31m#fill_opts={'alpha': .5, 'edgecolor': (0,0,0,0.3)}\u001b[0m\u001b[0;34m\u001b[0m\u001b[0;34m\u001b[0m\u001b[0;34m\u001b[0m\u001b[0m\n",
      "\u001b[0;32m~/.local/lib/python3.7/site-packages/coffea/hist/plot.py\u001b[0m in \u001b[0;36mplot1d\u001b[0;34m(hist, ax, clear, overlay, stack, overflow, line_opts, fill_opts, error_opts, legend_opts, overlay_overflow, density, binwnorm, densitymode, order)\u001b[0m\n\u001b[1;32m    182\u001b[0m             \u001b[0max\u001b[0m\u001b[0;34m.\u001b[0m\u001b[0mclear\u001b[0m\u001b[0;34m(\u001b[0m\u001b[0;34m)\u001b[0m\u001b[0;34m\u001b[0m\u001b[0;34m\u001b[0m\u001b[0m\n\u001b[1;32m    183\u001b[0m     \u001b[0;32mif\u001b[0m \u001b[0mhist\u001b[0m\u001b[0;34m.\u001b[0m\u001b[0mdim\u001b[0m\u001b[0;34m(\u001b[0m\u001b[0;34m)\u001b[0m \u001b[0;34m>\u001b[0m \u001b[0;36m2\u001b[0m\u001b[0;34m:\u001b[0m\u001b[0;34m\u001b[0m\u001b[0;34m\u001b[0m\u001b[0m\n\u001b[0;32m--> 184\u001b[0;31m         \u001b[0;32mraise\u001b[0m \u001b[0mValueError\u001b[0m\u001b[0;34m(\u001b[0m\u001b[0;34m\"plot1d() can only support up to two dimensions (one for axis, one to stack or overlay)\"\u001b[0m\u001b[0;34m)\u001b[0m\u001b[0;34m\u001b[0m\u001b[0;34m\u001b[0m\u001b[0m\n\u001b[0m\u001b[1;32m    185\u001b[0m     \u001b[0;32mif\u001b[0m \u001b[0moverlay\u001b[0m \u001b[0;32mis\u001b[0m \u001b[0;32mNone\u001b[0m \u001b[0;32mand\u001b[0m \u001b[0mhist\u001b[0m\u001b[0;34m.\u001b[0m\u001b[0msparse_dim\u001b[0m\u001b[0;34m(\u001b[0m\u001b[0;34m)\u001b[0m \u001b[0;34m==\u001b[0m \u001b[0;36m1\u001b[0m \u001b[0;32mand\u001b[0m \u001b[0mhist\u001b[0m\u001b[0;34m.\u001b[0m\u001b[0mdense_dim\u001b[0m\u001b[0;34m(\u001b[0m\u001b[0;34m)\u001b[0m \u001b[0;34m==\u001b[0m \u001b[0;36m1\u001b[0m\u001b[0;34m:\u001b[0m\u001b[0;34m\u001b[0m\u001b[0;34m\u001b[0m\u001b[0m\n\u001b[1;32m    186\u001b[0m         \u001b[0moverlay\u001b[0m \u001b[0;34m=\u001b[0m \u001b[0mhist\u001b[0m\u001b[0;34m.\u001b[0m\u001b[0msparse_axes\u001b[0m\u001b[0;34m(\u001b[0m\u001b[0;34m)\u001b[0m\u001b[0;34m[\u001b[0m\u001b[0;36m0\u001b[0m\u001b[0;34m]\u001b[0m\u001b[0;34m.\u001b[0m\u001b[0mname\u001b[0m\u001b[0;34m\u001b[0m\u001b[0;34m\u001b[0m\u001b[0m\n",
      "\u001b[0;31mValueError\u001b[0m: plot1d() can only support up to two dimensions (one for axis, one to stack or overlay)"
     ]
    },
    {
     "data": {
      "image/png": "[encoded data removed]",
      "text/plain": [
       "<Figure size 936x792 with 1 Axes>"
      ]
     },
     "metadata": {
      "needs_background": "light"
     },
     "output_type": "display_data"
    }
   ],
   "source": [
    "from cycler import cycler\n",
    "\n",
    "variable = tag#'dRfjtop'\n",
    "var = 'top pT'\n",
    "\n",
    "fig, ax = plt.subplots(figsize=(13,11))\n",
    "#fig, ax = plt.plot(figsize=(13,11))\n",
    "\n",
    "ax = plot.plot1d(\n",
    "    hists_priv[variable],\n",
    "    #overlay=\"dataset\",\n",
    "    stack=False,\n",
    "    #label='UL_Mphi-995_Mchi-500'\n",
    "    #fill_opts={'alpha': .5, 'edgecolor': (0,0,0,0.3)}\n",
    ")\n",
    "ax.set_xlim(0., 6)\n",
    "#ax.set_ylim(0., 10000)\n",
    "\n",
    "plot_path = os.path.abspath('/Users/hongjieun/MonoTop/notebook_plotting/signal/ttag_eff') \n",
    "plot_name = 'sigUL18_'+variable+'.png'\n",
    "#plt.savefig(os.path.join(plot_path, plot_name))\n",
    "\n",
    "\n",
    "\n"
   ]
  },
  {
   "cell_type": "markdown",
   "metadata": {},
   "source": [
    "## Plotting 'pass/total' and 'fail/total'"
   ]
  },
  {
   "cell_type": "code",
   "execution_count": 8,
   "metadata": {
    "scrolled": true
   },
   "outputs": [
    {
     "name": "stdout",
     "output_type": "stream",
     "text": [
      "<Hist (TvsQCD) instance at 0x7f8a93058d90>\n",
      "<Hist (TvsQCD) instance at 0x7f8a93058e90>\n",
      "[122837.  10335.   6402.   4723.   3634.   3111.   2687.   2232.   2116.\n",
      "   1868.   1630.   1502.   1364.   1281.   1217.   1110.   1080.   1059.\n",
      "    958.    952.    863.    785.    826.    786.    769.    683.    684.\n",
      "    675.    643.    640.    565.    541.    608.    545.    518.    521.\n",
      "    537.    537.    480.    460.    504.    479.    446.    461.    445.\n",
      "    446.    461.    404.    452.    439.    423.    435.    448.    408.\n",
      "    406.    400.    402.    398.    368.    347.    396.    381.    405.\n",
      "    415.    373.    406.    397.    391.    410.    388.    403.    383.\n",
      "    392.    421.    443.    444.    414.    431.    413.    478.    459.\n",
      "    473.    453.    490.    492.    544.    530.    633.    613.    658.\n",
      "    633.    657.    762.    889.    947.   1211.   1370.   2048.   3156.\n",
      "  19961.]\n",
      "[37867.  7251.  4789.  3660.  2884.  2523.  2228.  1872.  1752.  1600.\n",
      "  1394.  1298.  1184.  1117.  1061.   969.   941.   933.   855.   830.\n",
      "   768.   692.   749.   696.   681.   610.   624.   618.   569.   567.\n",
      "   511.   490.   542.   490.   472.   476.   486.   481.   428.   414.\n",
      "   457.   419.   417.   419.   404.   406.   421.   363.   412.   389.\n",
      "   390.   400.   396.   377.   374.   376.   362.   363.   344.   325.\n",
      "   361.   351.   377.   385.   341.   381.   371.   361.   379.   353.\n",
      "   377.   354.   374.   391.   420.   405.   393.   399.   382.   449.\n",
      "   422.   445.   422.   468.   451.   514.   492.   597.   585.   609.\n",
      "   594.   622.   713.   845.   899.  1162.  1313.  1977.  3054. 19459.]\n"
     ]
    },
    {
     "data": {
      "image/png": "[encoded data removed]",
      "text/plain": [
       "<Figure size 792x648 with 1 Axes>"
      ]
     },
     "metadata": {
      "needs_background": "light"
     },
     "output_type": "display_data"
    }
   ],
   "source": [
    "#fig, ax = plt.subplots(figsize=(13,11))\n",
    "\n",
    "vari = 'tmatchj'\n",
    "hname = data[2]\n",
    "AK8cone = 0.8\n",
    "\n",
    "denominator = hists_priv[vari].integrate('dataset',hname).integrate('tag')\n",
    "numerator = hists_priv[vari].integrate('dataset',hname).integrate('tag','pass')\n",
    "\n",
    "print(denominator)\n",
    "print(numerator)\n",
    "print(denominator.values()[()])\n",
    "print(numerator.values()[()])\n",
    "\n",
    "plt.rcParams.update({'figure.max_open_warning': 0,'font.size': 14, 'axes.titlesize': 18, 'axes.labelsize': 18, 'xtick.labelsize': 12, 'ytick.labelsize': 12, 'figure.figsize':(11,9)})\n",
    "\n",
    "numerator.label = 'Ratio'\n",
    "#ax = plt.subplots(figsize=(13,11))\n",
    "ax = plot.plotratio(\n",
    "    num=numerator,\n",
    "    denom=denominator,\n",
    "    error_opts={'color': 'k', 'marker': 'o'},\n",
    "    unc='num',\n",
    "    label=hname+'\\n dR (fatjet, top) <'+str(AK8cone)\n",
    ")\n",
    "\n",
    "#ax.set_xlim(0., 2000)\n",
    "ax.legend(loc='lower left')\n",
    "\n",
    "plot_path = os.path.abspath('/Users/hongjieun/MonoTop/notebook_plotting/signal/ttag_eff') \n",
    "plot_name = 'sigUL18_'+vari+'.png'\n",
    "#plt.savefig(os.path.join(plot_path, plot_name))\n"
   ]
  },
  {
   "cell_type": "markdown",
   "metadata": {},
   "source": [
    "## Plotting with .scale"
   ]
  },
  {
   "cell_type": "code",
   "execution_count": 33,
   "metadata": {
    "scrolled": true
   },
   "outputs": [
    {
     "name": "stdout",
     "output_type": "stream",
     "text": [
      "238499.0\n",
      "4 {('pass',): array([0.15877215, 0.03040264, 0.02007975, 0.01534598, 0.01209229,\n",
      "       0.01057866, 0.00934176, 0.00784909, 0.00734594, 0.00670862,\n",
      "       0.00584489, 0.00544237, 0.00496438, 0.00468346, 0.00444866,\n",
      "       0.00406291, 0.00394551, 0.00391197, 0.00358492, 0.0034801 ,\n",
      "       0.00322014, 0.00290148, 0.00314047, 0.00291825, 0.00285536,\n",
      "       0.00255766, 0.00261636, 0.00259121, 0.00238575, 0.00237737,\n",
      "       0.00214257, 0.00205452, 0.00227255, 0.00205452, 0.00197904,\n",
      "       0.00199582, 0.00203774, 0.00201678, 0.00179456, 0.00173586,\n",
      "       0.00191615, 0.00175682, 0.00174844, 0.00175682, 0.00169393,\n",
      "       0.00170231, 0.00176521, 0.00152202, 0.00172747, 0.00163103,\n",
      "       0.00163523, 0.00167716, 0.00166038, 0.00158072, 0.00156814,\n",
      "       0.00157653, 0.00151783, 0.00152202, 0.00144235, 0.00136269,\n",
      "       0.00151363, 0.0014717 , 0.00158072, 0.00161426, 0.00142978,\n",
      "       0.00159749, 0.00155556, 0.00151363, 0.00158911, 0.00148009,\n",
      "       0.00158072, 0.00148428, 0.00156814, 0.00163942, 0.00176101,\n",
      "       0.00169812, 0.00164781, 0.00167296, 0.00160168, 0.00188261,\n",
      "       0.0017694 , 0.00186584, 0.0017694 , 0.00196227, 0.00189099,\n",
      "       0.00215515, 0.0020629 , 0.00250316, 0.00245284, 0.00255347,\n",
      "       0.00249058, 0.00260798, 0.00298953, 0.00354299, 0.00376941,\n",
      "       0.00487214, 0.00550526, 0.00828934, 0.01280509, 0.08158944]), ('fail',): array([3.56269838e-01, 1.29308718e-02, 6.76313108e-03, 4.45704175e-03,\n",
      "       3.14466727e-03, 2.46541914e-03, 1.92453637e-03, 1.50944029e-03,\n",
      "       1.52621185e-03, 1.12369444e-03, 9.89521969e-04, 8.55349498e-04,\n",
      "       7.54720146e-04, 6.87633910e-04, 6.54090793e-04, 5.91197447e-04,\n",
      "       5.82811668e-04, 5.28304102e-04, 4.31867639e-04, 5.11532543e-04,\n",
      "       3.98324521e-04, 3.89938742e-04, 3.22852507e-04, 3.77360073e-04,\n",
      "       3.68974293e-04, 3.06080948e-04, 2.51573382e-04, 2.38994713e-04,\n",
      "       3.10273838e-04, 3.06080948e-04, 2.26416044e-04, 2.13837375e-04,\n",
      "       2.76730720e-04, 2.30608933e-04, 1.92872926e-04, 1.88680036e-04,\n",
      "       2.13837375e-04, 2.34801823e-04, 2.18030264e-04, 1.92872926e-04,\n",
      "       1.97065816e-04, 2.51573382e-04, 1.21593801e-04, 1.76101367e-04,\n",
      "       1.71908478e-04, 1.67715588e-04, 1.67715588e-04, 1.71908478e-04,\n",
      "       1.67715588e-04, 2.09644485e-04, 1.38365360e-04, 1.46751139e-04,\n",
      "       2.18030264e-04, 1.29979581e-04, 1.34172470e-04, 1.00629353e-04,\n",
      "       1.67715588e-04, 1.46751139e-04, 1.00629353e-04, 9.22435733e-05,\n",
      "       1.46751139e-04, 1.25786691e-04, 1.17400912e-04, 1.25786691e-04,\n",
      "       1.34172470e-04, 1.04822242e-04, 1.09015132e-04, 1.25786691e-04,\n",
      "       1.29979581e-04, 1.46751139e-04, 1.09015132e-04, 1.21593801e-04,\n",
      "       7.54720146e-05, 1.25786691e-04, 9.64364630e-05, 1.63522698e-04,\n",
      "       8.80506837e-05, 1.34172470e-04, 1.29979581e-04, 1.21593801e-04,\n",
      "       1.55136919e-04, 1.17400912e-04, 1.29979581e-04, 9.22435733e-05,\n",
      "       1.71908478e-04, 1.25786691e-04, 1.59329809e-04, 1.50944029e-04,\n",
      "       1.17400912e-04, 2.05451595e-04, 1.63522698e-04, 1.46751139e-04,\n",
      "       2.05451595e-04, 1.84487147e-04, 2.01258705e-04, 2.05451595e-04,\n",
      "       2.38994713e-04, 2.97695169e-04, 4.27674749e-04, 2.10483063e-03])}\n"
     ]
    },
    {
     "data": {
      "image/png": "[encoded data removed]",
      "text/plain": [
       "<Figure size 792x648 with 1 Axes>"
      ]
     },
     "metadata": {
      "needs_background": "light"
     },
     "output_type": "display_data"
    }
   ],
   "source": [
    "##### total\n",
    "#fig, ax = plt.subplots(figsize=(13,11))\n",
    "\n",
    "vari = 'tmatchj'\n",
    "hname = data[2]\n",
    "AK8cone = 0.8\n",
    "\n",
    "#denominator = hists_priv[vari].integrate('dataset',hname).integrate('tag')\n",
    "#numerator = hists_priv[vari].integrate('dataset',hname).integrate('tag','pass')\n",
    "\n",
    "#print(denominator)\n",
    "#print(numerator)\n",
    "#print(denominator.values()[()])\n",
    "#print(numerator.values()[()])\n",
    "\n",
    "plt.rcParams.update({'figure.max_open_warning': 0,'font.size': 14, 'axes.titlesize': 18, 'axes.labelsize': 18, 'xtick.labelsize': 12, 'ytick.labelsize': 12, 'figure.figsize':(11,9)})\n",
    "\n",
    "tot = {}\n",
    "\n",
    "for i in data:\n",
    "    tot[i] = hists_priv[vari].integrate('dataset',i).integrate('tag').sum('TvsQCD').values()[()]\n",
    "    \n",
    "print(tot[data[2]])\n",
    "    \n",
    "for d in data:\n",
    "    hists_priv[vari].scale({d:1/tot[d]},axis='dataset')\n",
    "    \n",
    "print('4',hists_priv[vari].integrate('dataset',data[2]).values())\n",
    "\n",
    "\n",
    "\n",
    "#ax.label = 'Ratio'\n",
    "#ax = plt.subplots(figsize=(13,11))\n",
    "ax = plot.plot1d(\n",
    "    hists_priv[vari].integrate('tag','pass'),\n",
    "    #overlay=\"dataset\",\n",
    "    stack=False,\n",
    "    #label='UL_Mphi-995_Mchi-500'\n",
    "    #label=hname+'\\n dR (fatjet, top) <'+str(AK8cone)\n",
    "    #fill_opts={'alpha': \n",
    ")\n",
    "#ax.set_xlim(0., 2000)\n",
    "#ax.legend(loc='lower left')\n",
    "ax.legend(loc='best')\n",
    "plt.ylabel('Ratio (dR (fatjet, top) < 0.8 / total)')\n",
    "\n",
    "plot_path = os.path.abspath('/Users/hongjieun/MonoTop/notebook_plotting/signal/ttag_eff') \n",
    "plot_name = 'sigUL18_'+vari+'.png'\n",
    "#plt.savefig(os.path.join(plot_path, plot_name))\n"
   ]
  },
  {
   "cell_type": "code",
   "execution_count": null,
   "metadata": {
    "scrolled": false
   },
   "outputs": [],
   "source": [
    "#fig, ax = plt.subplots(figsize=(13,11))\n",
    "\n",
    "hname = data[2]\n",
    "TvsQCDwp = 0.65\n",
    "\n",
    "denominator = hists_priv['ttag'].integrate('dataset','Mphi-1995_Mchi-1000').integrate('abseta').integrate('wp').sum('ttag')\n",
    "numerator = hists_priv['ttag'].integrate('dataset','Mphi-1995_Mchi-1000').integrate('ttag','pass').integrate('wp').sum('abseta')\n",
    "\n",
    "print(denominator)\n",
    "print(numerator)\n",
    "print(denominator.values()[()])\n",
    "print(numerator.values()[()])\n",
    "\n",
    "plt.rcParams.update({'figure.max_open_warning': 0,'font.size': 14, 'axes.titlesize': 18, 'axes.labelsize': 18, 'xtick.labelsize': 12, 'ytick.labelsize': 12, 'figure.figsize':(11,9)})\n",
    "\n",
    "numerator.label = 'Ratio(pass/total)'\n",
    "#ax = plt.subplots(figsize=(13,11))\n",
    "ax = plot.plotratio(\n",
    "    num=numerator,\n",
    "    denom=denominator,\n",
    "    error_opts={'color': 'k', 'marker': 'o'},\n",
    "    unc='num',\n",
    "    label=hname+'\\n >'+str(TvsQCDwp)\n",
    ")\n",
    "\n",
    "ax.set_xlim(0., 2000)\n",
    "ax.legend(loc='best')\n"
   ]
  },
  {
   "cell_type": "markdown",
   "metadata": {},
   "source": [
    "# Back-up"
   ]
  },
  {
   "cell_type": "code",
   "execution_count": null,
   "metadata": {},
   "outputs": [],
   "source": [
    "from cycler import cycler\n",
    "\n",
    "variable = 'met'\n",
    "mphi = str(2000)\n",
    "mchi = str(1500)\n",
    "hname = 'Monotop_Mphi_'+mphi+'_Mchi_'+mchi\n",
    "\n",
    "#fig = plt.subplots(1, 1, figsize=(11,13), gridspec_kw={\"height_ratios\": (1, 1)}, sharex=False)\n",
    "\n",
    "offical = ['Vector_MonoTop_NLO_Mphi-1995_Mchi-1000_13TeV_TuneCP5_mcatnlo_pythia8',\n",
    "           'Vector_MonoTop_NLO_Mphi-2000_Mchi-1500_13TeV_TuneCP5_mcatnlo_pythia8',\n",
    "           'Vector_MonoTop_NLO_Mphi-2000_Mchi-500_13TeV_TuneCP5_mcatnlo_pythia8']\n",
    "\n",
    "private = ['VectorMonotop_Mphi_1995_Mchi_1000',\n",
    "           'VectorMonotop_Mphi_2000_Mchi_1500',\n",
    "           'VectorMonotop_Mphi_2000_Mchi_500']\n",
    "\n",
    "soff = {}\n",
    "spri = {}\n",
    "\n",
    "for i, j in zip(offical, private):\n",
    "    soff[i] = hists_offi[variable].integrate('dataset',i).sum(variable).values()[()]\n",
    "    spri[j] = hists_priv[variable].integrate('dataset',j).sum(variable).values()[()]\n",
    "\n",
    "for d in offical:\n",
    "    hists_offi[variable].scale({d:1/soff[d]},axis='dataset')\n",
    "\n",
    "for d in private:\n",
    "    hists_priv[variable].scale({d:1/spri[d]},axis='dataset')\n",
    "    \n",
    "\n",
    "denominator = hists_offi[variable].integrate('dataset', 'Vector_MonoTop_NLO_Mphi-'+mphi+'_Mchi-'+mchi+'_13TeV_TuneCP5_mcatnlo_pythia8')\n",
    "numerator = hists_priv[variable].integrate('dataset', 'VectorMonotop_Mphi_'+mphi+'_Mchi_'+mchi)\n",
    "\n",
    "print(denominator.values()[()])\n",
    "print(numerator.values()[()])\n",
    "\n",
    "plt.rcParams.update({'figure.max_open_warning': 0,'font.size': 14, 'axes.titlesize': 18, 'axes.labelsize': 18, 'xtick.labelsize': 12, 'ytick.labelsize': 12, 'figure.figsize':(11,9)})\n",
    "\n",
    "numerator.label = 'Ratio(private/official)'\n",
    "#ax = plt.subplots(figsize=(13,11))\n",
    "ax = plot.plotratio(\n",
    "    num=numerator,\n",
    "    denom=denominator,\n",
    "    error_opts={'color': 'k', 'marker': '.'},\n",
    "    unc='num',\n",
    "    label=hname\n",
    ")\n",
    "\n",
    "ax.set_ylim(0.80, 1.20)\n",
    "\n",
    "\n",
    "\n",
    "leg = ax.legend(loc='best')\n",
    "\n",
    "#hists[variable].axis('dataset').index('VectorMonotop_Mphi_1995_Mchi_1000').label = 'Mphi-1995_Mchi-1000'\n",
    "#hists[variable].axis('dataset').index('VectorMonotop_Mphi_2000_Mchi_1500').label = 'Mphi-2000_Mchi-1500'\n",
    "#hists[variable].axis('dataset').index('VectorMonotop_Mphi_2000_Mchi_500').label = 'Mphi-2000_Mchi-500'\n",
    "\n",
    "\n",
    "plot_path = os.path.abspath('/Users/hongjieun/MonoTop/signal_monotop2018_private') \n",
    "plot_name = 'ratio_'+variable+'_'+hname+'.png'\n",
    "plt.savefig(os.path.join(plot_path, plot_name))\n",
    "\n"
   ]
  },
  {
   "cell_type": "code",
   "execution_count": null,
   "metadata": {
    "scrolled": true
   },
   "outputs": [],
   "source": [
    "from cycler import cycler\n",
    "\n",
    "variable = 'toppt'\n",
    "var = 'top pT'\n",
    "\n",
    "#fig = plt.subplots(1, 1, figsize=(11,13), gridspec_kw={\"height_ratios\": (1, 1)}, sharex=False)\n",
    "fig, ax = plt.subplots(figsize=(13,11))\n",
    "#fig, ax = plt.plot(figsize=(13,11))\n",
    "\n",
    "ax = plot.plot1d(\n",
    "    hists_priv[variable],\n",
    "    #overlay=\"dataset\",\n",
    "    stack=False,\n",
    "    #label='UL_Mphi-995_Mchi-500'\n",
    "    #fill_opts={'alpha': .5, 'edgecolor': (0,0,0,0.3)}\n",
    ")\n",
    "\n",
    "#hists_priv[variable].axis('dataset').index('VectorMonotop_Mphi_1995_Mchi_1000').label = 'Mphi-1995_Mchi-1000'\n",
    "#hists_priv[variable].axis('dataset').index('VectorMonotop_Mphi_2000_Mchi_1500').label = 'Mphi-2000_Mchi-1500'\n",
    "#hists_priv[variable].axis('dataset').index('VectorMonotop_Mphi_2000_Mchi_500').label = 'Mphi-2000_Mchi-500'\n",
    "\n",
    "#ax.set_xlabel('AK15 Leading Jet phi')\n",
    "font1 = {'size' : 24\n",
    "        }\n",
    "plt.xlabel(var, fontdict=font1)\n",
    "plt.ylabel('Events', fontdict=font1)\n",
    "\n",
    "plt.grid(True)\n",
    "plt.legend(loc='best', ncol=1, fontsize=16)\n",
    "\n",
    "plt.tick_params(axis='both', labelsize=18)\n",
    "ax.set_yscale('log')\n",
    "ax.set_ylim(.00000001, None)\n",
    "#ax.set_xlim(.1, None)\n",
    "\n",
    "datam = 'Mphi-2500' #'Mphi-2500'\n",
    "\n",
    "plot_path = os.path.abspath('/Users/hongjieun/MonoTop/notebook_plotting/signal/plots_Legacy17') \n",
    "plot_name = 'sig2_'+variable+'_'+datam+'.png'\n",
    "#plt.savefig(os.path.join(plot_path, plot_name))\n",
    "\n"
   ]
  },
  {
   "cell_type": "code",
   "execution_count": null,
   "metadata": {
    "scrolled": false
   },
   "outputs": [],
   "source": [
    "from cycler import cycler\n",
    "\n",
    "variable = 'toppt'\n",
    "var = 'Top pT'\n",
    "\n",
    "#fig = plt.subplots(1, 1, figsize=(11,13), gridspec_kw={\"height_ratios\": (1, 1)}, sharex=False)\n",
    "fig, ax = plt.subplots(figsize=(13,11))\n",
    "#fig, ax = plt.plot(figsize=(13,11))\n",
    "\n",
    "mass = 'Mphi3000'\n",
    "#mass = 'Mphi3000_Legacy'\n",
    "\n",
    "Mphi1000 = ['Mphi-995_Mchi-500',\n",
    "           'Mphi-1000_Mchi-150',\n",
    "           'Mphi-1000_Mchi-1000']\n",
    "Mphi2500 = ['Mphi-2500_Mchi-750',\n",
    "           'Mphi-2500_Mchi-2000',\n",
    "           'Mphi-2495_Mchi-1250']\n",
    "Mphi500 = ['Mphi-500_Mchi-500',\n",
    "           'Mphi-500_Mchi-150',\n",
    "           'Mphi-495_Mchi-250']\n",
    "Mphi3000 = ['Mphi-3000_Mchi-2000',\n",
    "           'Mphi-3000_Mchi-1000',\n",
    "           'Mphi-2995_Mchi-1500']\n",
    "Mphi2000 = ['Mphi-2000_Mchi-500',\n",
    "           'Mphi-2000_Mchi-1500',\n",
    "           'Mphi-1995_Mchi-1000']\n",
    "\n",
    "Mphi2500L = ['Vector_MonoTop_NLO_Mphi-2500_Mchi-2000_13TeV_TuneCP5_mcatnlo_pythia8',\n",
    "             'Vector_MonoTop_NLO_Mphi-2500_Mchi-750_13TeV_TuneCP5_mcatnlo_pythia8',\n",
    "             'Vector_MonoTop_NLO_Mphi-2495_Mchi-1250_13TeV_TuneCP5_mcatnlo_pythia8']\n",
    "Mphi3000L = ['Vector_MonoTop_NLO_Mphi-3000_Mchi-2000_13TeV_TuneCP5_mcatnlo_pythia8',\n",
    "             'Vector_MonoTop_NLO_Mphi-3000_Mchi-1000_13TeV_TuneCP5_mcatnlo_pythia8',\n",
    "             'Vector_MonoTop_NLO_Mphi-2995_Mchi-1500_13TeV_TuneCP5_mcatnlo_pythia8']\n",
    "Mphi500L = ['Vector_MonoTop_NLO_Mphi-500_Mchi-500_13TeV_TuneCP5_mcatnlo_pythia8',\n",
    "             'Vector_MonoTop_NLO_Mphi-500_Mchi-150_13TeV_TuneCP5_mcatnlo_pythia8',\n",
    "             'Vector_MonoTop_NLO_Mphi-495_Mchi-250_13TeV_TuneCP5_mcatnlo_pythia8']\n",
    "p1 ={}\n",
    "p2 = {}\n",
    "\n",
    "for i, j in zip(Mphi3000, Mphi3000L):\n",
    "    p1[i] = hists_priv[variable].integrate('dataset',i).sum(variable).values()[()]\n",
    "    p2[j] = hists_priv2[variable].integrate('dataset',j).sum(variable).values()[()]\n",
    "\n",
    "\n",
    "for d in Mphi3000L:\n",
    "    hists_priv2[variable].scale({d:1/p2[d]},axis='dataset')\n",
    "\n",
    "for d in Mphi3000:\n",
    "    hists_priv[variable].scale({d:1/p1[d]},axis='dataset')\n",
    "    \n",
    "ax = plot.plot1d(\n",
    "    hists_priv[variable],#.integrate('dataset','Mphi-1000_Mchi-1000'),\n",
    "    #overlay=\"dataset\",\n",
    "    stack=False,\n",
    "    #label='UL_Mphi-995_Mchi-500'\n",
    "    #fill_opts={'alpha': .5, 'edgecolor': (0,0,0,0.3)}\n",
    ")\n",
    "\n",
    "#hists_priv[variable].axis('dataset').index('VectorMonotop_Mphi_1995_Mchi_1000').label = 'Mphi-1995_Mchi-1000'\n",
    "#hists_priv[variable].axis('dataset').index('VectorMonotop_Mphi_2000_Mchi_1500').label = 'Mphi-2000_Mchi-1500'\n",
    "#hists_priv[variable].axis('dataset').index('VectorMonotop_Mphi_2000_Mchi_500').label = 'Mphi-2000_Mchi-500'\n",
    "\n",
    "#ax.set_xlabel('AK15 Leading Jet phi')\n",
    "font1 = {'size' : 24\n",
    "        }\n",
    "plt.xlabel(var, fontdict=font1)\n",
    "plt.ylabel('Events (Norm)', fontdict=font1)\n",
    "\n",
    "plt.grid(True)\n",
    "plt.legend(loc='best', ncol=1, fontsize=16)\n",
    "\n",
    "plt.tick_params(axis='both', labelsize=18)\n",
    "#ax.set_xlim(0.,3000)\n",
    "ax.set_yscale('log')\n",
    "ax.set_ylim(.00000001, None)\n",
    "#ax.set_xlim(.1, None)\n",
    "\n",
    "plot_path = os.path.abspath('/Users/hongjieun/MonoTop/notebook_plotting/signal/plots_20UL17_Norm') \n",
    "plot_name = 'sig2_'+variable+'_'+mass+'_log.png'\n",
    "plt.savefig(os.path.join(plot_path, plot_name))\n",
    "\n"
   ]
  },
  {
   "cell_type": "code",
   "execution_count": null,
   "metadata": {},
   "outputs": [],
   "source": [
    "mphi1000 = ['Mphi-995_Mchi-500','Mphi-1000_Mchi-150','Mphi-1000_Mchi-1000']\n",
    "mphi2500 = ['Mphi-2500_Mchi-750','Mphi-2500_Mchi-2000','Mphi-2495_Mchi-1250']"
   ]
  },
  {
   "cell_type": "code",
   "execution_count": null,
   "metadata": {},
   "outputs": [],
   "source": [
    "offi1 = 'Vector_MonoTop_NLO_Mphi-1995_Mchi-1000_13TeV_TuneCP5_mcatnlo_pythia8'\n",
    "offi2 = 'Vector_MonoTop_NLO_Mphi-2000_Mchi-1500_13TeV_TuneCP5_mcatnlo_pythia8'\n",
    "offi3 = 'Vector_MonoTop_NLO_Mphi-2000_Mchi-500_13TeV_TuneCP5_mcatnlo_pythia8'\n",
    "\n",
    "priv1 = 'VectorMonotop_Mphi_1995_Mchi_1000'\n",
    "priv2 = 'VectorMonotop_Mphi_2000_Mchi_1500'\n",
    "priv3 = 'VectorMonotop_Mphi_2000_Mchi_500'"
   ]
  },
  {
   "cell_type": "code",
   "execution_count": null,
   "metadata": {},
   "outputs": [],
   "source": [
    "######\n",
    "#### editted for 995-500 samples\n",
    "######\n",
    "from cycler import cycler\n",
    "\n",
    "variable = 'njets'\n",
    "mphi = str(995)\n",
    "mchi = str(500)\n",
    "hname = 'Monotop_Mphi_'+mphi+'_Mchi_'+mchi\n",
    "#offiname = 'Vector_MonoTop_NLO_Mphi-'+mphi+'_Mchi-'+mchi+'_13TeV_TuneCP5_mcatnlo_pythia8'\n",
    "#privname = 'VectorMonotop_Mphi_'+mphi+'_Mchi_'+mchi\n",
    "\n",
    "offiname = 'Vector_MonoTop_NLO_Mphi-'+mphi+'_Mchi-'+mchi+'_13TeV_TuneCP5_mcatnlo_pythia8'\n",
    "privname = 'UL_995_500'\n",
    "\n",
    "offical = [\n",
    "#    'Vector_MonoTop_NLO_Mphi-1995_Mchi-1000_13TeV_TuneCP5_mcatnlo_pythia8',\n",
    "    'Vector_MonoTop_NLO_Mphi-995_Mchi-500_13TeV_TuneCP5_mcatnlo_pythia8'\n",
    "#    'Vector_MonoTop_NLO_Mphi-2000_Mchi-500_13TeV_TuneCP5_mcatnlo_pythia8'\n",
    "    ]\n",
    "\n",
    "private = ['UL_995_500']\n",
    "\n",
    "#private = ['VectorMonotop_Mphi_1995_Mchi_1000',\n",
    "#           'VectorMonotop_Mphi_2000_Mchi_1500',\n",
    "#           'VectorMonotop_Mphi_2000_Mchi_500']\n",
    "\n",
    "plt.rcParams.update({'figure.max_open_warning': 0,'font.size': 14, 'axes.titlesize': 18, 'axes.labelsize': 18, 'xtick.labelsize': 12, 'ytick.labelsize': 12, 'figure.figsize':(11,9)})\n",
    "colors = ['#a6cee3', '#3130db', '#1f78b4', '#b2df8a', '#48e926', '#33a02c', '#c0df26']\n",
    "fig, (ax, rax) = plt.subplots(2, 1, figsize=(11,13), gridspec_kw={\"height_ratios\": (3, 1)}, sharex=True)\n",
    "fig.subplots_adjust(hspace=.07)\n",
    "ax.set_prop_cycle(cycler(color=colors))\n",
    "\n",
    "#hists_offi[variable].axis('dataset').index(offiname).label = hname+' official'\n",
    "hists_priv[variable].axis('dataset').index(offiname).label = hname+' official'\n",
    "hists_priv[variable].axis('dataset').index(privname).label = hname+' private'\n",
    "\n",
    "\n",
    "soff = {}\n",
    "spri = {}\n",
    "\n",
    "for i, j in zip(offical, private):\n",
    "    #soff[i] = hists_offi[variable].integrate('dataset',i).sum(variable).values()[()]\n",
    "    soff[i] = hists_priv[variable].integrate('dataset',i).sum(variable).values()[()]\n",
    "    spri[j] = hists_priv[variable].integrate('dataset',j).sum(variable).values()[()]\n",
    "\n",
    "for d in offical:\n",
    "    #hists_offi[variable].scale({d:1/soff[d]},axis='dataset')\n",
    "    hists_priv[variable].scale({d:1/soff[d]},axis='dataset')\n",
    "\n",
    "for d in private:\n",
    "    hists_priv[variable].scale({d:1/spri[d]},axis='dataset')\n",
    "    \n",
    "#denominator = hists_offi[variable].integrate('dataset', offiname)\n",
    "denominator = hists_priv[variable].integrate('dataset', offiname)\n",
    "numerator = hists_priv[variable].integrate('dataset', privname)\n",
    "\n",
    "\n",
    "print(denominator.values()[()])\n",
    "print(numerator.values()[()])\n",
    "\n",
    "plot.plot1d(hists_priv[variable].integrate('dataset',offiname),\n",
    "#plot.plot1d(hists_offi[variable].integrate('dataset',offiname),\n",
    "            ax = ax,\n",
    "           clear=False,\n",
    "           error_opts={'color': '#3130db','linestyle':'-','marker':'o','markersize': 8.}\n",
    "           )\n",
    "\n",
    "plot.plot1d(hists_priv[variable].integrate('dataset',privname), \n",
    "            ax = ax,\n",
    "           clear=False,\n",
    "           error_opts={'color': 'r','linestyle':'-','marker':'s','markersize': 8.}\n",
    "           )\n",
    "\n",
    "plot.plotratio(\n",
    "    num=numerator,\n",
    "    denom=denominator,\n",
    "    ax = rax,\n",
    "    error_opts={'color': 'k', 'marker': '.','markersize': 10},\n",
    "    unc='num')\n",
    "\n",
    "\n",
    "#denominator.label = hname+' official'\n",
    "#numerator.label = hname+' private'\n",
    "\n",
    "ax.set_ylabel('Events (norm)')\n",
    "ax.set_xlabel('number of AK4 jet')\n",
    "#ax.set_yscale('log')\n",
    "\n",
    "#ax.grid(axis='x')\n",
    "\n",
    "rax.set_ylabel('Ratio(private/official')\n",
    "rax.set_xlabel('')\n",
    "rax.set_ylim(0.5,1.5)\n",
    "rax.grid(axis='y')\n",
    "\n",
    "#leg = ax.legend(ncol=2, loc='best')\n",
    "\n",
    "plot_path = os.path.abspath('/Users/hongjieun/MonoTop/notebook_plotting/signal/plots_compare') \n",
    "plot_name = 'ratio_'+variable+'_'+hname+'.png'\n",
    "plt.savefig(os.path.join(plot_path, plot_name))\n"
   ]
  },
  {
   "cell_type": "code",
   "execution_count": null,
   "metadata": {},
   "outputs": [],
   "source": [
    "from cycler import cycler\n",
    "\n",
    "variable = 'fj1pt'\n",
    "mphi = str(2000)\n",
    "mchi = str(1500)\n",
    "hname = 'Monotop_Mphi_'+mphi+'_Mchi_'+mchi\n",
    "#offiname = 'Vector_MonoTop_NLO_Mphi-'+mphi+'_Mchi-'+mchi+'_13TeV_TuneCP5_mcatnlo_pythia8'\n",
    "#privname = 'VectorMonotop_Mphi_'+mphi+'_Mchi_'+mchi\n",
    "\n",
    "offiname = 'Vector_MonoTop_NLO_Mphi-'+mphi+'_Mchi-'+mchi+'_13TeV_TuneCP5_mcatnlo_pythia8'\n",
    "privname = 'monotop2016_2000_1500_nanoaod'\n",
    "\n",
    "offical = [\n",
    "#    'Vector_MonoTop_NLO_Mphi-1995_Mchi-1000_13TeV_TuneCP5_mcatnlo_pythia8',\n",
    "    'Vector_MonoTop_NLO_Mphi-2000_Mchi-1500_13TeV_TuneCP5_mcatnlo_pythia8'\n",
    "#    'Vector_MonoTop_NLO_Mphi-2000_Mchi-500_13TeV_TuneCP5_mcatnlo_pythia8'\n",
    "    ]\n",
    "\n",
    "private = ['monotop2016_2000_1500_nanoaod']\n",
    "\n",
    "#private = ['VectorMonotop_Mphi_1995_Mchi_1000',\n",
    "#           'VectorMonotop_Mphi_2000_Mchi_1500',\n",
    "#           'VectorMonotop_Mphi_2000_Mchi_500']\n",
    "\n",
    "plt.rcParams.update({'figure.max_open_warning': 0,'font.size': 14, 'axes.titlesize': 18, 'axes.labelsize': 18, 'xtick.labelsize': 12, 'ytick.labelsize': 12, 'figure.figsize':(11,9)})\n",
    "colors = ['#a6cee3', '#3130db', '#1f78b4', '#b2df8a', '#48e926', '#33a02c', '#c0df26']\n",
    "fig, (ax, rax) = plt.subplots(2, 1, figsize=(11,13), gridspec_kw={\"height_ratios\": (3, 1)}, sharex=True)\n",
    "fig.subplots_adjust(hspace=.07)\n",
    "ax.set_prop_cycle(cycler(color=colors))\n",
    "\n",
    "hists_offi[variable].axis('dataset').index(offiname).label = hname+' official'\n",
    "hists_priv[variable].axis('dataset').index(privname).label = hname+' private'\n",
    "\n",
    "\n",
    "soff = {}\n",
    "spri = {}\n",
    "\n",
    "for i, j in zip(offical, private):\n",
    "    soff[i] = hists_offi[variable].integrate('dataset',i).sum(variable).values()[()]\n",
    "    spri[j] = hists_priv[variable].integrate('dataset',j).sum(variable).values()[()]\n",
    "\n",
    "for d in offical:\n",
    "    hists_offi[variable].scale({d:1/soff[d]},axis='dataset')\n",
    "\n",
    "for d in private:\n",
    "    hists_priv[variable].scale({d:1/spri[d]},axis='dataset')\n",
    "    \n",
    "denominator = hists_offi[variable].integrate('dataset', offiname)\n",
    "numerator = hists_priv[variable].integrate('dataset', privname)\n",
    "\n",
    "\n",
    "print(denominator.values()[()])\n",
    "print(numerator.values()[()])\n",
    "\n",
    "plot.plot1d(hists_offi[variable].integrate('dataset',offiname),\n",
    "            ax = ax,\n",
    "           clear=False,\n",
    "           error_opts={'color': '#3130db','linestyle':'-','marker':'o','markersize': 8.}\n",
    "           )\n",
    "\n",
    "plot.plot1d(hists_priv[variable].integrate('dataset',privname), \n",
    "            ax = ax,\n",
    "           clear=False,\n",
    "           error_opts={'color': 'r','linestyle':'-','marker':'s','markersize': 8.}\n",
    "           )\n",
    "\n",
    "plot.plotratio(\n",
    "    num=numerator,\n",
    "    denom=denominator,\n",
    "    ax = rax,\n",
    "    error_opts={'color': 'k', 'marker': '.','markersize': 10},\n",
    "    unc='num')\n",
    "\n",
    "\n",
    "#denominator.label = hname+' official'\n",
    "#numerator.label = hname+' private'\n",
    "\n",
    "ax.set_ylabel('Events (norm)')\n",
    "ax.set_xlabel('AK15 Leading Jet pt')\n",
    "#ax.set_yscale('log')\n",
    "\n",
    "#ax.grid(axis='x')\n",
    "\n",
    "rax.set_ylabel('Ratio(private/official')\n",
    "rax.set_xlabel('')\n",
    "rax.set_ylim(0.5,1.5)\n",
    "rax.grid(axis='y')\n",
    "\n",
    "#leg = ax.legend(ncol=2, loc='best')\n",
    "\n",
    "plot_path = os.path.abspath('/Users/hongjieun/MonoTop/signal_monotop2016_private') \n",
    "plot_name = 'ratio_'+variable+'_'+hname+'.png'\n",
    "plt.savefig(os.path.join(plot_path, plot_name))\n"
   ]
  },
  {
   "cell_type": "markdown",
   "metadata": {},
   "source": [
    "### Example Lines"
   ]
  },
  {
   "cell_type": "code",
   "execution_count": null,
   "metadata": {},
   "outputs": [],
   "source": [
    "hists_offi['metphi'].integrate('dataset', 'Vector_MonoTop_NLO_Mphi-2000_Mchi-1500_13TeV_TuneCP5_mcatnlo_pythia8').sum('metphi', overflow='all').values()[()]"
   ]
  },
  {
   "cell_type": "code",
   "execution_count": null,
   "metadata": {},
   "outputs": [],
   "source": [
    "hists_offi['met'].integrate('dataset').sum('met', overflow='all').values()"
   ]
  },
  {
   "cell_type": "code",
   "execution_count": null,
   "metadata": {},
   "outputs": [],
   "source": [
    "hists_priv['met'].integrate('dataset','VectorMonotop_Mphi_2000_Mchi_1500').sum('met', overflow='all').values()[()]"
   ]
  },
  {
   "cell_type": "code",
   "execution_count": null,
   "metadata": {},
   "outputs": [],
   "source": [
    "hists_priv['met'].integrate('dataset','VectorMonotop_Mphi_1995_Mchi_1000').scale(1./(hists_offi['met'].integrate('dataset').sum('met', overflow='all').values()[()]))"
   ]
  }
 ],
 "metadata": {
  "kernelspec": {
   "display_name": "Python 3",
   "language": "python",
   "name": "python3"
  },
  "language_info": {
   "codemirror_mode": {
    "name": "ipython",
    "version": 3
   },
   "file_extension": ".py",
   "mimetype": "text/x-python",
   "name": "python",
   "nbconvert_exporter": "python",
   "pygments_lexer": "ipython3",
   "version": "3.7.7"
  }
 },
 "nbformat": 4,
 "nbformat_minor": 4
}
