{
 "cells": [
  {
   "cell_type": "code",
   "execution_count": 1,
   "metadata": {},
   "outputs": [],
   "source": [
    "import time\n",
    "from coffea import hist, nanoevents, util\n",
    "import coffea.processor as processor\n",
    "import awkward as ak\n",
    "import numpy as np\n",
    "import glob as glob\n",
    "import re\n",
    "import itertools\n",
    "# import vector as vec\n",
    "from coffea.nanoevents.methods import vector, candidate\n",
    "from coffea.nanoevents import NanoAODSchema, BaseSchema\n",
    "from coffea.lumi_tools import LumiMask\n",
    "# for applying JECs\n",
    "from coffea.lookup_tools import extractor\n",
    "from coffea.jetmet_tools import FactorizedJetCorrector, JetCorrectionUncertainty\n",
    "from coffea.jetmet_tools import JECStack, CorrectedJetsFactory\n",
    "from coffea.jetmet_tools import JetResolution, JetResolutionScaleFactor\n",
    "# from jmeCorrections import JetMetCorrections\n",
    "import json\n",
    "\n",
    "\n",
    "import coffea.processor as processor\n",
    "from coffea import hist\n",
    "from coffea.analysis_tools import PackedSelection, Weights\n",
    "from coffea.nanoevents import NanoAODSchema, NanoEventsFactory\n",
    "from coffea.nanoevents.methods import nanoaod\n",
    "\n",
    "# NanoAODSchema.warn_missing_crossrefs = False\n",
    "\n",
    "import pickle\n",
    "# np.errstate(invalid='ignore', divide='ignore')\n",
    "\n",
    "\n",
    "\n",
    "import matplotlib.pyplot as plt\n",
    "%matplotlib inline"
   ]
  },
  {
   "cell_type": "code",
   "execution_count": 2,
   "metadata": {},
   "outputs": [],
   "source": [
    "from coffea.util import load, save\n",
    "#hists = load('/cms/scratch/sdogra/mtop/rishabh/decaf/analysis/hists/UL_had_full_2018.scaled')\n",
    "#hists = load('/cms/scratch/sdogra/mtop/rishabh/decaf/analysis/hists/UL_had_ttag_cutflow_2018.scaled')\n",
    "#hists = load('/cms/scratch/sdogra/mtop/rishabh/decaf/analysis/hists/UL_had_ttag_cutflow_2018_v2.scaled')\n",
    "hists = load('/cms/scratch/sdogra/mtop/rishabh/decaf/analysis/hists/UL_had_ttag_cutflow_2018_v3.scaled')\n",
    "# _v3: MET\n",
    "#hists = load('/cms/scratch/sdogra/mtop/rishabh/decaf/analysis/hists/UL_had_test_2018_x.scaled')\n",
    "\n",
    "data_hists = hists['data']\n",
    "bkg_hists = hists['bkg']\n",
    "sig_hists = hists['sig']"
   ]
  },
  {
   "cell_type": "code",
   "execution_count": 11,
   "metadata": {
    "scrolled": true
   },
   "outputs": [
    {
     "data": {
      "text/plain": [
       "{'template': <Hist (process,region,systematic,recoil) instance at 0x7f6bbff69908>,\n",
       " 'ele_phi': <Hist (process,region,ele_phi) instance at 0x7f6bbff1ecc0>,\n",
       " 'sumw': <Hist (process,sumw) instance at 0x7f6bbff2f0f0>,\n",
       " 'j1pt': <Hist (process,region,j1pt) instance at 0x7f6bbff2f3c8>,\n",
       " 'leading_qWmatchedJet': <Hist (process,region,tag,leading_qWmatchedJet) instance at 0x7f6bbff2f780>,\n",
       " 'metphi': <Hist (process,region,metphi) instance at 0x7f6bbff2fc88>,\n",
       " 'ndflvM': <Hist (process,region,ndflvM) instance at 0x7f6bbff340f0>,\n",
       " 'dr_mu_lj': <Hist (process,region,dr_mu_lj) instance at 0x7f6bbff344a8>,\n",
       " 'ele_pT': <Hist (process,region,ele_pT) instance at 0x7f6bbff34860>,\n",
       " 'mu_eta': <Hist (process,region,mu_eta) instance at 0x7f6bbff34c50>,\n",
       " 'recoil_sr': <Hist (process,region,recoil_sr) instance at 0x7f6bbff36048>,\n",
       " 'TvsQCD': <Hist (process,region,TvsQCD) instance at 0x7f6bbff36400>,\n",
       " 'j1phi': <Hist (process,region,j1phi) instance at 0x7f6bbff367f0>,\n",
       " 'nfatjets': <Hist (process,region,nfatjets) instance at 0x7f6bbff36ba8>,\n",
       " 'recoil': <Hist (process,region,recoil) instance at 0x7f6bbff36f60>,\n",
       " 'cutflow': <Hist (process,region,cut) instance at 0x7f6bbff3b390>,\n",
       " 'ndflvL': <Hist (process,region,ndflvL) instance at 0x7f6bbff3b780>,\n",
       " 'njets': <Hist (process,region,njets) instance at 0x7f6bbff3bac8>,\n",
       " 'ak8_leading_qWmatchedJet': <Hist (process,region,tag,ak8_leading_qWmatchedJet) instance at 0x7f6bbff3be80>,\n",
       " 'mu_phi': <Hist (process,region,mu_phi) instance at 0x7f6bbff3f3c8>,\n",
       " 'fj1phi': <Hist (process,region,fj1phi) instance at 0x7f6bbff3f7b8>,\n",
       " 'ele_eta': <Hist (process,region,ele_eta) instance at 0x7f6bbff3fba8>,\n",
       " 'dphi_e_etmiss': <Hist (process,region,dphi_e_etmiss) instance at 0x7f6bbff3ff60>,\n",
       " 'drfjtop': <Hist (process,region,drfjtop) instance at 0x7f6bbff44358>,\n",
       " 'ak8pt': <Hist (process,region,ak8pt) instance at 0x7f6bbff44748>,\n",
       " 'dr_e_lj': <Hist (process,region,dr_e_lj) instance at 0x7f6bbff44b38>,\n",
       " 'mT': <Hist (process,region,mT) instance at 0x7f6bbff44f28>,\n",
       " 'fj1pt': <Hist (process,region,fj1pt) instance at 0x7f6bbff48358>,\n",
       " 'leading_tvsqcd': <Hist (process,region,leading_tvsqcd) instance at 0x7f6bbff48710>,\n",
       " 'fj1eta': <Hist (process,region,fj1eta) instance at 0x7f6bbff48ac8>,\n",
       " 'dphi_Met_LJ': <Hist (process,region,dphi_Met_LJ) instance at 0x7f6bbff48e80>,\n",
       " 'ndcsvM': <Hist (process,region,ndcsvM) instance at 0x7f6bbff4e278>,\n",
       " 'ak8phi': <Hist (process,region,ak8phi) instance at 0x7f6bbff4e5c0>,\n",
       " 'j1eta': <Hist (process,region,j1eta) instance at 0x7f6bbff4e9b0>,\n",
       " 'dphi_mu_etmiss': <Hist (process,region,dphi_mu_etmiss) instance at 0x7f6bbff4ed68>,\n",
       " 'eT_miss': <Hist (process,region,eT_miss) instance at 0x7f6bbfed1160>,\n",
       " 'ak8eta': <Hist (process,region,ak8eta) instance at 0x7f6bbfed1710>,\n",
       " 'mu_pT': <Hist (process,region,mu_pT) instance at 0x7f6bbfed1cf8>,\n",
       " 'ak8_tvsqcd': <Hist (process,region,ak8_tvsqcd) instance at 0x7f6bbfed52e8>}"
      ]
     },
     "execution_count": 11,
     "metadata": {},
     "output_type": "execute_result"
    }
   ],
   "source": [
    "bkg_hists"
   ]
  },
  {
   "cell_type": "code",
   "execution_count": 12,
   "metadata": {
    "scrolled": true
   },
   "outputs": [
    {
     "data": {
      "text/plain": [
       "{'template': <Hist (process,region,systematic,recoil) instance at 0x7f6bbfed5898>,\n",
       " 'ele_phi': <Hist (process,region,ele_phi) instance at 0x7f6bbfed58d0>,\n",
       " 'sumw': <Hist (process,sumw) instance at 0x7f6bbfed5940>,\n",
       " 'j1pt': <Hist (process,region,j1pt) instance at 0x7f6bbfed59b0>,\n",
       " 'leading_qWmatchedJet': <Hist (process,region,tag,leading_qWmatchedJet) instance at 0x7f6bbfed5a20>,\n",
       " 'metphi': <Hist (process,region,metphi) instance at 0x7f6bbfed5a90>,\n",
       " 'ndflvM': <Hist (process,region,ndflvM) instance at 0x7f6bbfed5b00>,\n",
       " 'dr_mu_lj': <Hist (process,region,dr_mu_lj) instance at 0x7f6bbfed5b70>,\n",
       " 'ele_pT': <Hist (process,region,ele_pT) instance at 0x7f6bbfed5be0>,\n",
       " 'mu_eta': <Hist (process,region,mu_eta) instance at 0x7f6bbfed5c50>,\n",
       " 'recoil_sr': <Hist (process,region,recoil_sr) instance at 0x7f6bbfed5cc0>,\n",
       " 'TvsQCD': <Hist (process,region,TvsQCD) instance at 0x7f6bbfed5d30>,\n",
       " 'j1phi': <Hist (process,region,j1phi) instance at 0x7f6bbfed5da0>,\n",
       " 'nfatjets': <Hist (process,region,nfatjets) instance at 0x7f6bbfed5e10>,\n",
       " 'recoil': <Hist (process,region,recoil) instance at 0x7f6bbfed5e80>,\n",
       " 'cutflow': <Hist (process,region,cut) instance at 0x7f6bbfed5ef0>,\n",
       " 'ndflvL': <Hist (process,region,ndflvL) instance at 0x7f6bbfed5f60>,\n",
       " 'njets': <Hist (process,region,njets) instance at 0x7f6bbfed5fd0>,\n",
       " 'ak8_leading_qWmatchedJet': <Hist (process,region,tag,ak8_leading_qWmatchedJet) instance at 0x7f6bbfedb080>,\n",
       " 'mu_phi': <Hist (process,region,mu_phi) instance at 0x7f6bbfedb0f0>,\n",
       " 'fj1phi': <Hist (process,region,fj1phi) instance at 0x7f6bbfedb160>,\n",
       " 'ele_eta': <Hist (process,region,ele_eta) instance at 0x7f6bbfedb1d0>,\n",
       " 'dphi_e_etmiss': <Hist (process,region,dphi_e_etmiss) instance at 0x7f6bbfedb240>,\n",
       " 'drfjtop': <Hist (process,region,drfjtop) instance at 0x7f6bbfedb2b0>,\n",
       " 'ak8pt': <Hist (process,region,ak8pt) instance at 0x7f6bbfedb320>,\n",
       " 'dr_e_lj': <Hist (process,region,dr_e_lj) instance at 0x7f6bbfedb390>,\n",
       " 'mT': <Hist (process,region,mT) instance at 0x7f6bbfedb400>,\n",
       " 'fj1pt': <Hist (process,region,fj1pt) instance at 0x7f6bbfedb470>,\n",
       " 'leading_tvsqcd': <Hist (process,region,leading_tvsqcd) instance at 0x7f6bbfedb4e0>,\n",
       " 'fj1eta': <Hist (process,region,fj1eta) instance at 0x7f6bbfedb550>,\n",
       " 'dphi_Met_LJ': <Hist (process,region,dphi_Met_LJ) instance at 0x7f6bbfedb5c0>,\n",
       " 'ndcsvM': <Hist (process,region,ndcsvM) instance at 0x7f6bbfedb630>,\n",
       " 'ak8phi': <Hist (process,region,ak8phi) instance at 0x7f6bbfedb6a0>,\n",
       " 'j1eta': <Hist (process,region,j1eta) instance at 0x7f6bbfedb710>,\n",
       " 'dphi_mu_etmiss': <Hist (process,region,dphi_mu_etmiss) instance at 0x7f6bbfedb780>,\n",
       " 'eT_miss': <Hist (process,region,eT_miss) instance at 0x7f6bbfedb7f0>,\n",
       " 'ak8eta': <Hist (process,region,ak8eta) instance at 0x7f6bbfedb860>,\n",
       " 'mu_pT': <Hist (process,region,mu_pT) instance at 0x7f6bbfedb8d0>,\n",
       " 'ak8_tvsqcd': <Hist (process,region,ak8_tvsqcd) instance at 0x7f6bbfedb978>}"
      ]
     },
     "execution_count": 12,
     "metadata": {},
     "output_type": "execute_result"
    }
   ],
   "source": [
    "sig_hists"
   ]
  },
  {
   "cell_type": "code",
   "execution_count": 3,
   "metadata": {},
   "outputs": [],
   "source": [
    "vari = 'cutflow' # 'cutflow'  # 'drfjtop' #'fj1pt' # 'leading_tvsqcd' # 'leading_qWmatchedJet'\n",
    "region = 'tmcr'"
   ]
  },
  {
   "cell_type": "code",
   "execution_count": 4,
   "metadata": {
    "scrolled": true
   },
   "outputs": [
    {
     "data": {
      "text/plain": [
       "<Hist (process,region,cut) instance at 0x7efce320e2b0>"
      ]
     },
     "execution_count": 4,
     "metadata": {},
     "output_type": "execute_result"
    }
   ],
   "source": [
    "sig_hists[vari]#.identifiers('process')"
   ]
  },
  {
   "cell_type": "code",
   "execution_count": 15,
   "metadata": {
    "scrolled": true
   },
   "outputs": [
    {
     "data": {
      "text/plain": [
       "[<Interval ([0, 1)) instance at 0x7f6bbff90f28>,\n",
       " <Interval ([1, 2)) instance at 0x7f6bbff90eb8>,\n",
       " <Interval ([2, 3)) instance at 0x7f6bbff90e48>,\n",
       " <Interval ([3, 4)) instance at 0x7f6bbff90dd8>,\n",
       " <Interval ([4, 5)) instance at 0x7f6bbff90d68>,\n",
       " <Interval ([5, 6)) instance at 0x7f6bbff90cf8>,\n",
       " <Interval ([6, 7)) instance at 0x7f6bbff90c88>,\n",
       " <Interval ([7, 8)) instance at 0x7f6bbff90c18>,\n",
       " <Interval ([8, 9)) instance at 0x7f6bbff90ba8>,\n",
       " <Interval ([9, 10)) instance at 0x7f6bbff90b38>,\n",
       " <Interval ([10, 11)) instance at 0x7f6bbff90ac8>,\n",
       " <Interval ([11, 12)) instance at 0x7f6bbff90a58>,\n",
       " <Interval ([12, 13)) instance at 0x7f6bbff909e8>,\n",
       " <Interval ([13, 14)) instance at 0x7f6bbff90978>,\n",
       " <Interval ([14, 15)) instance at 0x7f6bbff897f0>,\n",
       " <Interval ([15, 16)) instance at 0x7f6bbff666d8>,\n",
       " <Interval ([16, 17)) instance at 0x7f6bbff660b8>]"
      ]
     },
     "execution_count": 15,
     "metadata": {},
     "output_type": "execute_result"
    }
   ],
   "source": [
    "sig_hists[vari].identifiers('cut')"
   ]
  },
  {
   "cell_type": "code",
   "execution_count": 6,
   "metadata": {},
   "outputs": [
    {
     "data": {
      "text/plain": [
       "{(): array([1.17518e+05, 5.02660e+04, 3.02940e+04, 1.48980e+04, 1.48980e+04,\n",
       "        1.27400e+03, 2.54000e+02, 6.80000e+01, 6.80000e+01, 5.90000e+01,\n",
       "        1.80000e+01, 0.00000e+00, 0.00000e+00, 0.00000e+00, 0.00000e+00,\n",
       "        0.00000e+00, 0.00000e+00])}"
      ]
     },
     "execution_count": 6,
     "metadata": {},
     "output_type": "execute_result"
    }
   ],
   "source": [
    "data_hists[vari].integrate('process').integrate('region').values()"
   ]
  },
  {
   "cell_type": "code",
   "execution_count": 3,
   "metadata": {},
   "outputs": [
    {
     "data": {
      "text/plain": [
       "{('MET',): array([1.17518e+05, 5.02660e+04, 3.02940e+04, 1.48980e+04, 1.48980e+04,\n",
       "        1.34200e+03, 2.78000e+02, 7.80000e+01, 7.80000e+01, 6.80000e+01,\n",
       "        1.90000e+01, 0.00000e+00, 0.00000e+00, 0.00000e+00, 0.00000e+00,\n",
       "        0.00000e+00, 0.00000e+00])}"
      ]
     },
     "execution_count": 3,
     "metadata": {},
     "output_type": "execute_result"
    }
   ],
   "source": [
    "vari = 'cutflow' # 'cutflow'  # 'drfjtop' #'fj1pt' # 'leading_tvsqcd' # 'leading_qWmatchedJet'\n",
    "region = 'tmcr'\n",
    "#sig_hists[vari].integrate('region',region).integrate('tag','pass').sum(vari).values()\n",
    "#sig_hists[vari].integrate('region',region).values()\n",
    "##bkg_hists[vari].integrate('region',region).values()\n",
    "data_hists[vari].integrate('region',region).values()"
   ]
  },
  {
   "cell_type": "code",
   "execution_count": 43,
   "metadata": {},
   "outputs": [
    {
     "name": "stdout",
     "output_type": "stream",
     "text": [
      "pass: {('TT',): 67.1464976149}\n",
      "fail: {('TT',): 23870.579902096943}\n"
     ]
    }
   ],
   "source": [
    "vari = 'leading_qWmatchedJet' # 'cutflow'  # 'drfjtop' #'fj1pt' # 'leading_tvsqcd' # 'leading_qWmatchedJet'\n",
    "region = 'tmcr'\n",
    "#print('pass:', sig_hists[vari].integrate('region',region).integrate('tag','pass').sum(vari).values())\n",
    "#print('fail:', sig_hists[vari].integrate('region',region).integrate('tag','fail').sum(vari).values())\n",
    "print('pass:', bkg_hists[vari].integrate('region',region).integrate('tag','pass').sum(vari).values())\n",
    "print('fail:', bkg_hists[vari].integrate('region',region).integrate('tag','fail').sum(vari).values())"
   ]
  },
  {
   "cell_type": "code",
   "execution_count": 44,
   "metadata": {
    "scrolled": true
   },
   "outputs": [
    {
     "name": "stdout",
     "output_type": "stream",
     "text": [
      "=======  tmcr =======\n",
      "variable  leading_qWmatchedJet\n",
      "=====================\n",
      "() in yld_array\n",
      "TT 70.2\n"
     ]
    },
    {
     "data": {
      "text/plain": [
       "67.1464976149"
      ]
     },
     "execution_count": 44,
     "metadata": {},
     "output_type": "execute_result"
    }
   ],
   "source": [
    "cut_bin = None\n",
    "exp = 0\n",
    "#vari = 'fj1pt'\n",
    "#region = 'sr'\n",
    "print('======= ',region, '=======')\n",
    "print('variable ', vari)\n",
    "print('=====================')\n",
    "for p in bkg_hists[vari].identifiers('process'):\n",
    "    #print(p)\n",
    "    #yld_array = sig_hists[vari].integrate('region',region).integrate('process', p).integrate('tag','pass').sum().values(overflow='all')\n",
    "    yld_array = bkg_hists[vari].integrate('region',region).integrate('process', p).integrate('tag','pass').sum().values(overflow='all')\n",
    "    if () in yld_array:\n",
    "        print('() in yld_array')\n",
    "        #yld = np.cumsum(yld_array[()])[nbins-1]\n",
    "        yld = yld_array[()].sum()\n",
    "        if cut_bin!=None: yld = yld - np.cumsum(yld_array[()])[cut_bin]\n",
    "        #if cut_bin!=None: yld = np.cumsum(yld_array[()])[cut_bin]\n",
    "        exp += yld\n",
    "        print(p, '%.1f' % yld)\n",
    "#print(bkg_hists[vari].identifiers('process'))\n",
    "#sig_hists[vari].integrate('region',region).integrate('process').integrate('tag','pass').sum('qWmatchedJet').values()[()]\n",
    "bkg_hists[vari].integrate('region',region).integrate('process').integrate('tag','pass').sum(vari).values()[()]"
   ]
  },
  {
   "cell_type": "code",
   "execution_count": 22,
   "metadata": {},
   "outputs": [
    {
     "data": {
      "text/plain": [
       "[<StringBin (TT) instance at 0x7f35eb26c240>]"
      ]
     },
     "execution_count": 22,
     "metadata": {},
     "output_type": "execute_result"
    }
   ],
   "source": [
    "#sig_hists[vari].identifiers('process')\n",
    "bkg_hists[vari].identifiers('process')"
   ]
  },
  {
   "cell_type": "code",
   "execution_count": 24,
   "metadata": {},
   "outputs": [
    {
     "data": {
      "text/plain": [
       "{('pass',): 67.1464976149, ('fail',): 23870.579902096943}"
      ]
     },
     "execution_count": 24,
     "metadata": {},
     "output_type": "execute_result"
    }
   ],
   "source": [
    "#sig_hists[vari].integrate('process').integrate('region',region).sum('qWmatchedJet').values()\n",
    "bkg_hists[vari].integrate('process').integrate('region',region).sum(vari).values()"
   ]
  },
  {
   "cell_type": "code",
   "execution_count": 45,
   "metadata": {
    "scrolled": false
   },
   "outputs": [
    {
     "data": {
      "text/plain": [
       "(0.1, 100000)"
      ]
     },
     "execution_count": 45,
     "metadata": {},
     "output_type": "execute_result"
    },
    {
     "data": {
      "image/png": "[encoded data removed]",
      "text/plain": [
       "<Figure size 936x792 with 1 Axes>"
      ]
     },
     "metadata": {
      "needs_background": "light"
     },
     "output_type": "display_data"
    }
   ],
   "source": [
    "from coffea.hist import plot\n",
    "from cycler import cycler\n",
    "vari = 'leading_qWmatchedJet'\n",
    "\n",
    "plt.rcParams.update({'figure.max_open_warning': 0,'font.size': 14, 'axes.titlesize': 18, 'axes.labelsize': 18, 'xtick.labelsize': 12, 'ytick.labelsize': 12})\n",
    "fig, ax = plt.subplots(figsize=(13,11))\n",
    "fill_opts = {'edgecolor': (0,0,0,0.3), 'alpha': 1}\n",
    "colors = ['#a6cee3', '#3130db', '#1f78b4', '#b2df8a', '#48e926', '#33a02c', '#c0df26',\n",
    "          '#fb9a99', '#d02ba7', '#e31a1c', '#fdbf6f', '#ff7f00', '#cab2d6', '#c64bc4',\n",
    "          '#6a3d9a', '#a9ce26', '#ffff99', '#b15928', '#edcc43']\n",
    "ax.set_prop_cycle(cycler(color=colors))\n",
    "plot.plot1d(bkg_hists[vari].integrate('region',region).integrate('process'),overlay=\"tag\", stack=True,clear=False, fill_opts=fill_opts, ax=ax)\n",
    "#plot.plot1d(sig_hists[vari].integrate('region',region).integrate('process'),overlay=\"tag\", stack=True,clear=False, fill_opts=fill_opts, ax=ax)\n",
    "#plot.plot1d(sig_hists[vari].integrate('region',region).integrate('process').integrate('tag'), stack=True,clear=False, fill_opts=fill_opts, ax=ax)\n",
    "\n",
    "\n",
    "\n",
    "#coffee = plt.text(0., 1., u\"☕ W(m) CR\", fontsize=20, horizontalalignment='left', verticalalignment='bottom', transform=ax.transAxes)\n",
    "ax._get_lines.prop_cycler = ax._get_patches_for_fill.prop_cycler\n",
    "args = {'linestyle':'--', 'linewidth': 5}\n",
    "ax.set_yscale('log')\n",
    "#ax.set_ylim(.0000001, 10)\n",
    "ax.set_ylim(0.1, 100000)\n",
    "#ax.set_xlim(0, 1300)"
   ]
  },
  {
   "cell_type": "code",
   "execution_count": 13,
   "metadata": {
    "scrolled": false
   },
   "outputs": [
    {
     "data": {
      "text/plain": [
       "([<matplotlib.axis.XTick at 0x7fd8f30c7ba8>,\n",
       "  <matplotlib.axis.XTick at 0x7fd8f30c7780>,\n",
       "  <matplotlib.axis.XTick at 0x7fd8f30c73c8>,\n",
       "  <matplotlib.axis.XTick at 0x7fd8f30fb160>,\n",
       "  <matplotlib.axis.XTick at 0x7fd8f30fb5f8>,\n",
       "  <matplotlib.axis.XTick at 0x7fd8f30fba90>,\n",
       "  <matplotlib.axis.XTick at 0x7fd8f30fbf28>,\n",
       "  <matplotlib.axis.XTick at 0x7fd8f30fb7b8>,\n",
       "  <matplotlib.axis.XTick at 0x7fd8f3083358>,\n",
       "  <matplotlib.axis.XTick at 0x7fd8f30837f0>],\n",
       " [Text(0, 0, ''),\n",
       "  Text(0, 0, ''),\n",
       "  Text(0, 0, ''),\n",
       "  Text(0, 0, ''),\n",
       "  Text(0, 0, ''),\n",
       "  Text(0, 0, ''),\n",
       "  Text(0, 0, ''),\n",
       "  Text(0, 0, ''),\n",
       "  Text(0, 0, ''),\n",
       "  Text(0, 0, '')])"
      ]
     },
     "execution_count": 13,
     "metadata": {},
     "output_type": "execute_result"
    },
    {
     "data": {
      "image/png": "[encoded data removed]",
      "text/plain": [
       "<Figure size 936x792 with 1 Axes>"
      ]
     },
     "metadata": {
      "needs_background": "light"
     },
     "output_type": "display_data"
    }
   ],
   "source": [
    "#########\n",
    "# scale (tag)\n",
    "#########\n",
    "from coffea.hist import plot\n",
    "from cycler import cycler\n",
    "\n",
    "vari = \"leading_qWmatchedJet\"\n",
    "\n",
    "\n",
    "#vari_ = \"qWmatchedJet\"\n",
    "fname = \"TTTo2L2Nu_TuneCP5_13TeV-powheg-pythia8\" # \"Mphi-1700_Mchi-800\"\n",
    "\n",
    "plt.rcParams.update({'figure.max_open_warning': 0,'font.size': 14, 'axes.titlesize': 18, 'axes.labelsize': 18, 'xtick.labelsize': 12, 'ytick.labelsize': 12})\n",
    "fig, ax = plt.subplots(figsize=(13,11))\n",
    "fill_opts = {'edgecolor': (0,0,0,0.3), 'alpha': 1}\n",
    "colors = ['#a6cee3', '#3130db', '#1f78b4', '#b2df8a', '#48e926', '#33a02c', '#c0df26',\n",
    "          '#fb9a99', '#d02ba7', '#e31a1c', '#fdbf6f', '#ff7f00', '#cab2d6', '#c64bc4',\n",
    "          '#6a3d9a', '#a9ce26', '#ffff99', '#b15928', '#edcc43']\n",
    "ax.set_prop_cycle(cycler(color=colors))\n",
    "tot = {}\n",
    "tot[fname] = bkg_hists[vari].integrate('process').integrate('region').integrate('tag').sum(vari).values()[()]\n",
    "#tot[fname] = sig_hists[vari].integrate('process').integrate('region').sum(vari).values()[()]\n",
    "bkg_hists[vari].scale({fname:1/tot[fname]},axis='process')\n",
    "\n",
    "##sig_hists[vari].scale({fname:1/tot[fname]},axis='process')\n",
    "#sig_hists[vari].integrate('region',region).rebin(vari_,5)\n",
    "#sig_hists[vari].integrate('region',region).rebin(vari,2)\n",
    "plot.plot1d(bkg_hists[vari].integrate('region',region).integrate('process').integrate('tag'), stack=True,clear=False, fill_opts=fill_opts, ax=ax)\n",
    "#plot.plot1d(sig_hists[vari].integrate('region',region).integrate('process'),overlay=\"tag\", stack=True,clear=False, fill_opts=fill_opts, ax=ax)\n",
    "#plot.plot1d(sig_hists[vari].integrate('region',region).integrate('tag').rebin(vari_,2),overlay='process', stack=True,clear=False, fill_opts=fill_opts,  ax=ax)\n",
    "\n",
    "\n",
    "\n",
    "#coffee = plt.text(0., 1., u\"☕ W(m) CR\", fontsize=20, horizontalalignment='left', verticalalignment='bottom', transform=ax.transAxes)\n",
    "ax._get_lines.prop_cycler = ax._get_patches_for_fill.prop_cycler\n",
    "args = {'linestyle':'--', 'linewidth': 5}\n",
    "plt.grid(True)\n",
    "#ax.set_yscale('log')\n",
    "#ax.set_ylim(.00001, 10)\n",
    "#ax.set_ylim(.1, 100000)\n",
    "plt.xticks(np.arange(0,1,0.1))\n",
    "#ax.set_xlim(0, 1300)"
   ]
  },
  {
   "cell_type": "code",
   "execution_count": 20,
   "metadata": {
    "scrolled": true
   },
   "outputs": [
    {
     "data": {
      "text/plain": [
       "([<matplotlib.axis.XTick at 0x7fd8f29f4b00>,\n",
       "  <matplotlib.axis.XTick at 0x7fd8f29f46d8>,\n",
       "  <matplotlib.axis.XTick at 0x7fd8f29f4320>,\n",
       "  <matplotlib.axis.XTick at 0x7fd8f2a1ecc0>,\n",
       "  <matplotlib.axis.XTick at 0x7fd8f2a2a198>,\n",
       "  <matplotlib.axis.XTick at 0x7fd8f2a2a630>,\n",
       "  <matplotlib.axis.XTick at 0x7fd8f2a2aac8>,\n",
       "  <matplotlib.axis.XTick at 0x7fd8f2a2af60>,\n",
       "  <matplotlib.axis.XTick at 0x7fd8f2a2a748>,\n",
       "  <matplotlib.axis.XTick at 0x7fd8f29b0240>],\n",
       " [Text(0, 0, ''),\n",
       "  Text(0, 0, ''),\n",
       "  Text(0, 0, ''),\n",
       "  Text(0, 0, ''),\n",
       "  Text(0, 0, ''),\n",
       "  Text(0, 0, ''),\n",
       "  Text(0, 0, ''),\n",
       "  Text(0, 0, ''),\n",
       "  Text(0, 0, ''),\n",
       "  Text(0, 0, '')])"
      ]
     },
     "execution_count": 20,
     "metadata": {},
     "output_type": "execute_result"
    },
    {
     "data": {
      "image/png": "[encoded data removed]",
      "text/plain": [
       "<Figure size 936x792 with 1 Axes>"
      ]
     },
     "metadata": {
      "needs_background": "light"
     },
     "output_type": "display_data"
    }
   ],
   "source": [
    "#########\n",
    "# scale one variable\n",
    "#########\n",
    "from coffea.hist import plot\n",
    "from cycler import cycler\n",
    "\n",
    "#vari = \"ak8_tvsqcd\"\n",
    "vari = \"ak8_tvsqcd\"\n",
    "\n",
    "#vari_ = \"qWmatchedJet\"\n",
    "fname = \"Mphi-1700_Mchi-800\"\n",
    "\n",
    "plt.rcParams.update({'figure.max_open_warning': 0,'font.size': 14, 'axes.titlesize': 18, 'axes.labelsize': 18, 'xtick.labelsize': 12, 'ytick.labelsize': 12})\n",
    "fig, ax = plt.subplots(figsize=(13,11))\n",
    "fill_opts = {'edgecolor': (0,0,0,0.3), 'alpha': 1}\n",
    "colors = ['#a6cee3', '#3130db', '#1f78b4', '#b2df8a', '#48e926', '#33a02c', '#c0df26',\n",
    "          '#fb9a99', '#d02ba7', '#e31a1c', '#fdbf6f', '#ff7f00', '#cab2d6', '#c64bc4',\n",
    "          '#6a3d9a', '#a9ce26', '#ffff99', '#b15928', '#edcc43']\n",
    "ax.set_prop_cycle(cycler(color=colors))\n",
    "tot = {}\n",
    "##tot[fname] = sig_hists[vari].integrate('process').integrate('region').sum(vari).values()[()]\n",
    "tot[fname] = bkg_hists[vari].integrate('process').integrate('region').sum(vari).values()[()]\n",
    "\n",
    "#tot[fname] = sig_hists[vari].integrate('process').integrate('region').sum(vari).values()[()]\n",
    "##sig_hists[vari].scale({fname:1/tot[fname]},axis='process')\n",
    "bkg_hists[vari].scale({fname:1/tot[fname]},axis='process')\n",
    "#sig_hists[vari].integrate('region',region).rebin(vari_,5)\n",
    "#sig_hists[vari].integrate('region',region).rebin(vari,2)\n",
    "#plot.plot1d(sig_hists[vari].integrate('region',region).integrate('process'), stack=True,clear=False, fill_opts=fill_opts, ax=ax)\n",
    "##plot.plot1d(sig_hists[vari].integrate('region',region).integrate('process'), stack=True,clear=False, fill_opts=fill_opts, ax=ax)\n",
    "plot.plot1d(bkg_hists[vari].integrate('region',region).integrate('process'), stack=True,clear=False, fill_opts=fill_opts, ax=ax)\n",
    "\n",
    "#plot.plot1d(sig_hists[vari].integrate('region',region).integrate('tag').rebin(vari_,2),overlay='process', stack=True,clear=False, fill_opts=fill_opts,  ax=ax)\n",
    "\n",
    "\n",
    "\n",
    "#coffee = plt.text(0., 1., u\"☕ W(m) CR\", fontsize=20, horizontalalignment='left', verticalalignment='bottom', transform=ax.transAxes)\n",
    "ax._get_lines.prop_cycler = ax._get_patches_for_fill.prop_cycler\n",
    "args = {'linestyle':'--', 'linewidth': 5}\n",
    "plt.grid(True)\n",
    "#ax.set_yscale('log')\n",
    "#ax.set_ylim(.00001, 10)\n",
    "ax.set_xlabel(\"TvsQCD (leading AK8 jet)\")\n",
    "plt.xticks(np.arange(0,1,0.1))\n",
    "#ax.set_xlim(0, 1300)"
   ]
  },
  {
   "cell_type": "code",
   "execution_count": 14,
   "metadata": {},
   "outputs": [
    {
     "name": "stdout",
     "output_type": "stream",
     "text": [
      "<Hist (ak8_leading_qWmatchedJet) instance at 0x7f7f36007048>\n",
      "<Hist (ak8_leading_qWmatchedJet) instance at 0x7f7f36007320>\n",
      "sum_bins_arr:  [32483. 17697. 16210. 15238. 14563. 13984. 13547. 13164. 12793. 12501.\n",
      " 12224. 11975. 11758. 11526. 11315. 11121. 10952. 10789. 10621. 10470.\n",
      " 10323. 10197. 10063.  9947.  9833.  9727.  9634.  9527.  9437.  9332.\n",
      "  9250.  9135.  9057.  8968.  8885.  8790.  8703.  8622.  8529.  8457.\n",
      "  8381.  8301.  8227.  8149.  8065.  8003.  7915.  7844.  7779.  7723.\n",
      "  7645.  7578.  7519.  7459.  7405.  7330.  7265.  7200.  7145.  7096.\n",
      "  7039.  6981.  6921.  6856.  6803.  6734.  6663.  6601.  6541.  6485.\n",
      "  6419.  6351.  6276.  6197.  6139.  6070.  5996.  5930.  5859.  5806.\n",
      "  5738.  5665.  5579.  5506.  5437.  5357.  5256.  5157.  5050.  4950.\n",
      "  4848.  4719.  4582.  4473.  4325.  4158.  3942.  3709.  3382.  2873.]\n",
      "tot[fname]:  32483.0\n"
     ]
    },
    {
     "data": {
      "text/plain": [
       "([<matplotlib.axis.YTick at 0x7f7f35fc1ef0>,\n",
       "  <matplotlib.axis.YTick at 0x7f7f35fc1ac8>,\n",
       "  <matplotlib.axis.YTick at 0x7f7f35fbac50>,\n",
       "  <matplotlib.axis.YTick at 0x7f7f33f8c710>,\n",
       "  <matplotlib.axis.YTick at 0x7f7f33f805f8>,\n",
       "  <matplotlib.axis.YTick at 0x7f7f33f93438>,\n",
       "  <matplotlib.axis.YTick at 0x7f7f33f938d0>,\n",
       "  <matplotlib.axis.YTick at 0x7f7f33f93d68>,\n",
       "  <matplotlib.axis.YTick at 0x7f7f33f9d240>,\n",
       "  <matplotlib.axis.YTick at 0x7f7f33f9d6d8>],\n",
       " [Text(0, 0, ''),\n",
       "  Text(0, 0, ''),\n",
       "  Text(0, 0, ''),\n",
       "  Text(0, 0, ''),\n",
       "  Text(0, 0, ''),\n",
       "  Text(0, 0, ''),\n",
       "  Text(0, 0, ''),\n",
       "  Text(0, 0, ''),\n",
       "  Text(0, 0, ''),\n",
       "  Text(0, 0, '')])"
      ]
     },
     "execution_count": 14,
     "metadata": {},
     "output_type": "execute_result"
    },
    {
     "data": {
      "image/png": "[encoded data removed]",
      "text/plain": [
       "<Figure size 792x648 with 1 Axes>"
      ]
     },
     "metadata": {
      "needs_background": "light"
     },
     "output_type": "display_data"
    }
   ],
   "source": [
    "# nume/deno\n",
    "from coffea.hist import plot\n",
    "\n",
    "vari = \"ak8_leading_qWmatchedJet\" # \"leading_qWmatchedJet\"\n",
    "vari_ = \"ak8_leading_qWmatchedJet\" # \"qWmatchedJet\"\n",
    "fname =  \"Mphi-1700_Mchi-800\"\n",
    "\n",
    "denominator = sig_hists[vari].integrate('process').integrate('region','sr').integrate('tag')\n",
    "numerator   = sig_hists[vari].integrate('process').integrate('region','sr').integrate('tag','pass')\n",
    "\n",
    "print(denominator)\n",
    "print(numerator)\n",
    "\n",
    "sum_bins = list()\n",
    "for n in range(len(denominator.values()[()])):\n",
    "    sum_bins.append(denominator.values()[()][n:].sum())\n",
    "    \n",
    "sum_bins_arr = np.array(sum_bins)\n",
    "print('sum_bins_arr: ',sum_bins_arr)\n",
    "\n",
    "numerator_sum = hist.Hist(\n",
    "    'Events',\n",
    "    hist.Cat('dataset', 'Dataset'),\n",
    "    hist.Bin('nume_sum', 'TvsQCD', 100, sum_bins_arr.min(),sum_bins_arr.max())\n",
    ")\n",
    "numerator_sum.fill(dataset = fname, nume_sum=sum_bins_arr)\n",
    "\n",
    "tot = {}\n",
    "tot[fname] = sig_hists[vari].integrate('process').integrate('region','sr').integrate('tag').sum(vari_).values()[()]\n",
    "print('tot[fname]: ', tot[fname])\n",
    "\n",
    "hhh = sum_bins_arr/tot[fname]\n",
    "ggg = np.arange(0,1,0.01)\n",
    "\n",
    "plt.rcParams.update({'figure.max_open_warning': 0,'font.size': 14, 'axes.titlesize': 18, 'axes.labelsize': 18, 'xtick.labelsize': 12, 'ytick.labelsize': 12, 'figure.figsize':(11,9)})\n",
    "plt.grid(True)\n",
    "\n",
    "plt.ylabel('Ratio (dR (fatjet, top) < 0.8 / total)')\n",
    "plt.xlabel('TvsQCD')\n",
    "\n",
    "plt.plot(ggg,hhh,'k.')\n",
    "#plt.plot(hhh,'k.')\n",
    "\n",
    "plt.xticks(np.arange(0,1,0.1))\n",
    "plt.yticks(np.arange(0,1,0.1))\n",
    "\n"
   ]
  },
  {
   "cell_type": "code",
   "execution_count": 19,
   "metadata": {},
   "outputs": [
    {
     "data": {
      "text/plain": [
       "<AxesSubplot:xlabel='AK15 Leading Jet Pt', ylabel='Events'>"
      ]
     },
     "execution_count": 19,
     "metadata": {},
     "output_type": "execute_result"
    },
    {
     "data": {
      "image/png": "[encoded data removed]",
      "text/plain": [
       "<Figure size 432x288 with 1 Axes>"
      ]
     },
     "metadata": {
      "needs_background": "light"
     },
     "output_type": "display_data"
    }
   ],
   "source": [
    "from coffea.hist import plot\n",
    "\n",
    "plot.plot1d(bkg_hists[vari].integrate('region',region), stack=True)\n"
   ]
  },
  {
   "cell_type": "code",
   "execution_count": 21,
   "metadata": {},
   "outputs": [
    {
     "data": {
      "image/png": "[encoded data removed]",
      "text/plain": [
       "<Figure size 792x936 with 2 Axes>"
      ]
     },
     "metadata": {
      "needs_background": "light"
     },
     "output_type": "display_data"
    }
   ],
   "source": [
    "from cycler import cycler\n",
    "from coffea.hist import plot\n",
    "\n",
    "vari = 'recoil'\n",
    "#vari = 'mu_pT'\n",
    "region = 'wmcr'\n",
    "if 'e' in region:\n",
    "    data = 'EGamma'\n",
    "else:\n",
    "    data = 'MET'\n",
    "#data = 'EGamma' \n",
    "#data = 'MET' \n",
    "#data = 'MET'\n",
    "\n",
    "plt.rcParams.update({'figure.max_open_warning': 0,'font.size': 14, 'axes.titlesize': 18, 'axes.labelsize': 18, 'xtick.labelsize': 12, 'ytick.labelsize': 12})\n",
    "fill_opts = {'edgecolor': (0,0,0,0.3), 'alpha': 1}\n",
    "error_opts = {'label':'Stat. Unc.', 'hatch':'///', 'facecolor':'none', 'edgecolor':(0,0,0,.5), 'linewidth': 0}\n",
    "nostack_fill_opts = {'alpha': 0.2, 'label': '_nolabel_'}\n",
    "data_err_opts = {'linestyle':'None', 'marker': '.', 'markersize': 10., 'color':'k'}#, 'elinewidth': 1, 'emarker': '_'}\n",
    "colors = ['#a6cee3', '#3130db', '#1f78b4', '#b2df8a', '#48e926', '#33a02c', '#c0df26',\n",
    "          '#fb9a99', '#d02ba7', '#e31a1c', '#fdbf6f', '#ff7f00', '#cab2d6', '#c64bc4',\n",
    "          '#6a3d9a', '#a9ce26', '#ffff99', '#b15928', '#edcc43']\n",
    "fig, (ax, rax) = plt.subplots(2, 1, figsize=(11,13), gridspec_kw={\"height_ratios\": (3, 1)}, sharex=True)\n",
    "fig.subplots_adjust(hspace=.07)\n",
    "ax.set_prop_cycle(cycler(color=colors))\n",
    "\n",
    "plot.plot1d(data_hists[vari].integrate('region', region),#[data[year][str(j)]],\n",
    "            overlay=\"process\",\n",
    "            ax=ax,\n",
    "            overflow='over',\n",
    "            clear=False,\n",
    "            error_opts=data_err_opts\n",
    "           )\n",
    "\n",
    "plot.plot1d(bkg_hists[vari].integrate('region', region),\n",
    "            overlay=\"process\",\n",
    "            ax=ax,\n",
    "            overflow='over',\n",
    "            clear=False,\n",
    "            stack=True,\n",
    "            fill_opts=fill_opts,\n",
    "            error_opts=error_opts\n",
    "           )\n",
    "\n",
    "plot.plotratio(data_hists[vari].integrate('region', region).integrate('process', data),\n",
    "               bkg_hists[vari].integrate('region', region).sum('process'),\n",
    "               ax=rax,\n",
    "               overflow='over',\n",
    "               error_opts=data_err_opts,\n",
    "               denom_fill_opts={},\n",
    "               guide_opts={},\n",
    "               unc='num'\n",
    "              )\n",
    "\n",
    "rax.set_ylabel('Ratio (data/MC)')\n",
    "rax.set_ylim(0.0,2.0)\n",
    "rax.grid(axis='y')\n",
    "\n",
    "ax._get_lines.prop_cycler = ax._get_patches_for_fill.prop_cycler\n",
    "args = {'linestyle':'--', 'linewidth': 5}\n",
    "ax.autoscale(axis='x', tight=True)\n",
    "ax.set_yscale('log')\n",
    "ax.set_ylim(.1, 10000000)\n",
    "#ax.set_xlim(0, 300)\n",
    "leg = ax.legend(ncol=2, loc='best')"
   ]
  },
  {
   "cell_type": "code",
   "execution_count": 16,
   "metadata": {},
   "outputs": [
    {
     "data": {
      "text/plain": [
       "[<StringBin (sr) instance at 0x7f81b876d9e8>]"
      ]
     },
     "execution_count": 16,
     "metadata": {},
     "output_type": "execute_result"
    }
   ],
   "source": [
    "sig_hists[vari].identifiers('region')"
   ]
  },
  {
   "cell_type": "code",
   "execution_count": 17,
   "metadata": {},
   "outputs": [
    {
     "name": "stdout",
     "output_type": "stream",
     "text": [
      "sr\n"
     ]
    },
    {
     "data": {
      "text/plain": [
       "{(): array([0., 0., 0., 0., 0., 0., 0., 0., 0., 0., 0., 0., 0., 0., 0., 0., 0.,\n",
       "        0., 0., 0., 0., 0.])}"
      ]
     },
     "execution_count": 17,
     "metadata": {},
     "output_type": "execute_result"
    }
   ],
   "source": [
    "for region in sig_hists[vari].identifiers('region'):\n",
    "    print(region)\n",
    "sig_hists[vari].integrate('process').integrate('region','sr').values()"
   ]
  },
  {
   "cell_type": "code",
   "execution_count": 18,
   "metadata": {},
   "outputs": [
    {
     "data": {
      "text/plain": [
       "<AxesSubplot:xlabel='Hadronic Recoil', ylabel='Events'>"
      ]
     },
     "execution_count": 18,
     "metadata": {},
     "output_type": "execute_result"
    },
    {
     "data": {
      "image/png": "[encoded data removed]",
      "text/plain": [
       "<Figure size 432x288 with 1 Axes>"
      ]
     },
     "metadata": {
      "needs_background": "light"
     },
     "output_type": "display_data"
    }
   ],
   "source": [
    "plot.plot1d(sig_hists[vari].integrate('process').integrate('region','sr'), stack=True)\n"
   ]
  },
  {
   "cell_type": "code",
   "execution_count": 63,
   "metadata": {},
   "outputs": [
    {
     "data": {
      "text/plain": [
       "[<StringBin (MET) instance at 0x7f7b6087b400>,\n",
       " <StringBin (EGamma) instance at 0x7f7b6087b518>]"
      ]
     },
     "execution_count": 63,
     "metadata": {},
     "output_type": "execute_result"
    }
   ],
   "source": [
    "data_hists[vari].identifiers('process')"
   ]
  },
  {
   "cell_type": "code",
   "execution_count": 64,
   "metadata": {},
   "outputs": [
    {
     "data": {
      "text/plain": [
       "{('EGamma',): array([   0.,    0.,    0.,    0., 1427., 2954., 6198., 6530., 7829.,\n",
       "        8294., 7627., 6752., 5607., 5830., 4318., 3156., 2375., 2008.,\n",
       "        1345.,  916.,  613.,  488.,  375.,  266.,  187.,  115.,   98.,\n",
       "          67.])}"
      ]
     },
     "execution_count": 64,
     "metadata": {},
     "output_type": "execute_result"
    }
   ],
   "source": [
    "data_hists[vari].integrate('region',region).values()"
   ]
  },
  {
   "cell_type": "code",
   "execution_count": 65,
   "metadata": {},
   "outputs": [
    {
     "data": {
      "text/plain": [
       "<AxesSubplot:xlabel='AK15 Leading Jet Pt', ylabel='Events'>"
      ]
     },
     "execution_count": 65,
     "metadata": {},
     "output_type": "execute_result"
    },
    {
     "data": {
      "image/png": "[encoded data removed]",
      "text/plain": [
       "<Figure size 432x288 with 1 Axes>"
      ]
     },
     "metadata": {
      "needs_background": "light"
     },
     "output_type": "display_data"
    }
   ],
   "source": [
    "plot.plot1d(data_hists[vari].integrate('region',region), stack=True)\n"
   ]
  },
  {
   "cell_type": "code",
   "execution_count": 23,
   "metadata": {},
   "outputs": [
    {
     "data": {
      "text/plain": [
       "[<StringBin (DY+HF) instance at 0x7f2a4100dbe0>,\n",
       " <StringBin (DY+LF) instance at 0x7f2a4100dc88>,\n",
       " <StringBin (WW) instance at 0x7f2a4100d978>,\n",
       " <StringBin (WZ) instance at 0x7f2a4100dcf8>,\n",
       " <StringBin (ZZ) instance at 0x7f2a4100d908>,\n",
       " <StringBin (ST) instance at 0x7f296f940358>,\n",
       " <StringBin (TT) instance at 0x7f296f8d7da0>,\n",
       " <StringBin (W+HF) instance at 0x7f296f8d7e10>,\n",
       " <StringBin (W+LF) instance at 0x7f296f8d7e48>,\n",
       " <StringBin (QCD) instance at 0x7f296f9032e8>]"
      ]
     },
     "execution_count": 23,
     "metadata": {},
     "output_type": "execute_result"
    }
   ],
   "source": [
    "bkg_hists['sumw'].identifiers('process')#.identifiers('sumw')"
   ]
  },
  {
   "cell_type": "code",
   "execution_count": null,
   "metadata": {},
   "outputs": [],
   "source": []
  },
  {
   "cell_type": "code",
   "execution_count": null,
   "metadata": {},
   "outputs": [],
   "source": []
  }
 ],
 "metadata": {
  "kernelspec": {
   "display_name": "Python 3",
   "language": "python",
   "name": "python3"
  },
  "language_info": {
   "codemirror_mode": {
    "name": "ipython",
    "version": 3
   },
   "file_extension": ".py",
   "mimetype": "text/x-python",
   "name": "python",
   "nbconvert_exporter": "python",
   "pygments_lexer": "ipython3",
   "version": "3.6.5"
  }
 },
 "nbformat": 4,
 "nbformat_minor": 2
}
