{
 "cells": [
  {
   "cell_type": "code",
   "execution_count": 1,
   "metadata": {},
   "outputs": [],
   "source": [
    "from coffea import hist,  util\n",
    "import awkward as ak\n",
    "import numpy as np"
   ]
  },
  {
   "cell_type": "code",
   "execution_count": 2,
   "metadata": {},
   "outputs": [],
   "source": [
    "from coffea.util import load, save\n",
    "\n",
    "year = 2018\n",
    "vfp = 'post'\n",
    "path = '/Users/hongjieun/MonoTop/notebook_plotting/check_events/'\n",
    "rg = 'tw'\n"
   ]
  },
  {
   "cell_type": "code",
   "execution_count": 48,
   "metadata": {},
   "outputs": [],
   "source": [
    "#version = 43\n",
    "dummy='''\n",
    "if year == 2016:\n",
    "    hists = load(path+'manyplot_'+str(year)+str(vfp)+'VFP_Run'+str(version)+'_'+str(rg)+'.scaled')\n",
    "    print(path+'manyplot_'+str(year)+str(vfp)+'VFP_Run'+str(version)+'_'+str(rg)+'.scaled')\n",
    "else:\n",
    "    hists = load(path+'manyplot_'+str(year)+'_V'+str(version)+'_'+str(rg)+'.scaled') #Run all\n",
    "    print(path+'manyplot_'+str(year)+'_V'+str(version)+'_'+str(rg)+'.scaled')\n",
    "\n",
    "\n",
    "data_hists = hists['data']\n",
    "bkg_hists = hists['bkg']\n",
    "sig_hists = hists['sig']\n",
    "'''\n",
    "lumi = {'2018':59.83,\n",
    "       '2017': 41.48,\n",
    "       '2016' : {'pre': 19.52,\n",
    "                'post': 16.81} \n",
    "       }\n",
    "\n",
    "dat = {'2018': {'e': 'EGamma',\n",
    "                'm': 'MET',\n",
    "               'g': 'EGamma'},\n",
    "       '2017': {'e': 'SingleElectron',\n",
    "               'm': 'MET',\n",
    "               'g': 'SinglePhoton'},\n",
    "      '2016': {'e': 'SingleElectron',\n",
    "              'm': 'MET',\n",
    "              'g': 'SinglePhoton'}}\n",
    "\n",
    "eexc = [ \n",
    "    'sumw', 'template', 'dr_e_lj','ndcsvM', 'dr_mu_lj','cutflow',    \n",
    "    'runnumber','ndflvL','ndflvM', 'recoil_wg',\n",
    "    'recoilphi', \n",
    "]\n",
    "exc = ['phopt', 'sumw', 'template', 'cutflow',  \n",
    "       'elept', 'elephi', 'eleeta', \n",
    "       'mupt', 'muphi', 'mueta', 'phophi', 'phoeta', \n",
    "       'partWpt', 'partWpt2', 'TvsQCD']\n",
    "\n",
    "region = 'wmcr'"
   ]
  },
  {
   "cell_type": "markdown",
   "metadata": {},
   "source": [
    "## all genWeight"
   ]
  },
  {
   "cell_type": "code",
   "execution_count": 49,
   "metadata": {},
   "outputs": [],
   "source": [
    "# With nlo ewk, all genWeight, apply HEM cut(file V30)\n",
    "version = 30\n",
    "hists = load(path+'manyplot_'+str(year)+'_V'+str(version)+'_'+str(rg)+'.scaled')\n",
    "bkg_hists = hists['bkg']\n",
    "compare_hists['withnlo_allGenW_applyHEM']={\n",
    "    'WJets-0J': bkg_hists['recoilphi'].integrate('region', region).integrate('systematic','nominal').values()[('WJets-0J',)],\n",
    "    'WJets-1J': bkg_hists['recoilphi'].integrate('region', region).integrate('systematic','nominal').values()[('WJets-1J',)],\n",
    "    'WJets-2J': bkg_hists['recoilphi'].integrate('region', region).integrate('systematic','nominal').values()[('WJets-2J',)],\n",
    "    'WJets-Pt': bkg_hists['recoilphi'].integrate('region', region).integrate('systematic','nominal').values()[('WJets-Pt',)]\n",
    "                                             }"
   ]
  },
  {
   "cell_type": "code",
   "execution_count": 50,
   "metadata": {},
   "outputs": [],
   "source": [
    "# Without nlo ewk, all genWeight, apply HEM cut(file V31)\n",
    "version = 31\n",
    "hists = load(path+'manyplot_'+str(year)+'_V'+str(version)+'_'+str(rg)+'.scaled')\n",
    "bkg_hists = hists['bkg']\n",
    "compare_hists['withoutnlo_allGenW_applyHEM']={\n",
    "    'WJets-0J': bkg_hists['recoilphi'].integrate('region', region).integrate('systematic','nominal').values()[('WJets-0J',)],\n",
    "    'WJets-1J': bkg_hists['recoilphi'].integrate('region', region).integrate('systematic','nominal').values()[('WJets-1J',)],\n",
    "    'WJets-2J': bkg_hists['recoilphi'].integrate('region', region).integrate('systematic','nominal').values()[('WJets-2J',)],\n",
    "    'WJets-Pt': bkg_hists['recoilphi'].integrate('region', region).integrate('systematic','nominal').values()[('WJets-Pt',)]\n",
    "                                             }"
   ]
  },
  {
   "cell_type": "code",
   "execution_count": 66,
   "metadata": {},
   "outputs": [
    {
     "ename": "FileNotFoundError",
     "evalue": "[Errno 2] No such file or directory: '/Users/hongjieun/MonoTop/notebook_plotting/check_events/manyplot_2018_V51_tw.scaled'",
     "output_type": "error",
     "traceback": [
      "\u001b[0;31m---------------------------------------------------------------------------\u001b[0m",
      "\u001b[0;31mFileNotFoundError\u001b[0m                         Traceback (most recent call last)",
      "\u001b[0;32m<ipython-input-66-f05639ae8b67>\u001b[0m in \u001b[0;36m<module>\u001b[0;34m\u001b[0m\n\u001b[1;32m      1\u001b[0m \u001b[0;31m# With nlo ewk, all genWeight, no HEM cut(file V51)\u001b[0m\u001b[0;34m\u001b[0m\u001b[0;34m\u001b[0m\u001b[0;34m\u001b[0m\u001b[0m\n\u001b[1;32m      2\u001b[0m \u001b[0mversion\u001b[0m \u001b[0;34m=\u001b[0m \u001b[0;36m51\u001b[0m\u001b[0;34m\u001b[0m\u001b[0;34m\u001b[0m\u001b[0m\n\u001b[0;32m----> 3\u001b[0;31m \u001b[0mhists\u001b[0m \u001b[0;34m=\u001b[0m \u001b[0mload\u001b[0m\u001b[0;34m(\u001b[0m\u001b[0mpath\u001b[0m\u001b[0;34m+\u001b[0m\u001b[0;34m'manyplot_'\u001b[0m\u001b[0;34m+\u001b[0m\u001b[0mstr\u001b[0m\u001b[0;34m(\u001b[0m\u001b[0myear\u001b[0m\u001b[0;34m)\u001b[0m\u001b[0;34m+\u001b[0m\u001b[0;34m'_V'\u001b[0m\u001b[0;34m+\u001b[0m\u001b[0mstr\u001b[0m\u001b[0;34m(\u001b[0m\u001b[0mversion\u001b[0m\u001b[0;34m)\u001b[0m\u001b[0;34m+\u001b[0m\u001b[0;34m'_'\u001b[0m\u001b[0;34m+\u001b[0m\u001b[0mstr\u001b[0m\u001b[0;34m(\u001b[0m\u001b[0mrg\u001b[0m\u001b[0;34m)\u001b[0m\u001b[0;34m+\u001b[0m\u001b[0;34m'.scaled'\u001b[0m\u001b[0;34m)\u001b[0m\u001b[0;34m\u001b[0m\u001b[0;34m\u001b[0m\u001b[0m\n\u001b[0m\u001b[1;32m      4\u001b[0m \u001b[0mbkg_hists\u001b[0m \u001b[0;34m=\u001b[0m \u001b[0mhists\u001b[0m\u001b[0;34m[\u001b[0m\u001b[0;34m'bkg'\u001b[0m\u001b[0;34m]\u001b[0m\u001b[0;34m\u001b[0m\u001b[0;34m\u001b[0m\u001b[0m\n\u001b[1;32m      5\u001b[0m compare_hists['withnlo_allGenW_noHEMcut']={\n",
      "\u001b[0;32m~/.local/lib/python3.7/site-packages/coffea/util.py\u001b[0m in \u001b[0;36mload\u001b[0;34m(filename)\u001b[0m\n\u001b[1;32m     19\u001b[0m     '''Load a coffea file from disk\n\u001b[1;32m     20\u001b[0m     '''\n\u001b[0;32m---> 21\u001b[0;31m     \u001b[0;32mwith\u001b[0m \u001b[0mlz4\u001b[0m\u001b[0;34m.\u001b[0m\u001b[0mframe\u001b[0m\u001b[0;34m.\u001b[0m\u001b[0mopen\u001b[0m\u001b[0;34m(\u001b[0m\u001b[0mfilename\u001b[0m\u001b[0;34m)\u001b[0m \u001b[0;32mas\u001b[0m \u001b[0mfin\u001b[0m\u001b[0;34m:\u001b[0m\u001b[0;34m\u001b[0m\u001b[0;34m\u001b[0m\u001b[0m\n\u001b[0m\u001b[1;32m     22\u001b[0m         \u001b[0moutput\u001b[0m \u001b[0;34m=\u001b[0m \u001b[0mcloudpickle\u001b[0m\u001b[0;34m.\u001b[0m\u001b[0mload\u001b[0m\u001b[0;34m(\u001b[0m\u001b[0mfin\u001b[0m\u001b[0;34m)\u001b[0m\u001b[0;34m\u001b[0m\u001b[0;34m\u001b[0m\u001b[0m\n\u001b[1;32m     23\u001b[0m     \u001b[0;32mreturn\u001b[0m \u001b[0moutput\u001b[0m\u001b[0;34m\u001b[0m\u001b[0;34m\u001b[0m\u001b[0m\n",
      "\u001b[0;32m~/.local/lib/python3.7/site-packages/lz4/frame/__init__.py\u001b[0m in \u001b[0;36mopen\u001b[0;34m(filename, mode, encoding, errors, newline, block_size, block_linked, compression_level, content_checksum, block_checksum, auto_flush, return_bytearray, source_size)\u001b[0m\n\u001b[1;32m    829\u001b[0m         \u001b[0mblock_checksum\u001b[0m\u001b[0;34m=\u001b[0m\u001b[0mblock_checksum\u001b[0m\u001b[0;34m,\u001b[0m\u001b[0;34m\u001b[0m\u001b[0;34m\u001b[0m\u001b[0m\n\u001b[1;32m    830\u001b[0m         \u001b[0mauto_flush\u001b[0m\u001b[0;34m=\u001b[0m\u001b[0mauto_flush\u001b[0m\u001b[0;34m,\u001b[0m\u001b[0;34m\u001b[0m\u001b[0;34m\u001b[0m\u001b[0m\n\u001b[0;32m--> 831\u001b[0;31m         \u001b[0mreturn_bytearray\u001b[0m\u001b[0;34m=\u001b[0m\u001b[0mreturn_bytearray\u001b[0m\u001b[0;34m,\u001b[0m\u001b[0;34m\u001b[0m\u001b[0;34m\u001b[0m\u001b[0m\n\u001b[0m\u001b[1;32m    832\u001b[0m     )\n\u001b[1;32m    833\u001b[0m \u001b[0;34m\u001b[0m\u001b[0m\n",
      "\u001b[0;32m~/.local/lib/python3.7/site-packages/lz4/frame/__init__.py\u001b[0m in \u001b[0;36m__init__\u001b[0;34m(self, filename, mode, block_size, block_linked, compression_level, content_checksum, block_checksum, auto_flush, return_bytearray, source_size)\u001b[0m\n\u001b[1;32m    508\u001b[0m             \u001b[0;32mif\u001b[0m \u001b[0;34m'b'\u001b[0m \u001b[0;32mnot\u001b[0m \u001b[0;32min\u001b[0m \u001b[0mmode\u001b[0m\u001b[0;34m:\u001b[0m\u001b[0;34m\u001b[0m\u001b[0;34m\u001b[0m\u001b[0m\n\u001b[1;32m    509\u001b[0m                 \u001b[0mmode\u001b[0m \u001b[0;34m+=\u001b[0m \u001b[0;34m'b'\u001b[0m\u001b[0;34m\u001b[0m\u001b[0;34m\u001b[0m\u001b[0m\n\u001b[0;32m--> 510\u001b[0;31m             \u001b[0mself\u001b[0m\u001b[0;34m.\u001b[0m\u001b[0m_fp\u001b[0m \u001b[0;34m=\u001b[0m \u001b[0mbuiltins\u001b[0m\u001b[0;34m.\u001b[0m\u001b[0mopen\u001b[0m\u001b[0;34m(\u001b[0m\u001b[0mfilename\u001b[0m\u001b[0;34m,\u001b[0m \u001b[0mmode\u001b[0m\u001b[0;34m)\u001b[0m\u001b[0;34m\u001b[0m\u001b[0;34m\u001b[0m\u001b[0m\n\u001b[0m\u001b[1;32m    511\u001b[0m             \u001b[0mself\u001b[0m\u001b[0;34m.\u001b[0m\u001b[0m_closefp\u001b[0m \u001b[0;34m=\u001b[0m \u001b[0;32mTrue\u001b[0m\u001b[0;34m\u001b[0m\u001b[0;34m\u001b[0m\u001b[0m\n\u001b[1;32m    512\u001b[0m             \u001b[0mself\u001b[0m\u001b[0;34m.\u001b[0m\u001b[0m_mode\u001b[0m \u001b[0;34m=\u001b[0m \u001b[0mmode_code\u001b[0m\u001b[0;34m\u001b[0m\u001b[0;34m\u001b[0m\u001b[0m\n",
      "\u001b[0;31mFileNotFoundError\u001b[0m: [Errno 2] No such file or directory: '/Users/hongjieun/MonoTop/notebook_plotting/check_events/manyplot_2018_V51_tw.scaled'"
     ]
    }
   ],
   "source": [
    "# With nlo ewk, all genWeight, no HEM cut(file V51)\n",
    "version = 51\n",
    "hists = load(path+'manyplot_'+str(year)+'_V'+str(version)+'_'+str(rg)+'.scaled')\n",
    "bkg_hists = hists['bkg']\n",
    "compare_hists['withnlo_allGenW_noHEMcut']={\n",
    "    'WJets-0J': bkg_hists['recoilphi'].integrate('region', region).integrate('systematic','nominal').values()[('WJets-0J',)],\n",
    "    'WJets-1J': bkg_hists['recoilphi'].integrate('region', region).integrate('systematic','nominal').values()[('WJets-1J',)],\n",
    "    'WJets-2J': bkg_hists['recoilphi'].integrate('region', region).integrate('systematic','nominal').values()[('WJets-2J',)],\n",
    "    'WJets-Pt': bkg_hists['recoilphi'].integrate('region', region).integrate('systematic','nominal').values()[('WJets-Pt',)]\n",
    "                                             }"
   ]
  },
  {
   "cell_type": "markdown",
   "metadata": {},
   "source": [
    "## positive genWeight"
   ]
  },
  {
   "cell_type": "code",
   "execution_count": 51,
   "metadata": {},
   "outputs": [],
   "source": [
    "# With nlo ewk, positive genWeight, apply HEM cut(file V44)\n",
    "version = 44\n",
    "hists = load(path+'manyplot_'+str(year)+'_V'+str(version)+'_'+str(rg)+'.scaled')\n",
    "bkg_hists = hists['bkg']\n",
    "compare_hists['withnlo_posGenW_applyHEM']={\n",
    "    'WJets-0J': bkg_hists['recoilphi'].integrate('region', 'wmcr').integrate('systematic','nominal').values()[('WJets-0J',)],\n",
    "    'WJets-1J': bkg_hists['recoilphi'].integrate('region', 'wmcr').integrate('systematic','nominal').values()[('WJets-1J',)],\n",
    "    'WJets-2J': bkg_hists['recoilphi'].integrate('region', 'wmcr').integrate('systematic','nominal').values()[('WJets-2J',)],\n",
    "    'WJets-Pt': bkg_hists['recoilphi'].integrate('region', 'wmcr').integrate('systematic','nominal').values()[('WJets-Pt',)]\n",
    "                                             }"
   ]
  },
  {
   "cell_type": "code",
   "execution_count": 52,
   "metadata": {},
   "outputs": [
    {
     "ename": "FileNotFoundError",
     "evalue": "[Errno 2] No such file or directory: '/Users/hongjieun/MonoTop/notebook_plotting/check_events/manyplot_2018_V53_tw.scaled'",
     "output_type": "error",
     "traceback": [
      "\u001b[0;31m---------------------------------------------------------------------------\u001b[0m",
      "\u001b[0;31mFileNotFoundError\u001b[0m                         Traceback (most recent call last)",
      "\u001b[0;32m<ipython-input-52-fb5ccb1e95f3>\u001b[0m in \u001b[0;36m<module>\u001b[0;34m\u001b[0m\n\u001b[1;32m      1\u001b[0m \u001b[0;31m# With nlo ewk, positive genWeight, no HEM cut(file V53)\u001b[0m\u001b[0;34m\u001b[0m\u001b[0;34m\u001b[0m\u001b[0;34m\u001b[0m\u001b[0m\n\u001b[1;32m      2\u001b[0m \u001b[0mversion\u001b[0m \u001b[0;34m=\u001b[0m \u001b[0;36m53\u001b[0m\u001b[0;34m\u001b[0m\u001b[0;34m\u001b[0m\u001b[0m\n\u001b[0;32m----> 3\u001b[0;31m \u001b[0mhists\u001b[0m \u001b[0;34m=\u001b[0m \u001b[0mload\u001b[0m\u001b[0;34m(\u001b[0m\u001b[0mpath\u001b[0m\u001b[0;34m+\u001b[0m\u001b[0;34m'manyplot_'\u001b[0m\u001b[0;34m+\u001b[0m\u001b[0mstr\u001b[0m\u001b[0;34m(\u001b[0m\u001b[0myear\u001b[0m\u001b[0;34m)\u001b[0m\u001b[0;34m+\u001b[0m\u001b[0;34m'_V'\u001b[0m\u001b[0;34m+\u001b[0m\u001b[0mstr\u001b[0m\u001b[0;34m(\u001b[0m\u001b[0mversion\u001b[0m\u001b[0;34m)\u001b[0m\u001b[0;34m+\u001b[0m\u001b[0;34m'_'\u001b[0m\u001b[0;34m+\u001b[0m\u001b[0mstr\u001b[0m\u001b[0;34m(\u001b[0m\u001b[0mrg\u001b[0m\u001b[0;34m)\u001b[0m\u001b[0;34m+\u001b[0m\u001b[0;34m'.scaled'\u001b[0m\u001b[0;34m)\u001b[0m\u001b[0;34m\u001b[0m\u001b[0;34m\u001b[0m\u001b[0m\n\u001b[0m\u001b[1;32m      4\u001b[0m \u001b[0mbkg_hists\u001b[0m \u001b[0;34m=\u001b[0m \u001b[0mhists\u001b[0m\u001b[0;34m[\u001b[0m\u001b[0;34m'bkg'\u001b[0m\u001b[0;34m]\u001b[0m\u001b[0;34m\u001b[0m\u001b[0;34m\u001b[0m\u001b[0m\n\u001b[1;32m      5\u001b[0m compare_hists['withnlo_posGenW_noHEMcut']={\n",
      "\u001b[0;32m~/.local/lib/python3.7/site-packages/coffea/util.py\u001b[0m in \u001b[0;36mload\u001b[0;34m(filename)\u001b[0m\n\u001b[1;32m     19\u001b[0m     '''Load a coffea file from disk\n\u001b[1;32m     20\u001b[0m     '''\n\u001b[0;32m---> 21\u001b[0;31m     \u001b[0;32mwith\u001b[0m \u001b[0mlz4\u001b[0m\u001b[0;34m.\u001b[0m\u001b[0mframe\u001b[0m\u001b[0;34m.\u001b[0m\u001b[0mopen\u001b[0m\u001b[0;34m(\u001b[0m\u001b[0mfilename\u001b[0m\u001b[0;34m)\u001b[0m \u001b[0;32mas\u001b[0m \u001b[0mfin\u001b[0m\u001b[0;34m:\u001b[0m\u001b[0;34m\u001b[0m\u001b[0;34m\u001b[0m\u001b[0m\n\u001b[0m\u001b[1;32m     22\u001b[0m         \u001b[0moutput\u001b[0m \u001b[0;34m=\u001b[0m \u001b[0mcloudpickle\u001b[0m\u001b[0;34m.\u001b[0m\u001b[0mload\u001b[0m\u001b[0;34m(\u001b[0m\u001b[0mfin\u001b[0m\u001b[0;34m)\u001b[0m\u001b[0;34m\u001b[0m\u001b[0;34m\u001b[0m\u001b[0m\n\u001b[1;32m     23\u001b[0m     \u001b[0;32mreturn\u001b[0m \u001b[0moutput\u001b[0m\u001b[0;34m\u001b[0m\u001b[0;34m\u001b[0m\u001b[0m\n",
      "\u001b[0;32m~/.local/lib/python3.7/site-packages/lz4/frame/__init__.py\u001b[0m in \u001b[0;36mopen\u001b[0;34m(filename, mode, encoding, errors, newline, block_size, block_linked, compression_level, content_checksum, block_checksum, auto_flush, return_bytearray, source_size)\u001b[0m\n\u001b[1;32m    829\u001b[0m         \u001b[0mblock_checksum\u001b[0m\u001b[0;34m=\u001b[0m\u001b[0mblock_checksum\u001b[0m\u001b[0;34m,\u001b[0m\u001b[0;34m\u001b[0m\u001b[0;34m\u001b[0m\u001b[0m\n\u001b[1;32m    830\u001b[0m         \u001b[0mauto_flush\u001b[0m\u001b[0;34m=\u001b[0m\u001b[0mauto_flush\u001b[0m\u001b[0;34m,\u001b[0m\u001b[0;34m\u001b[0m\u001b[0;34m\u001b[0m\u001b[0m\n\u001b[0;32m--> 831\u001b[0;31m         \u001b[0mreturn_bytearray\u001b[0m\u001b[0;34m=\u001b[0m\u001b[0mreturn_bytearray\u001b[0m\u001b[0;34m,\u001b[0m\u001b[0;34m\u001b[0m\u001b[0;34m\u001b[0m\u001b[0m\n\u001b[0m\u001b[1;32m    832\u001b[0m     )\n\u001b[1;32m    833\u001b[0m \u001b[0;34m\u001b[0m\u001b[0m\n",
      "\u001b[0;32m~/.local/lib/python3.7/site-packages/lz4/frame/__init__.py\u001b[0m in \u001b[0;36m__init__\u001b[0;34m(self, filename, mode, block_size, block_linked, compression_level, content_checksum, block_checksum, auto_flush, return_bytearray, source_size)\u001b[0m\n\u001b[1;32m    508\u001b[0m             \u001b[0;32mif\u001b[0m \u001b[0;34m'b'\u001b[0m \u001b[0;32mnot\u001b[0m \u001b[0;32min\u001b[0m \u001b[0mmode\u001b[0m\u001b[0;34m:\u001b[0m\u001b[0;34m\u001b[0m\u001b[0;34m\u001b[0m\u001b[0m\n\u001b[1;32m    509\u001b[0m                 \u001b[0mmode\u001b[0m \u001b[0;34m+=\u001b[0m \u001b[0;34m'b'\u001b[0m\u001b[0;34m\u001b[0m\u001b[0;34m\u001b[0m\u001b[0m\n\u001b[0;32m--> 510\u001b[0;31m             \u001b[0mself\u001b[0m\u001b[0;34m.\u001b[0m\u001b[0m_fp\u001b[0m \u001b[0;34m=\u001b[0m \u001b[0mbuiltins\u001b[0m\u001b[0;34m.\u001b[0m\u001b[0mopen\u001b[0m\u001b[0;34m(\u001b[0m\u001b[0mfilename\u001b[0m\u001b[0;34m,\u001b[0m \u001b[0mmode\u001b[0m\u001b[0;34m)\u001b[0m\u001b[0;34m\u001b[0m\u001b[0;34m\u001b[0m\u001b[0m\n\u001b[0m\u001b[1;32m    511\u001b[0m             \u001b[0mself\u001b[0m\u001b[0;34m.\u001b[0m\u001b[0m_closefp\u001b[0m \u001b[0;34m=\u001b[0m \u001b[0;32mTrue\u001b[0m\u001b[0;34m\u001b[0m\u001b[0;34m\u001b[0m\u001b[0m\n\u001b[1;32m    512\u001b[0m             \u001b[0mself\u001b[0m\u001b[0;34m.\u001b[0m\u001b[0m_mode\u001b[0m \u001b[0;34m=\u001b[0m \u001b[0mmode_code\u001b[0m\u001b[0;34m\u001b[0m\u001b[0;34m\u001b[0m\u001b[0m\n",
      "\u001b[0;31mFileNotFoundError\u001b[0m: [Errno 2] No such file or directory: '/Users/hongjieun/MonoTop/notebook_plotting/check_events/manyplot_2018_V53_tw.scaled'"
     ]
    }
   ],
   "source": [
    "# With nlo ewk, positive genWeight, no HEM cut(file V53)\n",
    "version = 53\n",
    "hists = load(path+'manyplot_'+str(year)+'_V'+str(version)+'_'+str(rg)+'.scaled')\n",
    "bkg_hists = hists['bkg']\n",
    "compare_hists['withnlo_posGenW_noHEMcut']={\n",
    "    'WJets-0J': bkg_hists['recoilphi'].integrate('region', 'wmcr').integrate('systematic','nominal').values()[('WJets-0J',)],\n",
    "    'WJets-1J': bkg_hists['recoilphi'].integrate('region', 'wmcr').integrate('systematic','nominal').values()[('WJets-1J',)],\n",
    "    'WJets-2J': bkg_hists['recoilphi'].integrate('region', 'wmcr').integrate('systematic','nominal').values()[('WJets-2J',)],\n",
    "    'WJets-Pt': bkg_hists['recoilphi'].integrate('region', 'wmcr').integrate('systematic','nominal').values()[('WJets-Pt',)]\n",
    "                                             }"
   ]
  },
  {
   "cell_type": "code",
   "execution_count": 53,
   "metadata": {},
   "outputs": [],
   "source": [
    "# Without nlo ewk, positive genWeight, apply HEM cut(file V43)\n",
    "version = 43\n",
    "hists = load(path+'manyplot_'+str(year)+'_V'+str(version)+'_'+str(rg)+'.scaled')\n",
    "bkg_hists = hists['bkg']\n",
    "compare_hists['withoutnlo_posGenW_applyHEM']={\n",
    "    'WJets-0J': bkg_hists['recoilphi'].integrate('region', 'wmcr').integrate('systematic','nominal').values()[('WJets-0J',)],\n",
    "    'WJets-1J': bkg_hists['recoilphi'].integrate('region', 'wmcr').integrate('systematic','nominal').values()[('WJets-1J',)],\n",
    "    'WJets-2J': bkg_hists['recoilphi'].integrate('region', 'wmcr').integrate('systematic','nominal').values()[('WJets-2J',)],\n",
    "    'WJets-Pt': bkg_hists['recoilphi'].integrate('region', 'wmcr').integrate('systematic','nominal').values()[('WJets-Pt',)]\n",
    "                                             }"
   ]
  },
  {
   "cell_type": "code",
   "execution_count": 60,
   "metadata": {},
   "outputs": [],
   "source": [
    "# Without nlo ewk, positive genWeight, no HEM cut(file V54)\n",
    "version = 54\n",
    "hists = load(path+'manyplot_'+str(year)+'_V'+str(version)+'_'+str(rg)+'.scaled')\n",
    "bkg_hists = hists['bkg']\n",
    "compare_hists['withoutnlo_posGenW_noHEMcut']={\n",
    "    'WJets-0J': bkg_hists['recoilphi'].integrate('region', 'wmcr').integrate('systematic','nominal').values()[('WJets-0J',)],\n",
    "    'WJets-1J': bkg_hists['recoilphi'].integrate('region', 'wmcr').integrate('systematic','nominal').values()[('WJets-1J',)],\n",
    "    'WJets-2J': bkg_hists['recoilphi'].integrate('region', 'wmcr').integrate('systematic','nominal').values()[('WJets-2J',)],\n",
    "    'WJets-Pt': bkg_hists['recoilphi'].integrate('region', 'wmcr').integrate('systematic','nominal').values()[('WJets-Pt',)]\n",
    "                                             }"
   ]
  },
  {
   "cell_type": "markdown",
   "metadata": {},
   "source": [
    "## negative genWeight"
   ]
  },
  {
   "cell_type": "code",
   "execution_count": 55,
   "metadata": {},
   "outputs": [],
   "source": [
    "# With nlo ewk, negative genWeight, apply HEM cut(file V46)\n",
    "version = 46\n",
    "hists = load(path+'manyplot_'+str(year)+'_V'+str(version)+'_'+str(rg)+'.scaled')\n",
    "bkg_hists = hists['bkg']\n",
    "compare_hists['withnlo_negGenW_applyHEMcut']={\n",
    "    'WJets-0J': bkg_hists['recoilphi'].integrate('region', 'wmcr').integrate('systematic','nominal').values()[('WJets-0J',)],\n",
    "    'WJets-1J': bkg_hists['recoilphi'].integrate('region', 'wmcr').integrate('systematic','nominal').values()[('WJets-1J',)],\n",
    "    'WJets-2J': bkg_hists['recoilphi'].integrate('region', 'wmcr').integrate('systematic','nominal').values()[('WJets-2J',)],\n",
    "    'WJets-Pt': bkg_hists['recoilphi'].integrate('region', 'wmcr').integrate('systematic','nominal').values()[('WJets-Pt',)]\n",
    "                                             }"
   ]
  },
  {
   "cell_type": "code",
   "execution_count": 56,
   "metadata": {},
   "outputs": [],
   "source": [
    "# With nlo ewk, negative genWeight, no HEM cut(file V55)\n",
    "version = 55\n",
    "hists = load(path+'manyplot_'+str(year)+'_V'+str(version)+'_'+str(rg)+'.scaled')\n",
    "bkg_hists = hists['bkg']\n",
    "compare_hists['withnlo_negGenW_noHEMcut']={\n",
    "    'WJets-0J': bkg_hists['recoilphi'].integrate('region', 'wmcr').integrate('systematic','nominal').values()[('WJets-0J',)],\n",
    "    'WJets-1J': bkg_hists['recoilphi'].integrate('region', 'wmcr').integrate('systematic','nominal').values()[('WJets-1J',)],\n",
    "    'WJets-2J': bkg_hists['recoilphi'].integrate('region', 'wmcr').integrate('systematic','nominal').values()[('WJets-2J',)],\n",
    "    'WJets-Pt': bkg_hists['recoilphi'].integrate('region', 'wmcr').integrate('systematic','nominal').values()[('WJets-Pt',)]\n",
    "                                             }"
   ]
  },
  {
   "cell_type": "code",
   "execution_count": 57,
   "metadata": {},
   "outputs": [],
   "source": [
    "# Without nlo ewk, negative genWeight, apply HEM cut(file V45)\n",
    "version = 45\n",
    "hists = load(path+'manyplot_'+str(year)+'_V'+str(version)+'_'+str(rg)+'.scaled')\n",
    "bkg_hists = hists['bkg']\n",
    "compare_hists['withoutnlo_negGenW_applyHEMcut']={\n",
    "    'WJets-0J': bkg_hists['recoilphi'].integrate('region', 'wmcr').integrate('systematic','nominal').values()[('WJets-0J',)],\n",
    "    'WJets-1J': bkg_hists['recoilphi'].integrate('region', 'wmcr').integrate('systematic','nominal').values()[('WJets-1J',)],\n",
    "    'WJets-2J': bkg_hists['recoilphi'].integrate('region', 'wmcr').integrate('systematic','nominal').values()[('WJets-2J',)],\n",
    "    'WJets-Pt': bkg_hists['recoilphi'].integrate('region', 'wmcr').integrate('systematic','nominal').values()[('WJets-Pt',)]\n",
    "                                             }"
   ]
  },
  {
   "cell_type": "code",
   "execution_count": 58,
   "metadata": {},
   "outputs": [],
   "source": [
    "# Without nlo ewk, negative genWeight, no HEM cut(file V56)\n",
    "version = 56\n",
    "hists = load(path+'manyplot_'+str(year)+'_V'+str(version)+'_'+str(rg)+'.scaled')\n",
    "bkg_hists = hists['bkg']\n",
    "compare_hists['withoutnlo_negGenW_noHEMcut']={\n",
    "    'WJets-0J': bkg_hists['recoilphi'].integrate('region', 'wmcr').integrate('systematic','nominal').values()[('WJets-0J',)],\n",
    "    'WJets-1J': bkg_hists['recoilphi'].integrate('region', 'wmcr').integrate('systematic','nominal').values()[('WJets-1J',)],\n",
    "    'WJets-2J': bkg_hists['recoilphi'].integrate('region', 'wmcr').integrate('systematic','nominal').values()[('WJets-2J',)],\n",
    "    'WJets-Pt': bkg_hists['recoilphi'].integrate('region', 'wmcr').integrate('systematic','nominal').values()[('WJets-Pt',)]\n",
    "                                             }"
   ]
  },
  {
   "cell_type": "code",
   "execution_count": 62,
   "metadata": {},
   "outputs": [],
   "source": [
    "# With nlo ewk, all genWeight, remove HEM met cut on CR(file V60)\n",
    "version = 60\n",
    "hists = load(path+'manyplot_'+str(year)+'_V'+str(version)+'_'+str(rg)+'.scaled')\n",
    "bkg_hists = hists['bkg']\n",
    "compare_hists['withnlo_allGenW_removeHEMmetonCR']={\n",
    "    'WJets-0J': bkg_hists['recoilphi'].integrate('region', 'wmcr').integrate('systematic','nominal').values()[('WJets-0J',)],\n",
    "    'WJets-1J': bkg_hists['recoilphi'].integrate('region', 'wmcr').integrate('systematic','nominal').values()[('WJets-1J',)],\n",
    "    'WJets-2J': bkg_hists['recoilphi'].integrate('region', 'wmcr').integrate('systematic','nominal').values()[('WJets-2J',)],\n",
    "    'WJets-Pt': bkg_hists['recoilphi'].integrate('region', 'wmcr').integrate('systematic','nominal').values()[('WJets-Pt',)]\n",
    "                                             }"
   ]
  },
  {
   "cell_type": "code",
   "execution_count": 20,
   "metadata": {
    "scrolled": true
   },
   "outputs": [
    {
     "data": {
      "text/plain": [
       "{'withoutnlo_posGenW_applyHEM': {'WJets-0J': array([0., 0., 0., 0., 0., 0., 0., 0., 0., 0., 0., 0., 0., 0., 0., 0., 0.,\n",
       "         0., 0., 0., 0., 0., 0., 0., 0., 0., 0., 0., 0., 0., 0., 0., 0., 0.,\n",
       "         0.]),\n",
       "  'WJets-1J': array([  0.        ,  49.30109023, 199.48913614, 218.97585131,\n",
       "         195.10788881, 190.39656555, 191.38508139, 175.3516278 ,\n",
       "         183.42477458,  72.93726723,   3.33522218,   0.        ,\n",
       "           0.        ,  15.82353438,  86.6528045 , 246.68019989,\n",
       "         230.14092217, 268.62273252, 227.93695441, 213.54990668,\n",
       "         228.61318349, 261.7835463 , 231.29859547, 199.86144523,\n",
       "         216.38706851, 228.31452763, 210.68405257, 226.4205194 ,\n",
       "         227.68974519, 204.79545911, 176.25797469, 285.52660551,\n",
       "         183.11278999,  55.00674599,   0.        ]),\n",
       "  'WJets-2J': array([  0.        , 125.00578193, 532.98484255, 546.81285991,\n",
       "         654.43179966, 558.92631095, 558.44745659, 552.37768022,\n",
       "         515.57498148, 231.65518645,   8.83340788,   9.55965369,\n",
       "           9.41813326,  39.21676395, 343.31738551, 618.00701313,\n",
       "         708.54430723, 635.46355817, 646.55193272, 643.60963277,\n",
       "         587.30114164, 596.26276609, 510.53943569, 760.96536012,\n",
       "         594.09212535, 508.77853186, 562.66758815, 506.45770371,\n",
       "         524.92156498, 600.15955293, 553.43365633, 677.70904257,\n",
       "         573.61421049, 128.18104621,   0.        ]),\n",
       "  'WJets-Pt': array([   0.        ,  249.92739776, 1195.05329528, 1191.36807142,\n",
       "         1151.93088235, 1139.63897108, 1175.66212395, 1198.44160004,\n",
       "         1131.65527982,  542.92596554,  143.94493422,  114.79949387,\n",
       "          121.81923016,  192.88790258,  746.88771483, 1183.23399112,\n",
       "         1215.7995477 , 1237.67310252, 1244.54274924, 1240.69057273,\n",
       "         1208.47418393, 1200.55685691, 1203.62690845, 1194.25292008,\n",
       "         1172.73224112, 1104.41497062, 1087.80868087, 1099.43323516,\n",
       "         1130.27085207, 1176.62196925, 1200.34909882, 1216.71449288,\n",
       "         1209.93041311,  251.12134306,    0.        ])},\n",
       " 'withnlo_posGenW_applyHEM': {'WJets-0J': array([0., 0., 0., 0., 0., 0., 0., 0., 0., 0., 0., 0., 0., 0., 0., 0., 0.,\n",
       "         0., 0., 0., 0., 0., 0., 0., 0., 0., 0., 0., 0., 0., 0., 0., 0., 0.,\n",
       "         0.]),\n",
       "  'WJets-1J': array([  0.        ,  47.9178348 , 219.20304782, 212.19953797,\n",
       "         230.83169197, 217.36289365, 224.89399054, 165.95646446,\n",
       "         212.54042456, 104.71396459,  -0.81545113,   0.        ,\n",
       "           0.        ,  16.9013712 ,  97.70575871, 276.84768405,\n",
       "         247.42735018, 318.35366986, 248.35233585, 223.50699581,\n",
       "         262.33563539, 301.49325033, 310.52787467, 237.54262422,\n",
       "         254.56727634, 244.73405695, 235.2914725 , 251.43724081,\n",
       "         293.35204914, 233.31515629, 195.39746478, 364.92217544,\n",
       "         146.38033809,  67.72063303,   0.        ]),\n",
       "  'WJets-2J': array([  0.        , 139.05454741, 580.57323922, 574.75771818,\n",
       "         820.62615921, 688.94979559, 557.78890455, 611.95779078,\n",
       "         611.64980518, 305.21331286,  -1.56243914,  18.84938476,\n",
       "          18.57033982,   9.85467412, 323.13033211, 673.66181625,\n",
       "         746.59931712, 622.30041527, 674.49864022, 666.67533897,\n",
       "         658.46793943, 645.02891801, 541.00327294, 902.10592081,\n",
       "         528.56272414, 457.01755008, 550.97989222, 459.71887052,\n",
       "         576.60212377, 708.23477015, 524.52375103, 801.0216081 ,\n",
       "         595.86633551, 159.28106205,   0.        ]),\n",
       "  'WJets-Pt': array([   0.        ,  224.95062228, 1060.77260274, 1067.68657521,\n",
       "         1041.71387138, 1033.34285856, 1060.52377472, 1080.11843759,\n",
       "         1014.29751358,  485.73384545,  125.09312788,   99.05780191,\n",
       "          103.48662474,  168.86610936,  667.36064502, 1063.66423215,\n",
       "         1091.89712425, 1115.39447002, 1110.85615952, 1119.46338311,\n",
       "         1088.43482105, 1076.56429294, 1077.5790395 , 1071.69350496,\n",
       "         1052.96427841,  985.790156  ,  974.18050497,  995.61566355,\n",
       "         1017.24630932, 1056.51984921, 1084.21036718, 1094.2868806 ,\n",
       "         1098.76928887,  225.63688431,    0.        ])},\n",
       " 'withnlo_allGenW_applyHEM': {'WJets-0J': array([0., 0., 0., 0., 0., 0., 0., 0., 0., 0., 0., 0., 0., 0., 0., 0., 0.,\n",
       "         0., 0., 0., 0., 0., 0., 0., 0., 0., 0., 0., 0., 0., 0., 0., 0., 0.,\n",
       "         0.]),\n",
       "  'WJets-1J': array([  0.        ,  47.9178348 , 219.20304782, 212.19953797,\n",
       "         230.83169197, 217.36289365, 224.89399054, 165.95646446,\n",
       "         212.54042456, 104.71396459,  -0.81545113,   0.        ,\n",
       "           0.        ,  16.9013712 ,  97.70575871, 276.84768405,\n",
       "         247.42735018, 318.35366986, 248.35233585, 223.50699581,\n",
       "         262.33563539, 301.49325033, 310.52787467, 237.54262422,\n",
       "         254.56727634, 244.73405695, 235.2914725 , 251.43724081,\n",
       "         293.35204914, 233.31515629, 195.39746478, 364.92217544,\n",
       "         146.38033809,  67.72063303,   0.        ]),\n",
       "  'WJets-2J': array([  0.        , 139.05454741, 580.57323922, 574.75771818,\n",
       "         820.62615921, 688.94979559, 557.78890455, 611.95779078,\n",
       "         611.64980518, 305.21331286,  -1.56243914,  18.84938476,\n",
       "          18.57033982,   9.85467412, 323.13033211, 673.66181625,\n",
       "         746.59931712, 622.30041527, 674.49864022, 666.67533897,\n",
       "         658.46793943, 645.02891801, 541.00327294, 902.10592081,\n",
       "         528.56272414, 457.01755008, 550.97989222, 459.71887052,\n",
       "         576.60212377, 708.23477015, 524.52375103, 801.0216081 ,\n",
       "         595.86633551, 159.28106205,   0.        ]),\n",
       "  'WJets-Pt': array([   0.        ,  224.95062228, 1060.77260274, 1067.68657521,\n",
       "         1041.71387138, 1033.34285856, 1060.52377472, 1080.11843759,\n",
       "         1014.29751358,  485.73384545,  125.09312788,   99.05780191,\n",
       "          103.48662474,  168.86610936,  667.36064502, 1063.66423215,\n",
       "         1091.89712425, 1115.39447002, 1110.85615952, 1119.46338311,\n",
       "         1088.43482105, 1076.56429294, 1077.5790395 , 1071.69350496,\n",
       "         1052.96427841,  985.790156  ,  974.18050497,  995.61566355,\n",
       "         1017.24630932, 1056.51984921, 1084.21036718, 1094.2868806 ,\n",
       "         1098.76928887,  225.63688431,    0.        ])},\n",
       " 'withoutnlo_allGenW_applyHEM': {'WJets-0J': array([0., 0., 0., 0., 0., 0., 0., 0., 0., 0., 0., 0., 0., 0., 0., 0., 0.,\n",
       "         0., 0., 0., 0., 0., 0., 0., 0., 0., 0., 0., 0., 0., 0., 0., 0., 0.,\n",
       "         0.]),\n",
       "  'WJets-1J': array([  0.        ,  75.60688482, 436.48156106, 391.43076546,\n",
       "         434.18426766, 404.16572743, 370.78157555, 313.92691636,\n",
       "         409.69810773, 154.59890409,  17.23575179,  42.39302961,\n",
       "          37.02901134,  72.58234836, 195.42879128, 421.42866995,\n",
       "         428.65771853, 511.22357819, 486.3959965 , 491.8126083 ,\n",
       "         483.8263841 , 447.87115314, 538.88676343, 441.10992699,\n",
       "         412.58221264, 468.31459346, 360.56465462, 430.2417493 ,\n",
       "         448.42578395, 526.91635385, 456.57479807, 661.46913065,\n",
       "         326.16530705, 112.36376035,   0.        ]),\n",
       "  'WJets-2J': array([   0.        ,  205.1867501 , 1035.82600882, 1006.27761135,\n",
       "         1242.85538999, 1071.02188144, 1158.60559463, 1050.15009266,\n",
       "          996.37118845,  608.1422314 ,   99.91955877,  161.21736586,\n",
       "           72.74629045,  123.9667999 ,  447.59492848, 1013.58282059,\n",
       "         1310.22998679, 1197.33963124, 1128.50272772, 1230.08402404,\n",
       "         1026.51304929, 1212.33769668, 1103.88156277, 1239.58489799,\n",
       "          889.3756046 ,  779.32617667,  999.58284576,  794.41138973,\n",
       "         1082.2386774 , 1226.42662437,  978.99382869, 1431.80526667,\n",
       "         1116.02645903,  269.85124372,    0.        ]),\n",
       "  'WJets-Pt': array([   0.        ,  356.40073181, 1680.33978473, 1686.08419006,\n",
       "         1655.23242378, 1615.26946719, 1651.13524786, 1651.33105112,\n",
       "         1492.69301325,  786.02281068,  280.63886523,  208.53684295,\n",
       "          221.88976516,  349.9266417 , 1034.54445509, 1581.81485466,\n",
       "         1657.29245595, 1716.45893114, 1725.05509263, 1725.17017939,\n",
       "         1689.24023889, 1671.88831648, 1691.33970677, 1671.79998025,\n",
       "         1649.96820185, 1548.40229446, 1511.64130723, 1555.91656929,\n",
       "         1590.25765147, 1653.71369104, 1697.64750777, 1713.73260034,\n",
       "         1733.94183923,  353.33669436,    0.        ])},\n",
       " 'withnlo_posGenW_noHEMcut': {'WJets-0J': array([0., 0., 0., 0., 0., 0., 0., 0., 0., 0., 0., 0., 0., 0., 0., 0., 0.,\n",
       "         0., 0., 0., 0., 0., 0., 0., 0., 0., 0., 0., 0., 0., 0., 0., 0., 0.,\n",
       "         0.]),\n",
       "  'WJets-1J': array([  0.        ,  41.68040971, 122.74785167, 187.29680131,\n",
       "          90.01644329, 102.41732437,  91.04582223, 158.02955696,\n",
       "         103.0048173 ,  62.22642684,  83.42172888, 123.33287475,\n",
       "         193.54558946, 140.53582091, 119.26612323, 183.1520394 ,\n",
       "         150.71947291, 122.33468094, 144.13174648, 161.79177031,\n",
       "         121.4905978 , 136.66074412,  40.83684261,  90.82830255,\n",
       "         101.355313  , 183.8460235 , 160.88469567, 143.50388443,\n",
       "          71.7364548 , 109.94475648, 106.46021061,  81.98804581,\n",
       "         211.90446271,  20.69304535,   0.        ]),\n",
       "  'WJets-2J': array([  0.        ,  95.84490032, 416.55866862, 460.57796608,\n",
       "         436.62294992, 363.71557886, 482.7607513 , 430.17977801,\n",
       "         415.80305988, 413.1471454 , 543.67733967, 494.67024067,\n",
       "         476.41949596, 486.23558821, 574.84884305, 518.08164956,\n",
       "         595.34456557, 580.18966072, 532.4963542 , 535.46262983,\n",
       "         445.60443734, 474.82485019, 425.57685292, 589.59530216,\n",
       "         597.3105566 , 552.23499817, 580.46358148, 593.07114027,\n",
       "         475.78523384, 432.96950544, 508.84986478, 500.52358706,\n",
       "         479.75716229,  88.97408922,   0.        ]),\n",
       "  'WJets-Pt': array([ 0.        , 10.41150457, 58.50634226, 55.85544864, 54.14619117,\n",
       "         51.42318585, 54.9787822 , 53.26882058, 58.16037124, 55.97852137,\n",
       "         58.27123212, 56.30715071, 59.06569867, 58.16588085, 60.97524517,\n",
       "         56.61904445, 59.15973028, 61.27209281, 60.5652805 , 59.53501886,\n",
       "         59.0856607 , 57.64423974, 60.63293677, 61.74215055, 59.16717448,\n",
       "         58.14498121, 60.3785888 , 60.93268489, 59.50888808, 59.92791427,\n",
       "         60.00749325, 61.38174965, 58.20295404, 12.2911659 ,  0.        ])},\n",
       " 'withoutnlo_negGenW_applyHEMcut': {'WJets-0J': array([0., 0., 0., 0., 0., 0., 0., 0., 0., 0., 0., 0., 0., 0., 0., 0., 0.,\n",
       "         0., 0., 0., 0., 0., 0., 0., 0., 0., 0., 0., 0., 0., 0., 0., 0., 0.,\n",
       "         0.]),\n",
       "  'WJets-1J': array([  0.        ,  45.95379217, 135.06909431, 205.37970614,\n",
       "          99.05217326, 112.52913514, 100.24406053, 172.44151555,\n",
       "         102.10369082,   0.        ,  11.26362645,   0.        ,\n",
       "           0.        ,  11.69034003,  53.66598691, 155.38284097,\n",
       "         166.79043977, 135.27516218, 158.57114197, 166.99366154,\n",
       "         132.41582738, 149.42891584,  43.29777672,  99.28053939,\n",
       "         112.74912152, 166.93353404, 135.03653019, 147.99439465,\n",
       "          67.40738202, 122.01607414, 115.87995161,  90.45149725,\n",
       "         234.18656823,  22.61473134,   0.        ]),\n",
       "  'WJets-2J': array([  0.        , 103.93520841, 455.05749099, 487.06322072,\n",
       "         454.48847548, 399.6916743 , 525.67536069, 461.68825444,\n",
       "         391.77892308, 146.62942754,  18.36285159,   0.        ,\n",
       "           0.        ,  65.27821487, 342.30917175, 527.18900387,\n",
       "         629.33755307, 610.18205546, 580.83359277, 582.78964882,\n",
       "         483.31237897, 513.41032964, 450.52276863, 578.88800564,\n",
       "         621.94964086, 528.41910876, 540.3136362 , 521.37823344,\n",
       "         443.5174645 , 459.69291323, 548.29448512, 517.86096733,\n",
       "         517.76885153,  90.42355461,   0.        ]),\n",
       "  'WJets-Pt': array([   0.        ,  234.07463007, 1146.37022845, 1124.12109919,\n",
       "         1071.65136471, 1056.99977183, 1098.04428275, 1120.33343435,\n",
       "         1066.48134755,  507.40524168,  133.26438746,  105.79110985,\n",
       "          114.22528322,  179.4961656 ,  701.21987977, 1112.44604503,\n",
       "         1144.12633043, 1158.28298979, 1185.17347565, 1160.15275793,\n",
       "         1133.43980258, 1134.22566761, 1139.32563382, 1124.82787135,\n",
       "         1105.52981258, 1050.03688746, 1030.22503771, 1021.29665389,\n",
       "         1060.51202678, 1110.37042462, 1119.86780114, 1142.95719737,\n",
       "         1118.18776805,  236.57270936,    0.        ])}}"
      ]
     },
     "execution_count": 20,
     "metadata": {},
     "output_type": "execute_result"
    }
   ],
   "source": [
    "compare_hists"
   ]
  },
  {
   "cell_type": "code",
   "execution_count": 42,
   "metadata": {},
   "outputs": [
    {
     "data": {
      "text/plain": [
       "{('WJets-2J',): array([   0.        ,    0.        ,    0.        ,    0.        ,\n",
       "        2643.46183909,    0.        ,    0.        ,    0.        ,\n",
       "        2493.60912319,  911.42505033,    0.        ,    0.        ,\n",
       "           0.        ,    0.        ,  810.51074734,    0.        ,\n",
       "           0.        ,  847.58261588,    0.        ,    0.        ,\n",
       "           0.        ,    0.        ,    0.        ,  879.31609567,\n",
       "           0.        ,    0.        ,  785.90156315,  693.14958159,\n",
       "           0.        ,    0.        ,  794.13220096,  706.2493142 ,\n",
       "         950.12401525,    0.        ,    0.        ])}"
      ]
     },
     "execution_count": 42,
     "metadata": {},
     "output_type": "execute_result"
    }
   ],
   "source": [
    "hists = load(path+'manyplot_'+str(year)+'_V'+str(version)+'_'+str(rg)+'.scaled')\n",
    "bkg_hists = hists['bkg']\n",
    "bkg_hists['recoilphi'].integrate('region', 'wmcr').integrate('systematic','nominal').values()"
   ]
  },
  {
   "cell_type": "code",
   "execution_count": 63,
   "metadata": {
    "scrolled": true
   },
   "outputs": [
    {
     "name": "stdout",
     "output_type": "stream",
     "text": [
      "withoutnlo_posGenW_applyHEM\n",
      "      0.00\n",
      "     49.30\n",
      "    199.49\n",
      "    218.98\n",
      "    195.11\n",
      "    190.40\n",
      "    191.39\n",
      "    175.35\n",
      "    183.42\n",
      "     72.94\n",
      "      3.34\n",
      "      0.00\n",
      "      0.00\n",
      "     15.82\n",
      "\n",
      "withnlo_posGenW_applyHEM\n",
      "      0.00\n",
      "     44.61\n",
      "    180.18\n",
      "    199.25\n",
      "    176.30\n",
      "    171.74\n",
      "    173.09\n",
      "    158.94\n",
      "    166.45\n",
      "     67.32\n",
      "      3.00\n",
      "      0.00\n",
      "      0.00\n",
      "     14.43\n",
      "\n",
      "withnlo_allGenW_applyHEM\n",
      "      0.00\n",
      "     47.92\n",
      "    219.20\n",
      "    212.20\n",
      "    230.83\n",
      "    217.36\n",
      "    224.89\n",
      "    165.96\n",
      "    212.54\n",
      "    104.71\n",
      "     -0.82\n",
      "      0.00\n",
      "      0.00\n",
      "     16.90\n",
      "\n",
      "withoutnlo_allGenW_applyHEM\n",
      "      0.00\n",
      "     75.61\n",
      "    436.48\n",
      "    391.43\n",
      "    434.18\n",
      "    404.17\n",
      "    370.78\n",
      "    313.93\n",
      "    409.70\n",
      "    154.60\n",
      "     17.24\n",
      "     42.39\n",
      "     37.03\n",
      "     72.58\n",
      "\n",
      "withnlo_posGenW_noHEMcut\n",
      "      0.00\n",
      "   -128.74\n",
      "   -531.51\n",
      "   -586.78\n",
      "   -508.76\n",
      "   -507.10\n",
      "   -499.50\n",
      "   -458.65\n",
      "   -539.52\n",
      "   -511.20\n",
      "   -822.96\n",
      "   -558.29\n",
      "   -575.70\n",
      "   -867.01\n",
      "\n",
      "withoutnlo_negGenW_applyHEMcut\n",
      "      0.00\n",
      "     45.95\n",
      "    135.07\n",
      "    205.38\n",
      "     99.05\n",
      "    112.53\n",
      "    100.24\n",
      "    172.44\n",
      "    102.10\n",
      "      0.00\n",
      "     11.26\n",
      "      0.00\n",
      "      0.00\n",
      "     11.69\n",
      "\n",
      "withnlo_negGenW_applyHEMcut\n",
      "      0.00\n",
      "     41.68\n",
      "    122.75\n",
      "    187.30\n",
      "     90.02\n",
      "    102.42\n",
      "     91.05\n",
      "    158.03\n",
      "     92.49\n",
      "      0.00\n",
      "     10.01\n",
      "      0.00\n",
      "      0.00\n",
      "     10.64\n",
      "\n",
      "withoutnlo_negGenW_noHEMcut\n",
      "      0.00\n",
      "     45.95\n",
      "    135.07\n",
      "    205.38\n",
      "     99.05\n",
      "    112.53\n",
      "    100.24\n",
      "    172.44\n",
      "    113.79\n",
      "     69.27\n",
      "     92.84\n",
      "    136.64\n",
      "    213.38\n",
      "    155.73\n",
      "\n",
      "withnlo_negGenW_noHEMcut\n",
      "      0.00\n",
      "     41.68\n",
      "    122.75\n",
      "    187.30\n",
      "     90.02\n",
      "    102.42\n",
      "     91.05\n",
      "    158.03\n",
      "    103.00\n",
      "     62.23\n",
      "     83.42\n",
      "    123.33\n",
      "    193.55\n",
      "    140.54\n",
      "\n",
      "withoutnlo_posGenW_noHEMcut\n",
      "      0.00\n",
      "     49.30\n",
      "    203.88\n",
      "    223.42\n",
      "    195.11\n",
      "    194.39\n",
      "    191.39\n",
      "    175.35\n",
      "    205.70\n",
      "    192.66\n",
      "    314.66\n",
      "    214.61\n",
      "    219.49\n",
      "    330.11\n",
      "\n",
      "withnlo_allGenW_removeHEMmetonCR\n",
      "      0.00\n",
      "     46.17\n",
      "    210.64\n",
      "    205.59\n",
      "    222.06\n",
      "    208.50\n",
      "    216.60\n",
      "    159.42\n",
      "    220.85\n",
      "    210.25\n",
      "    319.42\n",
      "    187.48\n",
      "    192.68\n",
      "    358.75\n",
      "\n"
     ]
    }
   ],
   "source": [
    "for cat in compare_hists.keys():\n",
    "    print(cat)\n",
    "    for i in range(14):\n",
    "        print('%10.2f' % compare_hists[cat]['WJets-1J'][i])\n",
    "    print()"
   ]
  },
  {
   "cell_type": "code",
   "execution_count": 69,
   "metadata": {
    "scrolled": false
   },
   "outputs": [
    {
     "name": "stdout",
     "output_type": "stream",
     "text": [
      "withoutnlo_posGenW_applyHEM\n",
      "sum:  5704.863818858616\n",
      "\n",
      "withnlo_posGenW_applyHEM\n",
      "sum:  5179.013483712787\n",
      "\n",
      "withnlo_allGenW_applyHEM\n",
      "sum:  6462.916812865159\n",
      "\n",
      "withoutnlo_allGenW_applyHEM\n",
      "sum:  11810.374785611451\n",
      "\n",
      "withnlo_posGenW_noHEMcut\n",
      "sum:  -18764.110219522772\n",
      "\n",
      "withoutnlo_negGenW_applyHEMcut\n",
      "sum:  3472.099212046171\n",
      "\n",
      "withnlo_negGenW_applyHEMcut\n",
      "sum:  3154.8398243477773\n",
      "\n",
      "withoutnlo_negGenW_noHEMcut\n",
      "sum:  4362.51004060334\n",
      "\n",
      "withnlo_negGenW_noHEMcut\n",
      "sum:  3962.8306803877954\n",
      "\n",
      "withoutnlo_posGenW_noHEMcut\n",
      "sum:  7161.689593752289\n",
      "\n",
      "withnlo_allGenW_removeHEMmetonCR\n",
      "sum:  7505.169936783725\n",
      "\n"
     ]
    }
   ],
   "source": [
    "for cat in compare_hists.keys():\n",
    "    print(cat)\n",
    "    letssum = 0\n",
    "    for i in range(len(compare_hists[cat]['WJets-1J'])):\n",
    "        #print('%10.2f' % compare_hists[cat]['WJets-1J'][i])\n",
    "        letssum = letssum+compare_hists[cat]['WJets-1J'][i]\n",
    "    print('sum: ', letssum)\n",
    "    print()"
   ]
  },
  {
   "cell_type": "markdown",
   "metadata": {},
   "source": [
    "withnlo_posGenW_applyHEM\n",
    "sum:  5179.013483712787\n",
    "\n",
    "withnlo_negGenW_applyHEMcut\n",
    "sum:  3154.8398243477773\n",
    "    \n",
    "withnlo_allGenW_applyHEM\n",
    "sum:  6462.916812865159"
   ]
  },
  {
   "cell_type": "markdown",
   "metadata": {},
   "source": [
    "withoutnlo_posGenW_applyHEM\n",
    "sum:  5704.863818858616\n",
    "    \n",
    "withoutnlo_negGenW_applyHEMcut\n",
    "sum:  3472.099212046171\n",
    "    \n"
   ]
  },
  {
   "cell_type": "code",
   "execution_count": 5,
   "metadata": {},
   "outputs": [],
   "source": [
    "vlabel = {'71': 'Fix sumw positive genW',\n",
    "         '72': 'Fix sumw negative genW',\n",
    "         '73': 'Fix sumw all genW'}\n",
    "region = 'wmcr'\n",
    "vari  = 'recoilphi'\n",
    "fix_sumw = {}\n",
    "systematic = 'nominal'"
   ]
  },
  {
   "cell_type": "code",
   "execution_count": 19,
   "metadata": {},
   "outputs": [],
   "source": [
    "# With nlo ewk, positive genWeight, correct HEM cut (file V71)\n",
    "version = 71\n",
    "hists = load(path+'manyplot_'+str(year)+'_V'+str(version)+'.scaled')\n",
    "bkg_hists = hists['bkg']\n",
    "fix_sumw['71']={\n",
    "    'WJets-1J': bkg_hists[vari].integrate('region', region).integrate('systematic','nominal').values()[('WJets-1J',)],\n",
    "}\n"
   ]
  },
  {
   "cell_type": "code",
   "execution_count": null,
   "metadata": {},
   "outputs": [],
   "source": [
    "rebin_title = 'lets find issue'\n",
    "ak15bin = [250, 345, 440, 535, 630, 725, 915, 1200]\n",
    "rebkg_hists = bkg_hists[v].rebin(v, hist.Bin('newbin', rebin_title, [250, 345, 440, 535, 630, 725, 915, 1200]))\n",
    "plot.plot1d(rebkg_hists.integrate('region', region).integrate('systematic',systematic),\n",
    "        overlay=\"process\",\n",
    "        ax=ax,\n",
    "        overflow='over',\n",
    "        clear=False,\n",
    "        stack=True,\n",
    "        fill_opts=fill_opts,\n",
    "        error_opts=error_opts\n",
    ")"
   ]
  },
  {
   "cell_type": "code",
   "execution_count": 20,
   "metadata": {},
   "outputs": [],
   "source": [
    "# With nlo ewk, negative genWeight, correct HEM cut (file V72)\n",
    "version = 72\n",
    "hists = load(path+'manyplot_'+str(year)+'_V'+str(version)+'.scaled')\n",
    "bkg_hists = hists['bkg']\n",
    "fix_sumw['72']={\n",
    "    'WJets-1J': bkg_hists[vari].integrate('region', region).integrate('systematic','nominal').values()[('WJets-1J',)],\n",
    "}\n"
   ]
  },
  {
   "cell_type": "code",
   "execution_count": 21,
   "metadata": {},
   "outputs": [],
   "source": [
    "# With nlo ewk, negative genWeight, correct HEM cut (file V73)\n",
    "version = 73\n",
    "hists = load(path+'manyplot_'+str(year)+'_V'+str(version)+'.scaled')\n",
    "bkg_hists = hists['bkg']\n",
    "fix_sumw['73']={\n",
    "    'WJets-1J': bkg_hists[vari].integrate('region', region).integrate('systematic','nominal').values()[('WJets-1J',)],\n",
    "}\n"
   ]
  },
  {
   "cell_type": "code",
   "execution_count": 22,
   "metadata": {},
   "outputs": [
    {
     "name": "stdout",
     "output_type": "stream",
     "text": [
      "73\n",
      "      0.00\n",
      "     46.17\n",
      "    210.64\n",
      "    205.59\n",
      "    222.06\n",
      "    208.50\n",
      "    216.60\n",
      "    159.42\n",
      "    220.85\n",
      "    210.25\n",
      "    319.42\n",
      "    187.48\n",
      "    192.68\n",
      "    358.75\n",
      "\n",
      "71\n",
      "      0.00\n",
      "     68.27\n",
      "    275.74\n",
      "    304.91\n",
      "    269.79\n",
      "    262.81\n",
      "    264.88\n",
      "    243.22\n",
      "    275.47\n",
      "    237.95\n",
      "    357.98\n",
      "    247.65\n",
      "    284.50\n",
      "    427.62\n",
      "\n",
      "72\n",
      "      0.00\n",
      "    -22.10\n",
      "    -65.09\n",
      "    -99.32\n",
      "    -47.74\n",
      "    -54.31\n",
      "    -48.28\n",
      "    -83.80\n",
      "    -54.62\n",
      "    -27.70\n",
      "    -38.56\n",
      "    -60.17\n",
      "    -91.82\n",
      "    -68.87\n",
      "\n"
     ]
    }
   ],
   "source": [
    "for cat in fix_sumw.keys():\n",
    "    print(cat)\n",
    "    for i in range(14):\n",
    "        print('%10.2f' % fix_sumw[cat]['WJets-1J'][i])\n",
    "    print()"
   ]
  },
  {
   "cell_type": "code",
   "execution_count": 27,
   "metadata": {},
   "outputs": [
    {
     "name": "stdout",
     "output_type": "stream",
     "text": [
      "All genW\n",
      "yield sum: 7505.17\n",
      "\n",
      "Positive genW\n",
      "yield sum: 9520.21\n",
      "\n",
      "Negative genW\n",
      "yield sum: -2015.04\n",
      "\n"
     ]
    }
   ],
   "source": [
    "cat_name = {\n",
    "    '71': 'Positive genW',\n",
    "    '72': 'Negative genW',\n",
    "    '73': 'All genW'\n",
    "}\n",
    "for cat in fix_sumw.keys():\n",
    "    print(cat_name[cat])\n",
    "    letssum = 0\n",
    "    for i in range(len(fix_sumw[cat]['WJets-1J'])):\n",
    "        #print('%10.2f' % compare_hists[cat]['WJets-1J'][i])\n",
    "        letssum = letssum+fix_sumw[cat]['WJets-1J'][i]\n",
    "    print('yield sum: %.2f' % letssum)\n",
    "    print()"
   ]
  },
  {
   "cell_type": "code",
   "execution_count": 6,
   "metadata": {},
   "outputs": [],
   "source": [
    "##### DATA\n",
    "# With nlo ewk, all genWeight, correct HEM cut (file V60)\n",
    "version = 60\n",
    "hists = load(path+'manyplot_'+str(year)+'_V'+str(version)+'.scaled')\n",
    "bkg_hists = hists['bkg']\n",
    "dat_hists = hists['data']\n",
    "vari = 'recoil'\n",
    "region = 'tecr'\n",
    "fix_sumw['60']={\n",
    "    'data': dat_hists[vari].integrate('region', region).integrate('systematic','nominal').values()[('EGamma',)],\n",
    "}\n"
   ]
  },
  {
   "cell_type": "code",
   "execution_count": 7,
   "metadata": {},
   "outputs": [
    {
     "data": {
      "text/plain": [
       "{('EGamma',): 8312.0}"
      ]
     },
     "execution_count": 7,
     "metadata": {},
     "output_type": "execute_result"
    }
   ],
   "source": [
    "dat_hists[vari].integrate('region', region).integrate('systematic','nominal').sum(vari).values()"
   ]
  },
  {
   "cell_type": "code",
   "execution_count": 8,
   "metadata": {},
   "outputs": [
    {
     "data": {
      "text/plain": [
       "{(): 5965.401433692916}"
      ]
     },
     "execution_count": 8,
     "metadata": {},
     "output_type": "execute_result"
    }
   ],
   "source": [
    "bkg_hists[vari].integrate('region', region).integrate('systematic','nominal').integrate('process').sum(vari).values()"
   ]
  },
  {
   "cell_type": "code",
   "execution_count": 61,
   "metadata": {},
   "outputs": [
    {
     "data": {
      "text/plain": [
       "11303"
      ]
     },
     "execution_count": 61,
     "metadata": {},
     "output_type": "execute_result"
    }
   ],
   "source": [
    "8896+2407"
   ]
  },
  {
   "cell_type": "code",
   "execution_count": 62,
   "metadata": {},
   "outputs": [
    {
     "data": {
      "text/plain": [
       "5430.75"
      ]
     },
     "execution_count": 62,
     "metadata": {},
     "output_type": "execute_result"
    }
   ],
   "source": [
    "5205.29+225.46"
   ]
  },
  {
   "cell_type": "code",
   "execution_count": 57,
   "metadata": {},
   "outputs": [
    {
     "data": {
      "text/plain": [
       "{('EGamma',\n",
       "  'wecr',\n",
       "  'nominal'): array([    0., 12316.,  9360.,  7149.,  5466.,  4112.,  3201.,  4373.,\n",
       "         4292.,  2941.,   263.]),\n",
       " ('EGamma',\n",
       "  'tecr',\n",
       "  'nominal'): array([   0., 2045., 1510., 1119.,  870.,  623.,  481.,  676.,  596.,\n",
       "         361.,   31.]),\n",
       " ('EGamma',\n",
       "  'zecr',\n",
       "  'nominal'): array([  0., 329., 240., 148., 121.,  82.,  51.,  70.,  66.,  31.,   0.]),\n",
       " ('EGamma',\n",
       "  'gcr',\n",
       "  'nominal'): array([    0., 30738., 21641., 15689., 11378.,  8512.,  6260.,  8376.,\n",
       "         7760.,  4928.,   334.])}"
      ]
     },
     "execution_count": 57,
     "metadata": {},
     "output_type": "execute_result"
    }
   ],
   "source": [
    "dat_hists['recoil'].values()"
   ]
  },
  {
   "cell_type": "code",
   "execution_count": 69,
   "metadata": {},
   "outputs": [
    {
     "data": {
      "text/plain": [
       "dict_keys(['sumw', 'template', 'cutflow', 'recoil', 'recoilphi', 'mT', 'eT_miss', 'eTphi_miss', 'nfj', 'ndflvj', 'ntighte', 'ntightmu', 'ntightpho', 'fj1pt', 'fj1phi', 'fj1eta', 'elept', 'elephi', 'eleeta', 'mupt', 'muphi', 'mueta', 'phopt', 'phophi', 'phoeta', 'dphi_fj_recoil', 'dphi_j_met', 'partWpt', 'partWpt2', 'genWeight_roi', 'nloewk_roi', 'TvsQCD'])"
      ]
     },
     "execution_count": 69,
     "metadata": {},
     "output_type": "execute_result"
    }
   ],
   "source": [
    "bkg_hists.keys()"
   ]
  },
  {
   "cell_type": "code",
   "execution_count": 89,
   "metadata": {},
   "outputs": [
    {
     "name": "stdout",
     "output_type": "stream",
     "text": [
      "3997502500.68\n",
      "3996974562.43\n",
      "296988117.29\n",
      "285852193.56\n",
      "278374188.52\n",
      "278309413.90\n",
      "111725.54\n",
      "109258.51\n",
      "107202.23\n",
      "107157.66\n",
      "92112.95\n",
      "87494.55\n",
      "86459.90\n",
      "76763.66\n",
      "47542.35\n",
      "0.00\n",
      "0.00\n",
      "0.00\n",
      "0.00\n",
      "0.00\n",
      "\n",
      "1329168820.0\n",
      "1327453226.0\n",
      "643031738.0\n",
      "602526956.0\n",
      "602526956.0\n",
      "602526956.0\n",
      "156798.0\n",
      "150785.0\n",
      "147139.0\n",
      "147044.0\n",
      "118827.0\n",
      "109633.0\n",
      "103973.0\n",
      "89808.0\n",
      "53485.0\n",
      "0.0\n",
      "0.0\n",
      "0.0\n",
      "0.0\n",
      "0.0\n"
     ]
    }
   ],
   "source": [
    "region = 'wecr'\n",
    "for i in range(len(bkg_hists['cutflow'].integrate('region', region).integrate('process').values()[()])):\n",
    "    a = bkg_hists['cutflow'].integrate('region', region).integrate('process').values()[()][i]\n",
    "    print('%.2f' % a)\n",
    "print()\n",
    "for i in range(len(dat_hists['cutflow'].integrate('region', region).integrate('process').values()[()])):\n",
    "    a = dat_hists['cutflow'].integrate('region', region).integrate('process').values()[()][i]\n",
    "    print('%.1f' % a)"
   ]
  },
  {
   "cell_type": "code",
   "execution_count": 86,
   "metadata": {},
   "outputs": [
    {
     "data": {
      "text/plain": [
       "1.2269703616173113"
      ]
     },
     "execution_count": 86,
     "metadata": {},
     "output_type": "execute_result"
    }
   ],
   "source": [
    "53485/43591.11"
   ]
  },
  {
   "cell_type": "code",
   "execution_count": 87,
   "metadata": {},
   "outputs": [
    {
     "data": {
      "text/plain": [
       "1.1684576158025601"
      ]
     },
     "execution_count": 87,
     "metadata": {},
     "output_type": "execute_result"
    }
   ],
   "source": [
    "48723.0/41698.56"
   ]
  },
  {
   "cell_type": "code",
   "execution_count": 38,
   "metadata": {},
   "outputs": [
    {
     "name": "stdout",
     "output_type": "stream",
     "text": [
      "/Users/hongjieun/MonoTop/notebook_plotting/check_events/manyplot_2018_V62.scaled\n",
      "1329168820.0\n",
      "1327453226.0\n",
      "643031738.0\n",
      "602526956.0\n",
      "602526956.0\n",
      "602526956.0\n",
      "156798.0\n",
      "150785.0\n",
      "147139.0\n",
      "147044.0\n",
      "118827.0\n",
      "109633.0\n",
      "103973.0\n",
      "89808.0\n",
      "53485.0\n",
      "0.0\n",
      "0.0\n",
      "0.0\n",
      "0.0\n",
      "0.0\n"
     ]
    }
   ],
   "source": [
    "##### DATA\n",
    "# manymanyplopt.scaled version From Taiwoo\n",
    "version = 62\n",
    "year = 2018\n",
    "print(path+'manyplot_'+str(year)+'_V'+str(version)+'.scaled')\n",
    "hists = load(path+'manyplot_'+str(year)+'_V'+str(version)+'.scaled')\n",
    "bkg_hists = hists['bkg']\n",
    "dat_hists = hists['data']\n",
    "region = 'wecr'\n",
    "vari = 'recoil'\n",
    "\n",
    "#for i in range(len(bkg_hists['cutflow'].integrate('region', region).integrate('process').values()[()])):\n",
    "#    a = bkg_hists['cutflow'].integrate('region', region).integrate('process').values()[()][i]\n",
    "#    print('%.2f' % a)\n",
    "#print()\n",
    "for i in range(len(dat_hists['cutflow'].integrate('region', region).integrate('process').values()[()])):\n",
    "    a = dat_hists['cutflow'].integrate('region', region).integrate('process').values()[()][i]\n",
    "    print('%.1f' % a)"
   ]
  },
  {
   "cell_type": "code",
   "execution_count": 33,
   "metadata": {},
   "outputs": [
    {
     "data": {
      "text/plain": [
       "{('EGamma',\n",
       "  'wecr'): array([    0., 11826.,  8975.,  6824.,  5258.,  3939.,  3066.,  4190.,\n",
       "         4135.,  2825.,   249.]),\n",
       " ('EGamma',\n",
       "  'tecr'): array([   0., 1933., 1428., 1049.,  837.,  596.,  459.,  649.,  572.,\n",
       "         347.,   28.]),\n",
       " ('EGamma',\n",
       "  'zecr'): array([  0., 320., 234., 141., 115.,  79.,  49.,  69.,  63.,  30.,   0.]),\n",
       " ('EGamma',\n",
       "  'gcr'): array([    0., 29574., 20800., 15113., 10966.,  8213.,  6033.,  8060.,\n",
       "         7466.,  4735.,   322.])}"
      ]
     },
     "execution_count": 33,
     "metadata": {},
     "output_type": "execute_result"
    }
   ],
   "source": [
    "dat_hists[vari].integrate('systematic','nominal').values()"
   ]
  },
  {
   "cell_type": "code",
   "execution_count": null,
   "metadata": {},
   "outputs": [],
   "source": []
  }
 ],
 "metadata": {
  "kernelspec": {
   "display_name": "Python 3",
   "language": "python",
   "name": "python3"
  },
  "language_info": {
   "codemirror_mode": {
    "name": "ipython",
    "version": 3
   },
   "file_extension": ".py",
   "mimetype": "text/x-python",
   "name": "python",
   "nbconvert_exporter": "python",
   "pygments_lexer": "ipython3",
   "version": "3.7.7"
  }
 },
 "nbformat": 4,
 "nbformat_minor": 4
}
